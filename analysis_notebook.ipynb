{
 "cells": [
  {
   "cell_type": "markdown",
   "metadata": {},
   "source": [
    "# Principal components analysis for order parameter construction"
   ]
  },
  {
   "cell_type": "code",
   "execution_count": 2,
   "metadata": {},
   "outputs": [],
   "source": [
    "from analysis_tools.read_gsd import ReadGSD\n",
    "from analysis_tools.feature_creation import FrameToFeatures, TrajectoryToFeatures\n",
    "from analysis_tools.feature_creation import FrameToFeaturesComposition, TrajectoryToFeaturesComposition"
   ]
  },
  {
   "cell_type": "markdown",
   "metadata": {},
   "source": [
    "---"
   ]
  },
  {
   "cell_type": "markdown",
   "metadata": {},
   "source": [
    "## Models"
   ]
  },
  {
   "cell_type": "code",
   "execution_count": 3,
   "metadata": {
    "collapsed": true
   },
   "outputs": [],
   "source": [
    "from numpy import array, arange"
   ]
  },
  {
   "cell_type": "markdown",
   "metadata": {},
   "source": [
    "### Model data"
   ]
  },
  {
   "cell_type": "markdown",
   "metadata": {},
   "source": [
    "#### Hard disks"
   ]
  },
  {
   "cell_type": "code",
   "execution_count": 6,
   "metadata": {
    "collapsed": true
   },
   "outputs": [],
   "source": [
    "N_nn = 5000 #number of nearest nighbors for pca analysis\n",
    "split = 1 #chunks the data up so it can be processed by the pca tool if really large\n",
    "particle_inc = 500 #skip this many particles in generating features\n",
    "nn_inc = 10 #reduces the number of nearest neighbors to include as features\n",
    "method = ['distance']"
   ]
  },
  {
   "cell_type": "code",
   "execution_count": 7,
   "metadata": {
    "collapsed": true
   },
   "outputs": [],
   "source": [
    "#specify what data to read in and process\n",
    "file_data = [(arange(0.550, 0.690001, 0.005), '../hoomd_disks/trajectories_4000p'), \n",
    "             (arange(0.695, 0.820001, 0.005),'../hoomd_disks/trajectories_4000p_longer')]"
   ]
  },
  {
   "cell_type": "markdown",
   "metadata": {},
   "source": [
    "#### Widom-Rowlinson"
   ]
  },
  {
   "cell_type": "code",
   "execution_count": 98,
   "metadata": {
    "collapsed": true
   },
   "outputs": [],
   "source": [
    "N_nn = 5000 #number of nearest nighbors for pca analysis\n",
    "split = 2 #chunks the data up so it can be processed by the pca tool if really large\n",
    "particle_inc = 100 #skip this many particles in generating features\n",
    "nn_inc = 10 #reduces the number of nearest neighbors to include as features\n",
    "method = ['distance']"
   ]
  },
  {
   "cell_type": "code",
   "execution_count": 99,
   "metadata": {
    "collapsed": true
   },
   "outputs": [],
   "source": [
    "#specify what data to read in and process\n",
    "file_data = [(arange(0.100, 2.06001, 0.04), '../hoomd_disks/trajectories_ww_4000p')]"
   ]
  },
  {
   "cell_type": "markdown",
   "metadata": {},
   "source": [
    "### Density range"
   ]
  },
  {
   "cell_type": "code",
   "execution_count": 25,
   "metadata": {
    "collapsed": true
   },
   "outputs": [],
   "source": [
    "etas = []\n",
    "[etas.extend(etas_) for etas_, _ in file_data]\n",
    "etas = array(etas)"
   ]
  },
  {
   "cell_type": "markdown",
   "metadata": {
    "collapsed": true
   },
   "source": [
    "---"
   ]
  },
  {
   "cell_type": "markdown",
   "metadata": {},
   "source": [
    "## Perfom PCA"
   ]
  },
  {
   "cell_type": "code",
   "execution_count": 10,
   "metadata": {
    "collapsed": true
   },
   "outputs": [],
   "source": [
    "from numpy import array_split\n",
    "from sklearn.decomposition import IncrementalPCA"
   ]
  },
  {
   "cell_type": "markdown",
   "metadata": {},
   "source": [
    "### Train on ideal gas structure first to identify trivial variance contributions"
   ]
  },
  {
   "cell_type": "code",
   "execution_count": null,
   "metadata": {
    "collapsed": true
   },
   "outputs": [],
   "source": [
    "n_components_ig = 50  #for this the more the better, however, 50 is probably enough"
   ]
  },
  {
   "cell_type": "code",
   "execution_count": 12,
   "metadata": {
    "scrolled": true
   },
   "outputs": [
    {
     "name": "stdout",
     "output_type": "stream",
     "text": [
      "eta=0.55\n",
      "1\n",
      "eta=0.555\n",
      "1\n",
      "eta=0.56\n",
      "1\n",
      "eta=0.565\n",
      "1\n",
      "eta=0.57\n",
      "1\n",
      "eta=0.575\n",
      "1\n",
      "eta=0.58\n",
      "1\n",
      "eta=0.585\n",
      "1\n",
      "eta=0.59\n",
      "1\n",
      "eta=0.595\n",
      "1\n",
      "eta=0.6\n",
      "1\n",
      "eta=0.605\n",
      "1\n",
      "eta=0.61\n",
      "1\n",
      "eta=0.615\n",
      "1\n",
      "eta=0.62\n",
      "1\n",
      "eta=0.625\n",
      "1\n",
      "eta=0.63\n",
      "1\n",
      "eta=0.635\n",
      "1\n",
      "eta=0.64\n",
      "1\n",
      "eta=0.645\n",
      "1\n",
      "eta=0.65\n",
      "1\n",
      "eta=0.655\n",
      "1\n",
      "eta=0.66\n",
      "1\n",
      "eta=0.665\n",
      "1\n",
      "eta=0.67\n",
      "1\n",
      "eta=0.675\n",
      "1\n",
      "eta=0.68\n",
      "1\n",
      "eta=0.685\n",
      "1\n",
      "eta=0.69\n",
      "1\n",
      "eta=0.695\n",
      "1\n",
      "eta=0.7\n",
      "1\n",
      "eta=0.705\n",
      "1\n",
      "eta=0.71\n",
      "1\n",
      "eta=0.715\n",
      "1\n",
      "eta=0.72\n",
      "1\n",
      "eta=0.725\n",
      "1\n",
      "eta=0.73\n",
      "1\n",
      "eta=0.735\n",
      "1\n",
      "eta=0.74\n",
      "1\n",
      "eta=0.745\n",
      "1\n",
      "eta=0.75\n",
      "1\n",
      "eta=0.755\n",
      "1\n",
      "eta=0.76\n",
      "1\n",
      "eta=0.765\n",
      "1\n",
      "eta=0.77\n",
      "1\n",
      "eta=0.775\n",
      "1\n",
      "eta=0.78\n",
      "1\n",
      "eta=0.785\n",
      "1\n",
      "eta=0.79\n",
      "1\n",
      "eta=0.795\n",
      "1\n",
      "eta=0.8\n",
      "1\n",
      "eta=0.805\n",
      "1\n",
      "eta=0.81\n",
      "1\n",
      "eta=0.815\n",
      "1\n",
      "eta=0.82\n",
      "1\n"
     ]
    }
   ],
   "source": [
    "randomize = True\n",
    "incpca_ig = IncrementalPCA(n_components=n_components_ig, whiten=False)\n",
    "\n",
    "frames = None\n",
    "features = None\n",
    "split_features = None\n",
    "\n",
    "for etas_, file_base in file_data:\n",
    "    for eta in etas_:\n",
    "        print 'eta={}'.format(eta)\n",
    "        filename = \"{}/trajectory_{:.4f}.gsd\".format(file_base, eta)\n",
    "        frames = ReadGSD(filename, shuffle_data=True, randomize=randomize)\n",
    "        \n",
    "        frames_split = array_split(frames, split)\n",
    "        frames = None\n",
    "        count = 0\n",
    "        for frames_partial in frames_split:\n",
    "            features_partial = TrajectoryToFeatures(frames_partial, \n",
    "                                                    N_nn=N_nn, \n",
    "                                                    method=method, \n",
    "                                                    particle_inc=particle_inc, \n",
    "                                                    nn_inc=nn_inc)\n",
    "            incpca_ig.partial_fit(features_partial)\n",
    "            count = count + 1\n",
    "            print count\n",
    "        frames_split = None"
   ]
  },
  {
   "cell_type": "markdown",
   "metadata": {},
   "source": [
    "### Train on actual data with trivial data variance removed by the ideal gas model"
   ]
  },
  {
   "cell_type": "code",
   "execution_count": 13,
   "metadata": {
    "collapsed": true
   },
   "outputs": [],
   "source": [
    "n_components = 20 #this number will not affect the quality of the result just the computation time and amount of info returned"
   ]
  },
  {
   "cell_type": "code",
   "execution_count": 14,
   "metadata": {
    "scrolled": true
   },
   "outputs": [
    {
     "name": "stdout",
     "output_type": "stream",
     "text": [
      "eta=0.55\n",
      "1\n",
      "eta=0.555\n",
      "1\n",
      "eta=0.56\n",
      "1\n",
      "eta=0.565\n",
      "1\n",
      "eta=0.57\n",
      "1\n",
      "eta=0.575\n",
      "1\n",
      "eta=0.58\n",
      "1\n",
      "eta=0.585\n",
      "1\n",
      "eta=0.59\n",
      "1\n",
      "eta=0.595\n",
      "1\n",
      "eta=0.6\n",
      "1\n",
      "eta=0.605\n",
      "1\n",
      "eta=0.61\n",
      "1\n",
      "eta=0.615\n",
      "1\n",
      "eta=0.62\n",
      "1\n",
      "eta=0.625\n",
      "1\n",
      "eta=0.63\n",
      "1\n",
      "eta=0.635\n",
      "1\n",
      "eta=0.64\n",
      "1\n",
      "eta=0.645\n",
      "1\n",
      "eta=0.65\n",
      "1\n",
      "eta=0.655\n",
      "1\n",
      "eta=0.66\n",
      "1\n",
      "eta=0.665\n",
      "1\n",
      "eta=0.67\n",
      "1\n",
      "eta=0.675\n",
      "1\n",
      "eta=0.68\n",
      "1\n",
      "eta=0.685\n",
      "1\n",
      "eta=0.69\n",
      "1\n",
      "eta=0.695\n",
      "1\n",
      "eta=0.7\n",
      "1\n",
      "eta=0.705\n",
      "1\n",
      "eta=0.71\n",
      "1\n",
      "eta=0.715\n",
      "1\n",
      "eta=0.72\n",
      "1\n",
      "eta=0.725\n",
      "1\n",
      "eta=0.73\n",
      "1\n",
      "eta=0.735\n",
      "1\n",
      "eta=0.74\n",
      "1\n",
      "eta=0.745\n",
      "1\n",
      "eta=0.75\n",
      "1\n",
      "eta=0.755\n",
      "1\n",
      "eta=0.76\n",
      "1\n",
      "eta=0.765\n",
      "1\n",
      "eta=0.77\n",
      "1\n",
      "eta=0.775\n",
      "1\n",
      "eta=0.78\n",
      "1\n",
      "eta=0.785\n",
      "1\n",
      "eta=0.79\n",
      "1\n",
      "eta=0.795\n",
      "1\n",
      "eta=0.8\n",
      "1\n",
      "eta=0.805\n",
      "1\n",
      "eta=0.81\n",
      "1\n",
      "eta=0.815\n",
      "1\n",
      "eta=0.82\n",
      "1\n"
     ]
    }
   ],
   "source": [
    "randomize = False\n",
    "incpca = IncrementalPCA(n_components=n_components , whiten=False)\n",
    "\n",
    "frames = None\n",
    "features = None\n",
    "split_features = None\n",
    "\n",
    "for etas_, file_base in file_data:\n",
    "    for eta in etas_:\n",
    "        print 'eta={}'.format(eta)\n",
    "        filename = \"{}/trajectory_{:.4f}.gsd\".format(file_base, eta)\n",
    "        frames = ReadGSD(filename, shuffle_data=True, randomize=randomize)\n",
    "        \n",
    "        frames_split = array_split(frames, split)\n",
    "        frames = None\n",
    "        count = 0\n",
    "        for frames_partial in frames_split:\n",
    "            features_partial = TrajectoryToFeatures(frames_partial, \n",
    "                                                    N_nn=N_nn, \n",
    "                                                    method=method, \n",
    "                                                    particle_inc=particle_inc, \n",
    "                                                    nn_inc=nn_inc)\n",
    "            features_partial_ig_projection = incpca_ig.inverse_transform(incpca_ig.transform(features_partial))\n",
    "            incpca.partial_fit(features_partial - features_partial_ig_projection)\n",
    "            count = count + 1\n",
    "            print count\n",
    "        frames_split = None"
   ]
  },
  {
   "cell_type": "markdown",
   "metadata": {},
   "source": [
    "### Compute the order parameters based on two nested models"
   ]
  },
  {
   "cell_type": "code",
   "execution_count": 15,
   "metadata": {
    "scrolled": true
   },
   "outputs": [
    {
     "name": "stdout",
     "output_type": "stream",
     "text": [
      "eta=0.55\n",
      "1\n",
      "eta=0.555\n",
      "1\n",
      "eta=0.56\n",
      "1\n",
      "eta=0.565\n",
      "1\n",
      "eta=0.57\n",
      "1\n",
      "eta=0.575\n",
      "1\n",
      "eta=0.58\n",
      "1\n",
      "eta=0.585\n",
      "1\n",
      "eta=0.59\n",
      "1\n",
      "eta=0.595\n",
      "1\n",
      "eta=0.6\n",
      "1\n",
      "eta=0.605\n",
      "1\n",
      "eta=0.61\n",
      "1\n",
      "eta=0.615\n",
      "1\n",
      "eta=0.62\n",
      "1\n",
      "eta=0.625\n",
      "1\n",
      "eta=0.63\n",
      "1\n",
      "eta=0.635\n",
      "1\n",
      "eta=0.64\n",
      "1\n",
      "eta=0.645\n",
      "1\n",
      "eta=0.65\n",
      "1\n",
      "eta=0.655\n",
      "1\n",
      "eta=0.66\n",
      "1\n",
      "eta=0.665\n",
      "1\n",
      "eta=0.67\n",
      "1\n",
      "eta=0.675\n",
      "1\n",
      "eta=0.68\n",
      "1\n",
      "eta=0.685\n",
      "1\n",
      "eta=0.69\n",
      "1\n",
      "eta=0.695\n",
      "1\n",
      "eta=0.7\n",
      "1\n",
      "eta=0.705\n",
      "1\n",
      "eta=0.71\n",
      "1\n",
      "eta=0.715\n",
      "1\n",
      "eta=0.72\n",
      "1\n",
      "eta=0.725\n",
      "1\n",
      "eta=0.73\n",
      "1\n",
      "eta=0.735\n",
      "1\n",
      "eta=0.74\n",
      "1\n",
      "eta=0.745\n",
      "1\n",
      "eta=0.75\n",
      "1\n",
      "eta=0.755\n",
      "1\n",
      "eta=0.76\n",
      "1\n",
      "eta=0.765\n",
      "1\n",
      "eta=0.77\n",
      "1\n",
      "eta=0.775\n",
      "1\n",
      "eta=0.78\n",
      "1\n",
      "eta=0.785\n",
      "1\n",
      "eta=0.79\n",
      "1\n",
      "eta=0.795\n",
      "1\n",
      "eta=0.8\n",
      "1\n",
      "eta=0.805\n",
      "1\n",
      "eta=0.81\n",
      "1\n",
      "eta=0.815\n",
      "1\n",
      "eta=0.82\n",
      "1\n"
     ]
    }
   ],
   "source": [
    "frames = None\n",
    "features = None\n",
    "raw_OPs = []\n",
    "\n",
    "for etas_, file_base in file_data:\n",
    "    for eta in etas_:\n",
    "        print 'eta={}'.format(eta)\n",
    "        filename = \"{}/trajectory_{:.4f}.gsd\".format(file_base, eta)\n",
    "        frames = ReadGSD(filename, shuffle_data=True, randomize=randomize)\n",
    "        \n",
    "        frames_split = array_split(frames, split)\n",
    "        frames = None\n",
    "        count = 0\n",
    "        means = []\n",
    "        raw_OPs_single = []\n",
    "        for frames_partial in frames_split:\n",
    "            features_partial = TrajectoryToFeatures(frames_partial, \n",
    "                                                    N_nn=N_nn, \n",
    "                                                    method=method, \n",
    "                                                    particle_inc=particle_inc, \n",
    "                                                    nn_inc=nn_inc)\n",
    "            features_partial_ig_projection = incpca_ig.inverse_transform(incpca_ig.transform(features_partial))\n",
    "            transformed_features_partial = incpca.transform(features_partial - features_partial_ig_projection)\n",
    "            raw_OPs_single.append(transformed_features_partial)\n",
    "            count = count + 1\n",
    "            print count\n",
    "            \n",
    "        raw_OPs.append(raw_OPs_single)  "
   ]
  },
  {
   "cell_type": "markdown",
   "metadata": {},
   "source": [
    "### Compute order parameter stats"
   ]
  },
  {
   "cell_type": "code",
   "execution_count": 16,
   "metadata": {
    "collapsed": true
   },
   "outputs": [],
   "source": [
    "from numpy import array, mean, std, abs"
   ]
  },
  {
   "cell_type": "code",
   "execution_count": 17,
   "metadata": {
    "collapsed": true
   },
   "outputs": [],
   "source": [
    "OPs = []\n",
    "OPs_std = []\n",
    "OPs_abs = []\n",
    "\n",
    "for single_eta in raw_OPs:\n",
    "    merged_data = []\n",
    "    for split in single_eta:\n",
    "        merged_data.extend(split)\n",
    "    \n",
    "    OPs.append(mean((split), axis=0))\n",
    "    OPs_std.append(std(split, axis=0))\n",
    "    OPs_abs.append(mean(abs(split), axis=0))\n",
    "\n",
    "OPs = array(OPs)\n",
    "OPs_std = array(OPs_std)\n",
    "OPs_abs = array(OPs_abs)"
   ]
  },
  {
   "cell_type": "markdown",
   "metadata": {
    "collapsed": true
   },
   "source": [
    "---"
   ]
  },
  {
   "cell_type": "markdown",
   "metadata": {
    "collapsed": true
   },
   "source": [
    "## Check out the results of PCA"
   ]
  },
  {
   "cell_type": "code",
   "execution_count": 19,
   "metadata": {
    "collapsed": true
   },
   "outputs": [],
   "source": [
    "import matplotlib.pyplot as plt\n",
    "import numpy as np\n",
    "%matplotlib inline "
   ]
  },
  {
   "cell_type": "markdown",
   "metadata": {},
   "source": [
    "### Explained variance"
   ]
  },
  {
   "cell_type": "code",
   "execution_count": 21,
   "metadata": {},
   "outputs": [
    {
     "name": "stderr",
     "output_type": "stream",
     "text": [
      "/home/ryanj/miniconda2/lib/python2.7/site-packages/ipykernel_launcher.py:9: MatplotlibDeprecationWarning: The set_axis_bgcolor function was deprecated in version 2.0. Use set_facecolor instead.\n",
      "  if __name__ == '__main__':\n"
     ]
    },
    {
     "data": {
      "image/png": "[encoded data removed]",
      "text/plain": [
       "<matplotlib.figure.Figure at 0x7f0c018ae0d0>"
      ]
     },
     "metadata": {},
     "output_type": "display_data"
    }
   ],
   "source": [
    "#plot the principal components\n",
    "colors = 200*['green', 'purple', 'orange', 'teal', 'black', 'red']\n",
    "\n",
    "plt.plot(incpca.explained_variance_ratio_, marker='o', linewidth=1.0, markersize=12, color = 'red', markerfacecolor='None')    \n",
    "\n",
    "#backround grid details\n",
    "axes = plt.gca()\n",
    "axes.grid(b = True, which = 'both', axis = 'both', color = 'gray', linestyle = '-', alpha = 0.5, linewidth = 0.5) \n",
    "axes.set_axis_bgcolor('white')  \n",
    "\n",
    "#font scpecifications\n",
    "title_font = {'family' : 'arial', 'color'  : 'black', 'weight' : 'heavy','size': 20}\n",
    "axis_label_font = {'family' : 'arial', 'color'  : 'black', 'weight' : 'normal','size': 20}                                                   \n",
    "\n",
    "#figure size and tick style\n",
    "plt.rcParams[\"figure.figsize\"] = [6,6]\n",
    "plt.rc('axes',edgecolor='black',linewidth=1)\n",
    "plt.tick_params(which='both', axis='both', color='black', length=4, width=0.5)\n",
    "plt.rcParams['xtick.direction'] = 'in'\n",
    "plt.rcParams['ytick.direction'] = 'in'\n",
    "\n",
    "#plt.yscale('log')\n",
    "\n",
    "plt.xlabel(r'$\\eta$', y=3, fontsize=20, fontdict = axis_label_font)\n",
    "plt.ylabel(r'Explained variance', fontsize=20, fontdict = axis_label_font)\n",
    "\n",
    "#title and axis labels\n",
    "plt.tick_params(axis='both', labelsize=20)\n",
    "plt.title('Explained variance for pricipal components', y=1.05, fontdict = title_font)\n",
    "\n",
    "plt.show()"
   ]
  },
  {
   "cell_type": "markdown",
   "metadata": {},
   "source": [
    "### Principal component weights"
   ]
  },
  {
   "cell_type": "code",
   "execution_count": 23,
   "metadata": {},
   "outputs": [
    {
     "name": "stderr",
     "output_type": "stream",
     "text": [
      "/home/ryanj/miniconda2/lib/python2.7/site-packages/ipykernel_launcher.py:16: MatplotlibDeprecationWarning: The set_axis_bgcolor function was deprecated in version 2.0. Use set_facecolor instead.\n",
      "  app.launch_new_instance()\n"
     ]
    },
    {
     "data": {
      "image/png": "[encoded data removed]",
      "text/plain": [
       "<matplotlib.figure.Figure at 0x7f0c0189e950>"
      ]
     },
     "metadata": {},
     "output_type": "display_data"
    }
   ],
   "source": [
    "#plt.axvspan(0.700, 0.716, alpha=0.2, color='grey')\n",
    "#plt.axvspan(0.716, 0.730, alpha=0.2, color='blue')\n",
    "\n",
    "#plt.axvspan(0.716, 0.716001, alpha=1, color='black')\n",
    "#plt.axvspan(0.781, 0.781001, alpha=1, color='black')\n",
    "\n",
    "#plot the principal components\n",
    "colors = 200*['green', 'purple', 'orange', 'teal', 'black', 'red']\n",
    "for i in range(0,1):\n",
    "    p_data = incpca.components_[i]\n",
    "    plt.plot(range(len(incpca.components_[0])), p_data, marker='o', linewidth = 1.0, markersize=5, color = colors[i])  \n",
    "\n",
    "#backround grid details\n",
    "axes = plt.gca()\n",
    "axes.grid(b = True, which = 'both', axis = 'both', color = 'gray', linestyle = '-', alpha = 0.5, linewidth = 0.5) \n",
    "axes.set_axis_bgcolor('white')  \n",
    "\n",
    "#font scpecifications\n",
    "title_font = {'family' : 'arial', 'color'  : 'black', 'weight' : 'heavy','size': 20}\n",
    "axis_label_font = {'family' : 'arial', 'color'  : 'black', 'weight' : 'normal','size': 20}                                                   \n",
    "\n",
    "#figure size and tick style\n",
    "plt.rcParams[\"figure.figsize\"] = [6,6]\n",
    "plt.rc('axes',edgecolor='black',linewidth=1)\n",
    "plt.tick_params(which='both', axis='both', color='black', length=4, width=0.5)\n",
    "plt.rcParams['xtick.direction'] = 'in'\n",
    "plt.rcParams['ytick.direction'] = 'in'\n",
    "\n",
    "#axis range and labels (also specify if log or not)\n",
    "#plt.xlim(0.1,3000)\n",
    "#plt.ylim(-1,0)\n",
    "#plt.ylim(0,0.5)\n",
    "#plt.ylim(-2,1.5)\n",
    "#plt.ylim(5, 13)\n",
    "#plt.ylim(1, 0.001)\n",
    "#plt.ylim(-2000.0, 2000)\n",
    "\n",
    "#plt.xscale('log')\n",
    "plt.xlabel(r'$n$th nerest neighbor', y=3, fontsize=20, fontdict = axis_label_font)\n",
    "plt.ylabel(r'$P_{i}$ weight', fontsize=20, fontdict = axis_label_font)\n",
    "\n",
    "#title and axis labels\n",
    "plt.tick_params(axis='both', labelsize=20)\n",
    "plt.title('PCA feature weights', y=1.05, fontdict = title_font)\n",
    "\n",
    "plt.show()"
   ]
  },
  {
   "cell_type": "markdown",
   "metadata": {},
   "source": [
    "### Order parameters"
   ]
  },
  {
   "cell_type": "code",
   "execution_count": 28,
   "metadata": {},
   "outputs": [
    {
     "name": "stderr",
     "output_type": "stream",
     "text": [
      "/home/ryanj/miniconda2/lib/python2.7/site-packages/ipykernel_launcher.py:16: MatplotlibDeprecationWarning: The set_axis_bgcolor function was deprecated in version 2.0. Use set_facecolor instead.\n",
      "  app.launch_new_instance()\n"
     ]
    },
    {
     "data": {
      "image/png": "[encoded data removed]",
      "text/plain": [
       "<matplotlib.figure.Figure at 0x7f0c064a0510>"
      ]
     },
     "metadata": {},
     "output_type": "display_data"
    }
   ],
   "source": [
    "#highlight the transition region if found\n",
    "#plt.axvspan(0.700, 0.716, alpha=0.2, color='grey')\n",
    "#plt.axvspan(0.716, 0.730, alpha=0.2, color='blue')\n",
    "\n",
    "#plot the principal components\n",
    "colors = 200*['green', 'purple', 'orange', 'teal', 'black', 'red']\n",
    "for i in range(0,1): #12,13\n",
    "    p_data = OPs[:,i]\n",
    "    plt.plot(etas, (p_data), marker='o', linewidth = 1.0, markersize=12, color = colors[i], markerfacecolor='None')\n",
    "    p_data = OPs_std[:,i]\n",
    "    #plt.plot(etas, (p_data), marker='o', linewidth = 1.0, markersize=12, color = colors[i])\n",
    "\n",
    "#backround grid details\n",
    "axes = plt.gca()\n",
    "axes.grid(b = True, which = 'both', axis = 'both', color = 'gray', linestyle = '-', alpha = 0.5, linewidth = 0.5) \n",
    "axes.set_axis_bgcolor('white')  \n",
    "\n",
    "#font scpecifications\n",
    "title_font = {'family' : 'arial', 'color'  : 'black', 'weight' : 'heavy','size': 20}\n",
    "axis_label_font = {'family' : 'arial', 'color'  : 'black', 'weight' : 'normal','size': 20}                                                   \n",
    "\n",
    "#figure size and tick style\n",
    "plt.rcParams[\"figure.figsize\"] = [6,6]\n",
    "plt.rc('axes',edgecolor='black',linewidth=1)\n",
    "plt.tick_params(which='both', axis='both', color='black', length=4, width=0.5)\n",
    "plt.rcParams['xtick.direction'] = 'in'\n",
    "plt.rcParams['ytick.direction'] = 'in'\n",
    "\n",
    "#axis range and labels (also specify if log or not)\n",
    "#plt.xlim(0.60, 0.84)\n",
    "#plt.ylim(-0.1,0.1)\n",
    "\n",
    "#plt.ylim(-0.1,0.1)\n",
    "#plt.yscale('log')\n",
    "\n",
    "#plt.yscale('log')\n",
    "plt.xlabel(r'$\\eta$', y=3, fontsize=20, fontdict = axis_label_font)\n",
    "plt.ylabel(r'$\\langle P_{i} \\rangle$ and $\\langle |P_{i}| \\rangle$', fontsize=20, fontdict = axis_label_font)\n",
    "\n",
    "#title and axis labels\n",
    "plt.tick_params(axis='both', labelsize=20)\n",
    "plt.title('PCA hard disks', y=1.05, fontdict = title_font)\n",
    "\n",
    "plt.show()"
   ]
  },
  {
   "cell_type": "code",
   "execution_count": null,
   "metadata": {
    "collapsed": true
   },
   "outputs": [],
   "source": []
  },
  {
   "cell_type": "code",
   "execution_count": null,
   "metadata": {
    "collapsed": true
   },
   "outputs": [],
   "source": []
  },
  {
   "cell_type": "markdown",
   "metadata": {},
   "source": [
    "# END"
   ]
  },
  {
   "cell_type": "code",
   "execution_count": null,
   "metadata": {
    "collapsed": true
   },
   "outputs": [],
   "source": []
  },
  {
   "cell_type": "code",
   "execution_count": null,
   "metadata": {
    "collapsed": true
   },
   "outputs": [],
   "source": []
  },
  {
   "cell_type": "code",
   "execution_count": null,
   "metadata": {
    "collapsed": true
   },
   "outputs": [],
   "source": []
  },
  {
   "cell_type": "code",
   "execution_count": null,
   "metadata": {
    "collapsed": true
   },
   "outputs": [],
   "source": []
  },
  {
   "cell_type": "code",
   "execution_count": null,
   "metadata": {
    "collapsed": true
   },
   "outputs": [],
   "source": []
  },
  {
   "cell_type": "code",
   "execution_count": 20,
   "metadata": {
    "scrolled": true
   },
   "outputs": [
    {
     "name": "stdout",
     "output_type": "stream",
     "text": [
      "eta=0.55\n",
      "\n",
      "1\n",
      "2\n",
      "eta=0.555\n",
      "\n",
      "1\n",
      "2\n",
      "eta=0.56\n",
      "\n",
      "1\n",
      "2\n",
      "eta=0.565\n",
      "\n",
      "1\n",
      "2\n",
      "eta=0.57\n",
      "\n",
      "1\n",
      "2\n",
      "eta=0.575\n",
      "\n",
      "1\n",
      "2\n",
      "eta=0.58\n",
      "\n",
      "1\n",
      "2\n",
      "eta=0.585\n",
      "\n",
      "1\n",
      "2\n",
      "eta=0.59\n",
      "\n",
      "1\n",
      "2\n",
      "eta=0.595\n",
      "\n",
      "1\n",
      "2\n",
      "eta=0.6\n",
      "\n",
      "1\n",
      "2\n",
      "eta=0.605\n",
      "\n",
      "1\n",
      "2\n",
      "eta=0.61\n",
      "\n",
      "1\n",
      "2\n",
      "eta=0.615\n",
      "\n",
      "1\n",
      "2\n",
      "eta=0.62\n",
      "\n",
      "1\n",
      "2\n",
      "eta=0.625\n",
      "\n",
      "1\n",
      "2\n",
      "eta=0.63\n",
      "\n",
      "1\n",
      "2\n",
      "eta=0.635\n",
      "\n",
      "1\n",
      "2\n",
      "eta=0.64\n",
      "\n",
      "1\n",
      "2\n",
      "eta=0.645\n",
      "\n",
      "1\n",
      "2\n",
      "eta=0.65\n",
      "\n",
      "1\n",
      "2\n",
      "eta=0.655\n",
      "\n",
      "1\n",
      "2\n",
      "eta=0.66\n",
      "\n",
      "1\n",
      "2\n",
      "eta=0.665\n",
      "\n",
      "1\n",
      "2\n",
      "eta=0.67\n",
      "\n",
      "1\n",
      "2\n",
      "eta=0.675\n",
      "\n",
      "1\n",
      "2\n",
      "eta=0.68\n",
      "\n",
      "1\n",
      "2\n",
      "eta=0.685\n",
      "\n",
      "1\n",
      "2\n",
      "eta=0.69\n",
      "\n",
      "1\n",
      "2\n",
      "eta=0.695\n",
      "\n",
      "1\n",
      "2\n",
      "eta=0.7\n",
      "\n",
      "1\n",
      "2\n",
      "eta=0.705\n",
      "\n",
      "1\n",
      "2\n",
      "eta=0.71\n",
      "\n",
      "1\n",
      "2\n",
      "eta=0.715\n",
      "\n",
      "1\n",
      "2\n",
      "eta=0.72\n",
      "\n",
      "1\n",
      "2\n",
      "eta=0.725\n",
      "\n",
      "1\n",
      "2\n",
      "eta=0.73\n",
      "\n",
      "1\n",
      "2\n",
      "eta=0.735\n",
      "\n",
      "1\n",
      "2\n",
      "eta=0.74\n",
      "\n",
      "1\n",
      "2\n",
      "eta=0.745\n",
      "\n",
      "1\n",
      "2\n",
      "eta=0.75\n",
      "\n",
      "1\n",
      "2\n",
      "eta=0.755\n",
      "\n",
      "1\n",
      "2\n",
      "eta=0.76\n",
      "\n",
      "1\n",
      "2\n",
      "eta=0.765\n",
      "\n",
      "1\n",
      "2\n",
      "eta=0.77\n",
      "\n",
      "1\n",
      "2\n",
      "eta=0.775\n",
      "\n",
      "1\n",
      "2\n",
      "eta=0.78\n",
      "\n",
      "1\n",
      "2\n",
      "eta=0.785\n",
      "\n",
      "1\n",
      "2\n",
      "eta=0.79\n",
      "\n",
      "1\n",
      "2\n",
      "eta=0.795\n",
      "\n",
      "1\n",
      "2\n",
      "eta=0.8\n",
      "\n",
      "1\n",
      "2\n",
      "eta=0.805\n",
      "\n",
      "1\n",
      "2\n",
      "eta=0.81\n",
      "\n",
      "1\n",
      "2\n",
      "eta=0.815\n",
      "\n",
      "1\n",
      "2\n",
      "eta=0.82\n",
      "\n",
      "1\n",
      "2\n"
     ]
    }
   ],
   "source": [
    "randomize = False\n",
    "incpca = IncrementalPCA(n_components=16, whiten=False)\n",
    "\n",
    "frames = None\n",
    "features = None\n",
    "split_features = None\n",
    "\n",
    "for etas, file_base in file_data:\n",
    "    for eta in etas:\n",
    "        print 'eta={}\\n'.format(eta)\n",
    "        filename = \"{}/trajectory_{:.4f}.gsd\".format(file_base, eta)\n",
    "        frames = ReadGSD(filename, shuffle_data=True, randomize=randomize)\n",
    "        \n",
    "        frames_split = array_split(frames, split)\n",
    "        frames = None\n",
    "        count = 0\n",
    "        for frames_partial in frames_split:\n",
    "            features_partial = TrajectoryToFeatures(frames_partial, N_nn=N_nn, method=method, particle_inc=particle_inc, nn_inc=nn_inc)\n",
    "            incpca.partial_fit(features_partial)\n",
    "            count = count + 1\n",
    "            print count\n",
    "        frames_split = None"
   ]
  },
  {
   "cell_type": "code",
   "execution_count": null,
   "metadata": {
    "collapsed": true
   },
   "outputs": [],
   "source": []
  },
  {
   "cell_type": "code",
   "execution_count": 87,
   "metadata": {
    "scrolled": true
   },
   "outputs": [
    {
     "name": "stdout",
     "output_type": "stream",
     "text": [
      "eta=0.1\n",
      "\n",
      "1\n",
      "2\n",
      "eta=0.14\n",
      "\n",
      "1\n",
      "2\n",
      "eta=0.18\n",
      "\n",
      "1\n",
      "2\n",
      "eta=0.22\n",
      "\n",
      "1\n",
      "2\n",
      "eta=0.26\n",
      "\n",
      "1\n",
      "2\n",
      "eta=0.3\n",
      "\n",
      "1\n",
      "2\n",
      "eta=0.34\n",
      "\n",
      "1\n",
      "2\n",
      "eta=0.38\n",
      "\n",
      "1\n",
      "2\n",
      "eta=0.42\n",
      "\n",
      "1\n",
      "2\n",
      "eta=0.46\n",
      "\n",
      "1\n",
      "2\n",
      "eta=0.5\n",
      "\n",
      "1\n",
      "2\n",
      "eta=0.54\n",
      "\n",
      "1\n",
      "2\n",
      "eta=0.58\n",
      "\n",
      "1\n",
      "2\n",
      "eta=0.62\n",
      "\n",
      "1\n",
      "2\n",
      "eta=0.66\n",
      "\n",
      "1\n",
      "2\n",
      "eta=0.7\n",
      "\n",
      "1\n",
      "2\n",
      "eta=0.74\n",
      "\n",
      "1\n",
      "2\n",
      "eta=0.78\n",
      "\n",
      "1\n",
      "2\n",
      "eta=0.82\n",
      "\n",
      "1\n",
      "2\n",
      "eta=0.86\n",
      "\n",
      "1\n",
      "2\n",
      "eta=0.9\n",
      "\n",
      "1\n",
      "2\n",
      "eta=0.94\n",
      "\n",
      "1\n",
      "2\n",
      "eta=0.98\n",
      "\n",
      "1\n",
      "2\n",
      "eta=1.02\n",
      "\n",
      "1\n",
      "2\n",
      "eta=1.06\n",
      "\n",
      "1\n",
      "2\n",
      "eta=1.1\n",
      "\n",
      "1\n",
      "2\n",
      "eta=1.14\n",
      "\n",
      "1\n",
      "2\n",
      "eta=1.18\n",
      "\n",
      "1\n",
      "2\n",
      "eta=1.22\n",
      "\n",
      "1\n",
      "2\n",
      "eta=1.26\n",
      "\n",
      "1\n",
      "2\n",
      "eta=1.3\n",
      "\n",
      "1\n",
      "2\n",
      "eta=1.34\n",
      "\n",
      "1\n",
      "2\n",
      "eta=1.38\n",
      "\n",
      "1\n",
      "2\n",
      "eta=1.42\n",
      "\n",
      "1\n",
      "2\n",
      "eta=1.46\n",
      "\n",
      "1\n",
      "2\n",
      "eta=1.5\n",
      "\n",
      "1\n",
      "2\n",
      "eta=1.54\n",
      "\n",
      "1\n",
      "2\n",
      "eta=1.58\n",
      "\n",
      "1\n",
      "2\n",
      "eta=1.62\n",
      "\n",
      "1\n",
      "2\n",
      "eta=1.66\n",
      "\n",
      "1\n",
      "2\n",
      "eta=1.7\n",
      "\n",
      "1\n",
      "2\n",
      "eta=1.74\n",
      "\n",
      "1\n",
      "2\n",
      "eta=1.78\n",
      "\n",
      "1\n",
      "2\n",
      "eta=1.82\n",
      "\n",
      "1\n",
      "2\n",
      "eta=1.86\n",
      "\n",
      "1\n",
      "2\n",
      "eta=1.9\n",
      "\n",
      "1\n",
      "2\n",
      "eta=1.94\n",
      "\n",
      "1\n",
      "2\n",
      "eta=1.98\n",
      "\n",
      "1\n",
      "2\n",
      "eta=2.02\n",
      "\n",
      "1\n",
      "2\n",
      "eta=2.06\n",
      "\n",
      "1\n",
      "2\n"
     ]
    }
   ],
   "source": [
    "OPs = []\n",
    "frames = None\n",
    "features = None\n",
    "raw_OPs = []\n",
    "\n",
    "for etas, file_base in file_data:\n",
    "    for eta in etas:\n",
    "        print 'eta={}\\n'.format(eta)\n",
    "        filename = \"{}/trajectory_{:.4f}.gsd\".format(file_base, eta)\n",
    "        frames = ReadGSD(filename, shuffle_data=True, randomize=randomize)\n",
    "        \n",
    "        frames_split = array_split(frames, split)\n",
    "        frames = None\n",
    "        count = 0\n",
    "        means = []\n",
    "        raw_OPs_single = []\n",
    "        for frames_partial in frames_split:\n",
    "            features_partial = TrajectoryToFeatures(frames_partial, N_nn=N_nn, method=method, particle_inc=particle_inc, nn_inc=nn_inc)\n",
    "            transformed_features_partial = incpca.transform(features_partial)\n",
    "            means.append(mean(transformed_features_partial, axis=0))\n",
    "            raw_OPs_single.append(transformed_features_partial)\n",
    "            count = count + 1\n",
    "            print count\n",
    "            \n",
    "        means = array(means)\n",
    "        op = mean(means, axis=0)\n",
    "        OPs.append(op)\n",
    "        raw_OPs.append(raw_OPs_single)\n",
    "    \n",
    "OPs = array(OPs)        "
   ]
  },
  {
   "cell_type": "code",
   "execution_count": 204,
   "metadata": {},
   "outputs": [
    {
     "data": {
      "text/plain": [
       "['distance']"
      ]
     },
     "execution_count": 204,
     "metadata": {},
     "output_type": "execute_result"
    }
   ],
   "source": [
    "method"
   ]
  },
  {
   "cell_type": "code",
   "execution_count": 71,
   "metadata": {
    "collapsed": true
   },
   "outputs": [],
   "source": [
    "from numpy import std, abs, power\n",
    "from scipy.stats import moment\n",
    "\n",
    "OPs = []\n",
    "OPs_std = []\n",
    "OPs_abs = []\n",
    "OPs_third = []\n",
    "for single_eta in raw_OPs:\n",
    "    merged_data = []\n",
    "    for split in single_eta:\n",
    "        merged_data.extend(split)\n",
    "    \n",
    "    OPs.append(mean((split), axis=0))\n",
    "    OPs_std.append(std(split, axis=0))\n",
    "    OPs_abs.append(mean(abs(split), axis=0))\n",
    "    OPs_third.append(moment(split, 4, axis=0))\n",
    "\n",
    "OPs = array(OPs)\n",
    "OPs_std = array(OPs_std)\n",
    "OPs_abs = array(OPs_abs)\n",
    "OPs_third = array(OPs_third)"
   ]
  },
  {
   "cell_type": "code",
   "execution_count": 73,
   "metadata": {
    "collapsed": true
   },
   "outputs": [],
   "source": [
    "etas = arange(0.550, 0.820001, 0.005)"
   ]
  },
  {
   "cell_type": "code",
   "execution_count": 97,
   "metadata": {},
   "outputs": [
    {
     "name": "stderr",
     "output_type": "stream",
     "text": [
      "/home/ryanj/miniconda2/lib/python2.7/site-packages/ipykernel_launcher.py:23: MatplotlibDeprecationWarning: The set_axis_bgcolor function was deprecated in version 2.0. Use set_facecolor instead.\n"
     ]
    },
    {
     "data": {
      "image/png": "[encoded data removed]",
      "text/plain": [
       "<matplotlib.figure.Figure at 0x7fe999959050>"
      ]
     },
     "metadata": {},
     "output_type": "display_data"
    }
   ],
   "source": [
    "#highlight the transition region if found\n",
    "plt.axvspan(0.700, 0.716, alpha=0.2, color='grey')\n",
    "plt.axvspan(0.716, 0.730, alpha=0.2, color='blue')\n",
    "\n",
    "plt.axvspan(0.716, 0.716001, alpha=1, color='black')\n",
    "plt.axvspan(0.76, 0.76001, alpha=1, color='black')\n",
    "\n",
    "#plt.axvspan(0.72, 0.72001, alpha=10, color='black')\n",
    "\n",
    "#plot the principal components\n",
    "colors = 200*['green', 'purple', 'orange', 'teal', 'black', 'red']\n",
    "for i in range(0,1): #12,13\n",
    "    p_data = OPs[:,i]\n",
    "    plt.plot(etas, (p_data), marker='o', linewidth = 1.0, markersize=12, color = colors[i], markerfacecolor='None')\n",
    "    p_data = OPs_std[:,i]\n",
    "    #plt.plot(etas, (p_data), marker='o', linewidth = 1.0, markersize=12, color = colors[i])\n",
    "    \n",
    "#plt.plot(etas, num_defects, marker='o', linewidth = 1.0, markersize=10, color = 'black')    \n",
    "\n",
    "#backround grid details\n",
    "axes = plt.gca()\n",
    "axes.grid(b = True, which = 'both', axis = 'both', color = 'gray', linestyle = '-', alpha = 0.5, linewidth = 0.5) \n",
    "axes.set_axis_bgcolor('white')  \n",
    "\n",
    "#font scpecifications\n",
    "title_font = {'family' : 'arial', 'color'  : 'black', 'weight' : 'heavy','size': 20}\n",
    "axis_label_font = {'family' : 'arial', 'color'  : 'black', 'weight' : 'normal','size': 20}                                                   \n",
    "\n",
    "#figure size and tick style\n",
    "plt.rcParams[\"figure.figsize\"] = [6,6]\n",
    "plt.rc('axes',edgecolor='black',linewidth=1)\n",
    "plt.tick_params(which='both', axis='both', color='black', length=4, width=0.5)\n",
    "plt.rcParams['xtick.direction'] = 'in'\n",
    "plt.rcParams['ytick.direction'] = 'in'\n",
    "\n",
    "#axis range and labels (also specify if log or not)\n",
    "#plt.xlim(0.60, 0.84)\n",
    "#plt.ylim(-0.1,0.1)\n",
    "\n",
    "#plt.ylim(-0.1,0.1)\n",
    "#plt.yscale('log')\n",
    "\n",
    "#plt.yscale('log')\n",
    "plt.xlabel(r'$\\eta$', y=3, fontsize=20, fontdict = axis_label_font)\n",
    "plt.ylabel(r'$\\langle P_{i} \\rangle$ and $\\langle |P_{i}| \\rangle$', fontsize=20, fontdict = axis_label_font)\n",
    "\n",
    "#title and axis labels\n",
    "plt.tick_params(axis='both', labelsize=20)\n",
    "plt.title('PCA hard disks', y=1.05, fontdict = title_font)\n",
    "\n",
    "plt.show()"
   ]
  },
  {
   "cell_type": "code",
   "execution_count": null,
   "metadata": {
    "collapsed": true
   },
   "outputs": [],
   "source": []
  },
  {
   "cell_type": "code",
   "execution_count": null,
   "metadata": {
    "collapsed": true
   },
   "outputs": [],
   "source": []
  },
  {
   "cell_type": "markdown",
   "metadata": {
    "collapsed": true
   },
   "source": [
    "## Load in the saved model data"
   ]
  },
  {
   "cell_type": "code",
   "execution_count": 28,
   "metadata": {
    "collapsed": true
   },
   "outputs": [],
   "source": [
    "#load the pickled model\n",
    "with open('./processed_data/incpca.pkl', 'rb') as handle:\n",
    "    incpca = pickle.load(handle)"
   ]
  },
  {
   "cell_type": "code",
   "execution_count": 29,
   "metadata": {
    "scrolled": true
   },
   "outputs": [
    {
     "name": "stdout",
     "output_type": "stream",
     "text": [
      "0.55\n",
      "0.555\n",
      "0.56\n",
      "0.565\n",
      "0.57\n",
      "0.575\n",
      "0.58\n",
      "0.585\n",
      "0.59\n",
      "0.595\n",
      "0.6\n",
      "0.605\n",
      "0.61\n",
      "0.615\n",
      "0.62\n",
      "0.625\n",
      "0.63\n",
      "0.635\n",
      "0.64\n",
      "0.645\n",
      "0.65\n",
      "0.655\n",
      "0.66\n",
      "0.665\n",
      "0.67\n",
      "0.675\n",
      "0.68\n",
      "0.685\n",
      "0.69\n",
      "0.695\n",
      "0.7\n",
      "0.705\n",
      "0.71\n",
      "0.715\n",
      "0.72\n",
      "0.725\n",
      "0.73\n",
      "0.735\n",
      "0.74\n",
      "0.745\n",
      "0.75\n",
      "0.755\n",
      "0.76\n",
      "0.765\n",
      "0.77\n",
      "0.775\n",
      "0.78\n",
      "0.785\n",
      "0.79\n",
      "0.795\n",
      "0.8\n",
      "0.805\n",
      "0.81\n"
     ]
    },
    {
     "ename": "IOError",
     "evalue": "[Errno 2] No such file or directory: './processed_data/raw_OPs_0.8100.pkl'",
     "output_type": "error",
     "traceback": [
      "\u001b[0;31m\u001b[0m",
      "\u001b[0;31mIOError\u001b[0mTraceback (most recent call last)",
      "\u001b[0;32m<ipython-input-29-ac25164f1fca>\u001b[0m in \u001b[0;36m<module>\u001b[0;34m()\u001b[0m\n\u001b[1;32m      9\u001b[0m \u001b[0;32mfor\u001b[0m \u001b[0meta\u001b[0m \u001b[0;32min\u001b[0m \u001b[0metas\u001b[0m\u001b[0;34m:\u001b[0m\u001b[0;34m\u001b[0m\u001b[0m\n\u001b[1;32m     10\u001b[0m     \u001b[0;32mprint\u001b[0m \u001b[0meta\u001b[0m\u001b[0;34m\u001b[0m\u001b[0m\n\u001b[0;32m---> 11\u001b[0;31m     \u001b[0;32mwith\u001b[0m \u001b[0mopen\u001b[0m\u001b[0;34m(\u001b[0m\u001b[0;34m'./processed_data/raw_OPs_{:.4f}.pkl'\u001b[0m\u001b[0;34m.\u001b[0m\u001b[0mformat\u001b[0m\u001b[0;34m(\u001b[0m\u001b[0meta\u001b[0m\u001b[0;34m)\u001b[0m\u001b[0;34m,\u001b[0m \u001b[0;34m'rb'\u001b[0m\u001b[0;34m)\u001b[0m \u001b[0;32mas\u001b[0m \u001b[0mhandle\u001b[0m\u001b[0;34m:\u001b[0m\u001b[0;34m\u001b[0m\u001b[0m\n\u001b[0m\u001b[1;32m     12\u001b[0m         \u001b[0mraw_OPs_split\u001b[0m \u001b[0;34m=\u001b[0m \u001b[0mpickle\u001b[0m\u001b[0;34m.\u001b[0m\u001b[0mload\u001b[0m\u001b[0;34m(\u001b[0m\u001b[0mhandle\u001b[0m\u001b[0;34m)\u001b[0m\u001b[0;34m\u001b[0m\u001b[0m\n\u001b[1;32m     13\u001b[0m         \u001b[0mraw_OPs\u001b[0m \u001b[0;34m=\u001b[0m \u001b[0;34m[\u001b[0m\u001b[0;34m]\u001b[0m\u001b[0;34m\u001b[0m\u001b[0m\n",
      "\u001b[0;31mIOError\u001b[0m: [Errno 2] No such file or directory: './processed_data/raw_OPs_0.8100.pkl'"
     ]
    }
   ],
   "source": [
    "from numpy import mean, var, abs, arange, array\n",
    "import pickle\n",
    "\n",
    "#load the pickled model\n",
    "raw_OPs_mean = []\n",
    "raw_OPs_abs = []\n",
    "raw_OPs_var = []\n",
    "etas = arange(0.550, 0.820001, 0.005)\n",
    "for eta in etas:\n",
    "    print eta\n",
    "    with open('./processed_data/raw_OPs_{:.4f}.pkl'.format(eta), 'rb') as handle:\n",
    "        raw_OPs_split = pickle.load(handle)\n",
    "        raw_OPs = []\n",
    "        for split in raw_OPs_split:\n",
    "            raw_OPs.extend(split)\n",
    "        raw_OPs_mean.append(mean(raw_OPs, axis=0))\n",
    "        raw_OPs_abs.append(mean(abs(raw_OPs), axis=0))\n",
    "        raw_OPs_var.append(var(raw_OPs, axis=0))\n",
    "raw_OPs_mean = array(raw_OPs_mean)   \n",
    "raw_OPs_abs = array(raw_OPs_abs) \n",
    "raw_OPs_var = array(raw_OPs_var) "
   ]
  },
  {
   "cell_type": "code",
   "execution_count": null,
   "metadata": {
    "collapsed": true
   },
   "outputs": [],
   "source": []
  },
  {
   "cell_type": "markdown",
   "metadata": {},
   "source": [
    "## The amount of variance explained by the components"
   ]
  },
  {
   "cell_type": "code",
   "execution_count": 13,
   "metadata": {
    "collapsed": true
   },
   "outputs": [],
   "source": [
    "import matplotlib.pyplot as plt\n",
    "import numpy as np\n",
    "%matplotlib inline "
   ]
  },
  {
   "cell_type": "code",
   "execution_count": 102,
   "metadata": {},
   "outputs": [
    {
     "name": "stderr",
     "output_type": "stream",
     "text": [
      "/home/ryanj/miniconda2/lib/python2.7/site-packages/ipykernel_launcher.py:12: MatplotlibDeprecationWarning: The set_axis_bgcolor function was deprecated in version 2.0. Use set_facecolor instead.\n",
      "  if sys.path[0] == '':\n"
     ]
    },
    {
     "data": {
      "image/png": "[encoded data removed]",
      "text/plain": [
       "<matplotlib.figure.Figure at 0x7fe999856b90>"
      ]
     },
     "metadata": {},
     "output_type": "display_data"
    }
   ],
   "source": [
    "#plot the principal components\n",
    "colors = 200*['green', 'purple', 'orange', 'teal', 'black', 'red']\n",
    "\n",
    "plt.plot(incpca_ig.explained_variance_ratio_, marker='o', linewidth = 1.0, markersize=12, color = 'red', markerfacecolor='None')\n",
    "plt.plot([sum(incpca_ig.explained_variance_ratio_[:i]) for i in range(1,len(incpca_ig.explained_variance_ratio_))], marker='o', linewidth = 1.0, markersize=12, color = 'red')\n",
    "    \n",
    "#plt.plot(etas, num_defects, marker='o', linewidth = 1.0, markersize=10, color = 'black')    \n",
    "\n",
    "#backround grid details\n",
    "axes = plt.gca()\n",
    "axes.grid(b = True, which = 'both', axis = 'both', color = 'gray', linestyle = '-', alpha = 0.5, linewidth = 0.5) \n",
    "axes.set_axis_bgcolor('white')  \n",
    "\n",
    "#font scpecifications\n",
    "title_font = {'family' : 'arial', 'color'  : 'black', 'weight' : 'heavy','size': 20}\n",
    "axis_label_font = {'family' : 'arial', 'color'  : 'black', 'weight' : 'normal','size': 20}                                                   \n",
    "\n",
    "#figure size and tick style\n",
    "plt.rcParams[\"figure.figsize\"] = [6,6]\n",
    "plt.rc('axes',edgecolor='black',linewidth=1)\n",
    "plt.tick_params(which='both', axis='both', color='black', length=4, width=0.5)\n",
    "plt.rcParams['xtick.direction'] = 'in'\n",
    "plt.rcParams['ytick.direction'] = 'in'\n",
    "\n",
    "plt.ylim(0.0,1.0)\n",
    "#plt.yscale('log')\n",
    "\n",
    "plt.xlabel(r'$\\eta$', y=3, fontsize=20, fontdict = axis_label_font)\n",
    "plt.ylabel(r'Explained variance', fontsize=20, fontdict = axis_label_font)\n",
    "\n",
    "#title and axis labels\n",
    "plt.tick_params(axis='both', labelsize=20)\n",
    "plt.title('PCA hard disks', y=1.05, fontdict = title_font)\n",
    "\n",
    "plt.show()"
   ]
  },
  {
   "cell_type": "code",
   "execution_count": 103,
   "metadata": {},
   "outputs": [
    {
     "name": "stderr",
     "output_type": "stream",
     "text": [
      "/home/ryanj/miniconda2/lib/python2.7/site-packages/ipykernel_launcher.py:12: MatplotlibDeprecationWarning: The set_axis_bgcolor function was deprecated in version 2.0. Use set_facecolor instead.\n",
      "  if sys.path[0] == '':\n"
     ]
    },
    {
     "data": {
      "image/png": "[encoded data removed]",
      "text/plain": [
       "<matplotlib.figure.Figure at 0x7fe99d6484d0>"
      ]
     },
     "metadata": {},
     "output_type": "display_data"
    }
   ],
   "source": [
    "#plot the principal components\n",
    "colors = 200*['green', 'purple', 'orange', 'teal', 'black', 'red']\n",
    "\n",
    "plt.plot(incpca.explained_variance_ratio_, marker='o', linewidth = 1.0, markersize=12, color = 'red', markerfacecolor='None')\n",
    "#plt.plot([sum(incpca.explained_variance_ratio_[:i]) for i in range(1,len(incpca_ig.explained_variance_ratio_))], marker='o', linewidth = 1.0, markersize=12, color = 'red')\n",
    "    \n",
    "#plt.plot(etas, num_defects, marker='o', linewidth = 1.0, markersize=10, color = 'black')    \n",
    "\n",
    "#backround grid details\n",
    "axes = plt.gca()\n",
    "axes.grid(b = True, which = 'both', axis = 'both', color = 'gray', linestyle = '-', alpha = 0.5, linewidth = 0.5) \n",
    "axes.set_axis_bgcolor('white')  \n",
    "\n",
    "#font scpecifications\n",
    "title_font = {'family' : 'arial', 'color'  : 'black', 'weight' : 'heavy','size': 20}\n",
    "axis_label_font = {'family' : 'arial', 'color'  : 'black', 'weight' : 'normal','size': 20}                                                   \n",
    "\n",
    "#figure size and tick style\n",
    "plt.rcParams[\"figure.figsize\"] = [6,6]\n",
    "plt.rc('axes',edgecolor='black',linewidth=1)\n",
    "plt.tick_params(which='both', axis='both', color='black', length=4, width=0.5)\n",
    "plt.rcParams['xtick.direction'] = 'in'\n",
    "plt.rcParams['ytick.direction'] = 'in'\n",
    "\n",
    "#plt.ylim(0.0,1.0)\n",
    "#plt.yscale('log')\n",
    "\n",
    "plt.xlabel(r'$\\eta$', y=3, fontsize=20, fontdict = axis_label_font)\n",
    "plt.ylabel(r'Explained variance', fontsize=20, fontdict = axis_label_font)\n",
    "\n",
    "#title and axis labels\n",
    "plt.tick_params(axis='both', labelsize=20)\n",
    "plt.title('PCA hard disks', y=1.05, fontdict = title_font)\n",
    "\n",
    "plt.show()"
   ]
  },
  {
   "cell_type": "markdown",
   "metadata": {},
   "source": [
    "## Check out the components"
   ]
  },
  {
   "cell_type": "code",
   "execution_count": 110,
   "metadata": {},
   "outputs": [
    {
     "name": "stderr",
     "output_type": "stream",
     "text": [
      "/home/ryanj/miniconda2/lib/python2.7/site-packages/ipykernel_launcher.py:12: MatplotlibDeprecationWarning: The set_axis_bgcolor function was deprecated in version 2.0. Use set_facecolor instead.\n",
      "  if sys.path[0] == '':\n"
     ]
    },
    {
     "data": {
      "image/png": "[encoded data removed]",
      "text/plain": [
       "<matplotlib.figure.Figure at 0x7fe99d9dd210>"
      ]
     },
     "metadata": {},
     "output_type": "display_data"
    }
   ],
   "source": [
    "#plot the principal components\n",
    "colors = 200*['green', 'purple', 'orange', 'teal', 'black', 'red']\n",
    "\n",
    "plt.plot(incpca.explained_variance_ratio_, marker='o', linewidth = 1.0, markersize=12, color = 'red', markerfacecolor='None')\n",
    "#plt.plot([sum(incpca.explained_variance_ratio_[:i]) for i in range(1,len(incpca_ig.explained_variance_ratio_))], marker='o', linewidth = 1.0, markersize=12, color = 'red')\n",
    "    \n",
    "#plt.plot(etas, num_defects, marker='o', linewidth = 1.0, markersize=10, color = 'black')    \n",
    "\n",
    "#backround grid details\n",
    "axes = plt.gca()\n",
    "axes.grid(b = True, which = 'both', axis = 'both', color = 'gray', linestyle = '-', alpha = 0.5, linewidth = 0.5) \n",
    "axes.set_axis_bgcolor('white')  \n",
    "\n",
    "#font scpecifications\n",
    "title_font = {'family' : 'arial', 'color'  : 'black', 'weight' : 'heavy','size': 20}\n",
    "axis_label_font = {'family' : 'arial', 'color'  : 'black', 'weight' : 'normal','size': 20}                                                   \n",
    "\n",
    "#figure size and tick style\n",
    "plt.rcParams[\"figure.figsize\"] = [6,6]\n",
    "plt.rc('axes',edgecolor='black',linewidth=1)\n",
    "plt.tick_params(which='both', axis='both', color='black', length=4, width=0.5)\n",
    "plt.rcParams['xtick.direction'] = 'in'\n",
    "plt.rcParams['ytick.direction'] = 'in'\n",
    "\n",
    "#plt.ylim(0.0,1.0)\n",
    "#plt.yscale('log')\n",
    "\n",
    "plt.xlabel(r'$\\eta$', y=3, fontsize=20, fontdict = axis_label_font)\n",
    "plt.ylabel(r'Explained variance', fontsize=20, fontdict = axis_label_font)\n",
    "\n",
    "#title and axis labels\n",
    "plt.tick_params(axis='both', labelsize=20)\n",
    "plt.title('PCA hard disks', y=1.05, fontdict = title_font)\n",
    "\n",
    "plt.show()"
   ]
  },
  {
   "cell_type": "code",
   "execution_count": 16,
   "metadata": {
    "collapsed": true
   },
   "outputs": [],
   "source": [
    "from numpy import array"
   ]
  },
  {
   "cell_type": "code",
   "execution_count": 17,
   "metadata": {
    "collapsed": true
   },
   "outputs": [],
   "source": [
    "raw_OPs_abs = array(raw_OPs_abs)  "
   ]
  },
  {
   "cell_type": "code",
   "execution_count": 43,
   "metadata": {
    "collapsed": true
   },
   "outputs": [],
   "source": [
    "#load the pickled model\n",
    "with open('./processed_data/incpca.pkl', 'rb') as handle:\n",
    "    incpca = pickle.load(handle)"
   ]
  },
  {
   "cell_type": "code",
   "execution_count": 24,
   "metadata": {
    "scrolled": true
   },
   "outputs": [
    {
     "name": "stdout",
     "output_type": "stream",
     "text": [
      "0.55\n",
      "0.555\n",
      "0.56\n",
      "0.565\n",
      "0.57\n",
      "0.575\n",
      "0.58\n",
      "0.585\n",
      "0.59\n",
      "0.595\n",
      "0.6\n",
      "0.605\n",
      "0.61\n",
      "0.615\n",
      "0.62\n",
      "0.625\n",
      "0.63\n",
      "0.635\n",
      "0.64\n",
      "0.645\n",
      "0.65\n",
      "0.655\n",
      "0.66\n",
      "0.665\n",
      "0.67\n",
      "0.675\n",
      "0.68\n",
      "0.685\n",
      "0.69\n",
      "0.695\n",
      "0.7\n",
      "0.705\n",
      "0.71\n",
      "0.715\n",
      "0.72\n",
      "0.725\n",
      "0.73\n",
      "0.735\n",
      "0.74\n",
      "0.745\n",
      "0.75\n",
      "0.755\n",
      "0.76\n",
      "0.765\n",
      "0.77\n",
      "0.775\n",
      "0.78\n",
      "0.785\n",
      "0.79\n",
      "0.795\n",
      "0.8\n",
      "0.805\n",
      "0.81\n"
     ]
    },
    {
     "ename": "IOError",
     "evalue": "[Errno 2] No such file or directory: './processed_data/raw_OPs_0.8100.pkl'",
     "output_type": "error",
     "traceback": [
      "\u001b[0;31m\u001b[0m",
      "\u001b[0;31mIOError\u001b[0mTraceback (most recent call last)",
      "\u001b[0;32m<ipython-input-24-ac25164f1fca>\u001b[0m in \u001b[0;36m<module>\u001b[0;34m()\u001b[0m\n\u001b[1;32m      9\u001b[0m \u001b[0;32mfor\u001b[0m \u001b[0meta\u001b[0m \u001b[0;32min\u001b[0m \u001b[0metas\u001b[0m\u001b[0;34m:\u001b[0m\u001b[0;34m\u001b[0m\u001b[0m\n\u001b[1;32m     10\u001b[0m     \u001b[0;32mprint\u001b[0m \u001b[0meta\u001b[0m\u001b[0;34m\u001b[0m\u001b[0m\n\u001b[0;32m---> 11\u001b[0;31m     \u001b[0;32mwith\u001b[0m \u001b[0mopen\u001b[0m\u001b[0;34m(\u001b[0m\u001b[0;34m'./processed_data/raw_OPs_{:.4f}.pkl'\u001b[0m\u001b[0;34m.\u001b[0m\u001b[0mformat\u001b[0m\u001b[0;34m(\u001b[0m\u001b[0meta\u001b[0m\u001b[0;34m)\u001b[0m\u001b[0;34m,\u001b[0m \u001b[0;34m'rb'\u001b[0m\u001b[0;34m)\u001b[0m \u001b[0;32mas\u001b[0m \u001b[0mhandle\u001b[0m\u001b[0;34m:\u001b[0m\u001b[0;34m\u001b[0m\u001b[0m\n\u001b[0m\u001b[1;32m     12\u001b[0m         \u001b[0mraw_OPs_split\u001b[0m \u001b[0;34m=\u001b[0m \u001b[0mpickle\u001b[0m\u001b[0;34m.\u001b[0m\u001b[0mload\u001b[0m\u001b[0;34m(\u001b[0m\u001b[0mhandle\u001b[0m\u001b[0;34m)\u001b[0m\u001b[0;34m\u001b[0m\u001b[0m\n\u001b[1;32m     13\u001b[0m         \u001b[0mraw_OPs\u001b[0m \u001b[0;34m=\u001b[0m \u001b[0;34m[\u001b[0m\u001b[0;34m]\u001b[0m\u001b[0;34m\u001b[0m\u001b[0m\n",
      "\u001b[0;31mIOError\u001b[0m: [Errno 2] No such file or directory: './processed_data/raw_OPs_0.8100.pkl'"
     ]
    }
   ],
   "source": [
    "from numpy import mean, var, abs, arange, array\n",
    "import pickle\n",
    "\n",
    "#load the pickled model\n",
    "raw_OPs_mean = []\n",
    "raw_OPs_abs = []\n",
    "raw_OPs_var = []\n",
    "etas = arange(0.550, 0.820001, 0.005)\n",
    "for eta in etas:\n",
    "    print eta\n",
    "    with open('./processed_data/raw_OPs_{:.4f}.pkl'.format(eta), 'rb') as handle:\n",
    "        raw_OPs_split = pickle.load(handle)\n",
    "        raw_OPs = []\n",
    "        for split in raw_OPs_split:\n",
    "            raw_OPs.extend(split)\n",
    "        raw_OPs_mean.append(mean(raw_OPs, axis=0))\n",
    "        raw_OPs_abs.append(mean(abs(raw_OPs), axis=0))\n",
    "        raw_OPs_var.append(var(raw_OPs, axis=0))\n",
    "raw_OPs_mean = array(raw_OPs_mean)   \n",
    "raw_OPs_abs = array(raw_OPs_abs) \n",
    "raw_OPs_var = array(raw_OPs_var) "
   ]
  },
  {
   "cell_type": "code",
   "execution_count": 41,
   "metadata": {},
   "outputs": [
    {
     "ename": "NameError",
     "evalue": "name 'raw_OPs_mean' is not defined",
     "output_type": "error",
     "traceback": [
      "\u001b[0;31m\u001b[0m",
      "\u001b[0;31mNameError\u001b[0mTraceback (most recent call last)",
      "\u001b[0;32m<ipython-input-41-d6c90233220e>\u001b[0m in \u001b[0;36m<module>\u001b[0;34m()\u001b[0m\n\u001b[0;32m----> 1\u001b[0;31m \u001b[0mraw_OPs_mean\u001b[0m \u001b[0;34m=\u001b[0m \u001b[0marray\u001b[0m\u001b[0;34m(\u001b[0m\u001b[0mraw_OPs_mean\u001b[0m\u001b[0;34m)\u001b[0m\u001b[0;34m\u001b[0m\u001b[0m\n\u001b[0m\u001b[1;32m      2\u001b[0m \u001b[0mraw_OPs_abs\u001b[0m \u001b[0;34m=\u001b[0m \u001b[0marray\u001b[0m\u001b[0;34m(\u001b[0m\u001b[0mraw_OPs_abs\u001b[0m\u001b[0;34m)\u001b[0m\u001b[0;34m\u001b[0m\u001b[0m\n\u001b[1;32m      3\u001b[0m \u001b[0mraw_OPs_var\u001b[0m \u001b[0;34m=\u001b[0m \u001b[0marray\u001b[0m\u001b[0;34m(\u001b[0m\u001b[0mraw_OPs_var\u001b[0m\u001b[0;34m)\u001b[0m\u001b[0;34m\u001b[0m\u001b[0m\n",
      "\u001b[0;31mNameError\u001b[0m: name 'raw_OPs_mean' is not defined"
     ]
    }
   ],
   "source": [
    "raw_OPs_mean = array(raw_OPs_mean)   \n",
    "raw_OPs_abs = array(raw_OPs_abs) \n",
    "raw_OPs_var = array(raw_OPs_var) "
   ]
  },
  {
   "cell_type": "code",
   "execution_count": 85,
   "metadata": {
    "collapsed": true
   },
   "outputs": [],
   "source": [
    "etas = arange(0.550, 0.805001, 0.005)"
   ]
  },
  {
   "cell_type": "code",
   "execution_count": 40,
   "metadata": {},
   "outputs": [
    {
     "ename": "NameError",
     "evalue": "name 'raw_OPs_mean' is not defined",
     "output_type": "error",
     "traceback": [
      "\u001b[0;31m\u001b[0m",
      "\u001b[0;31mNameError\u001b[0mTraceback (most recent call last)",
      "\u001b[0;32m<ipython-input-40-91c3c7ffdb36>\u001b[0m in \u001b[0;36m<module>\u001b[0;34m()\u001b[0m\n\u001b[1;32m     11\u001b[0m \u001b[0mcolors\u001b[0m \u001b[0;34m=\u001b[0m \u001b[0;36m200\u001b[0m\u001b[0;34m*\u001b[0m\u001b[0;34m[\u001b[0m\u001b[0;34m'green'\u001b[0m\u001b[0;34m,\u001b[0m \u001b[0;34m'purple'\u001b[0m\u001b[0;34m,\u001b[0m \u001b[0;34m'orange'\u001b[0m\u001b[0;34m,\u001b[0m \u001b[0;34m'teal'\u001b[0m\u001b[0;34m,\u001b[0m \u001b[0;34m'black'\u001b[0m\u001b[0;34m,\u001b[0m \u001b[0;34m'red'\u001b[0m\u001b[0;34m]\u001b[0m\u001b[0;34m\u001b[0m\u001b[0m\n\u001b[1;32m     12\u001b[0m \u001b[0;32mfor\u001b[0m \u001b[0mi\u001b[0m \u001b[0;32min\u001b[0m \u001b[0mrange\u001b[0m\u001b[0;34m(\u001b[0m\u001b[0;36m1\u001b[0m\u001b[0;34m,\u001b[0m\u001b[0;36m2\u001b[0m\u001b[0;34m)\u001b[0m\u001b[0;34m:\u001b[0m \u001b[0;31m#12,13\u001b[0m\u001b[0;34m\u001b[0m\u001b[0m\n\u001b[0;32m---> 13\u001b[0;31m     \u001b[0mp_data\u001b[0m \u001b[0;34m=\u001b[0m \u001b[0mraw_OPs_mean\u001b[0m\u001b[0;34m[\u001b[0m\u001b[0;34m:\u001b[0m\u001b[0;34m,\u001b[0m\u001b[0mi\u001b[0m\u001b[0;34m]\u001b[0m\u001b[0;34m\u001b[0m\u001b[0m\n\u001b[0m\u001b[1;32m     14\u001b[0m     \u001b[0mplt\u001b[0m\u001b[0;34m.\u001b[0m\u001b[0mplot\u001b[0m\u001b[0;34m(\u001b[0m\u001b[0metas\u001b[0m\u001b[0;34m,\u001b[0m \u001b[0;34m-\u001b[0m\u001b[0;34m(\u001b[0m\u001b[0mp_data\u001b[0m\u001b[0;34m)\u001b[0m\u001b[0;34m,\u001b[0m \u001b[0mmarker\u001b[0m\u001b[0;34m=\u001b[0m\u001b[0;34m'o'\u001b[0m\u001b[0;34m,\u001b[0m \u001b[0mlinewidth\u001b[0m \u001b[0;34m=\u001b[0m \u001b[0;36m1.0\u001b[0m\u001b[0;34m,\u001b[0m \u001b[0mmarkersize\u001b[0m\u001b[0;34m=\u001b[0m\u001b[0;36m12\u001b[0m\u001b[0;34m,\u001b[0m \u001b[0mcolor\u001b[0m \u001b[0;34m=\u001b[0m \u001b[0mcolors\u001b[0m\u001b[0;34m[\u001b[0m\u001b[0mi\u001b[0m\u001b[0;34m]\u001b[0m\u001b[0;34m,\u001b[0m \u001b[0mmarkerfacecolor\u001b[0m\u001b[0;34m=\u001b[0m\u001b[0;34m'None'\u001b[0m\u001b[0;34m)\u001b[0m\u001b[0;34m\u001b[0m\u001b[0m\n\u001b[1;32m     15\u001b[0m     \u001b[0mp_data\u001b[0m \u001b[0;34m=\u001b[0m \u001b[0mraw_OPs_var\u001b[0m\u001b[0;34m[\u001b[0m\u001b[0;34m:\u001b[0m\u001b[0;34m,\u001b[0m\u001b[0mi\u001b[0m\u001b[0;34m]\u001b[0m\u001b[0;34m\u001b[0m\u001b[0m\n",
      "\u001b[0;31mNameError\u001b[0m: name 'raw_OPs_mean' is not defined"
     ]
    },
    {
     "data": {
      "image/png": "[encoded data removed]",
      "text/plain": [
       "<matplotlib.figure.Figure at 0x7fe99afd5d90>"
      ]
     },
     "metadata": {},
     "output_type": "display_data"
    }
   ],
   "source": [
    "#highlight the transition region if found\n",
    "plt.axvspan(0.700, 0.716, alpha=0.2, color='grey')\n",
    "plt.axvspan(0.716, 0.730, alpha=0.2, color='blue')\n",
    "\n",
    "plt.axvspan(0.716, 0.716001, alpha=1, color='black')\n",
    "plt.axvspan(0.76, 0.76001, alpha=1, color='black')\n",
    "\n",
    "#plt.axvspan(0.72, 0.72001, alpha=10, color='black')\n",
    "\n",
    "#plot the principal components\n",
    "colors = 200*['green', 'purple', 'orange', 'teal', 'black', 'red']\n",
    "for i in range(1,2): #12,13\n",
    "    p_data = raw_OPs_mean[:,i]\n",
    "    plt.plot(etas, -(p_data), marker='o', linewidth = 1.0, markersize=12, color = colors[i], markerfacecolor='None')\n",
    "    p_data = raw_OPs_var[:,i]\n",
    "    plt.plot(etas, (p_data), marker='o', linewidth = 1.0, markersize=12, color = colors[i])\n",
    "    \n",
    "#plt.plot(etas, num_defects, marker='o', linewidth = 1.0, markersize=10, color = 'black')    \n",
    "\n",
    "#backround grid details\n",
    "axes = plt.gca()\n",
    "axes.grid(b = True, which = 'both', axis = 'both', color = 'gray', linestyle = '-', alpha = 0.5, linewidth = 0.5) \n",
    "axes.set_axis_bgcolor('white')  \n",
    "\n",
    "#font scpecifications\n",
    "title_font = {'family' : 'arial', 'color'  : 'black', 'weight' : 'heavy','size': 20}\n",
    "axis_label_font = {'family' : 'arial', 'color'  : 'black', 'weight' : 'normal','size': 20}                                                   \n",
    "\n",
    "#figure size and tick style\n",
    "plt.rcParams[\"figure.figsize\"] = [6,6]\n",
    "plt.rc('axes',edgecolor='black',linewidth=1)\n",
    "plt.tick_params(which='both', axis='both', color='black', length=4, width=0.5)\n",
    "plt.rcParams['xtick.direction'] = 'in'\n",
    "plt.rcParams['ytick.direction'] = 'in'\n",
    "\n",
    "#axis range and labels (also specify if log or not)\n",
    "plt.xlim(0.60, 0.81)\n",
    "#plt.ylim(-0.1,0.1)\n",
    "\n",
    "#plt.ylim(-0.1,0.1)\n",
    "#plt.yscale('log')\n",
    "\n",
    "#plt.yscale('log')\n",
    "plt.xlabel(r'$\\eta$', y=3, fontsize=20, fontdict = axis_label_font)\n",
    "plt.ylabel(r'$\\langle P_{i} \\rangle$ and $\\langle |P_{i}| \\rangle$', fontsize=20, fontdict = axis_label_font)\n",
    "\n",
    "#title and axis labels\n",
    "plt.tick_params(axis='both', labelsize=20)\n",
    "plt.title('PCA hard disks', y=1.05, fontdict = title_font)\n",
    "\n",
    "plt.show()"
   ]
  },
  {
   "cell_type": "code",
   "execution_count": 55,
   "metadata": {
    "collapsed": true
   },
   "outputs": [],
   "source": [
    "etas = arange(0.550, 0.82001, 0.005)"
   ]
  },
  {
   "cell_type": "code",
   "execution_count": 57,
   "metadata": {},
   "outputs": [
    {
     "name": "stderr",
     "output_type": "stream",
     "text": [
      "/home/ryanj/miniconda2/lib/python2.7/site-packages/ipykernel_launcher.py:20: MatplotlibDeprecationWarning: The set_axis_bgcolor function was deprecated in version 2.0. Use set_facecolor instead.\n"
     ]
    },
    {
     "data": {
      "image/png": "[encoded data removed]",
      "text/plain": [
       "<matplotlib.figure.Figure at 0x7f0f13046610>"
      ]
     },
     "metadata": {},
     "output_type": "display_data"
    }
   ],
   "source": [
    "#highlight the transition region if found\n",
    "plt.axvspan(0.700, 0.716, alpha=0.2, color='grey')\n",
    "plt.axvspan(0.716, 0.730, alpha=0.2, color='blue')\n",
    "\n",
    "plt.axvspan(0.716, 0.716001, alpha=1, color='black')\n",
    "plt.axvspan(0.76, 0.76001, alpha=1, color='black')\n",
    "\n",
    "#plt.axvspan(0.72, 0.72001, alpha=10, color='black')\n",
    "\n",
    "#plot the principal components\n",
    "colors = 200*['green', 'purple', 'orange', 'teal', 'black', 'red']\n",
    "\n",
    "plt.plot(etas, Xs, marker='o', linewidth = 1.0, markersize=12, color = colors[i])\n",
    "    \n",
    "#plt.plot(etas, num_defects, marker='o', linewidth = 1.0, markersize=10, color = 'black')    \n",
    "\n",
    "#backround grid details\n",
    "axes = plt.gca()\n",
    "axes.grid(b = True, which = 'both', axis = 'both', color = 'gray', linestyle = '-', alpha = 0.5, linewidth = 0.5) \n",
    "axes.set_axis_bgcolor('white')  \n",
    "\n",
    "#font scpecifications\n",
    "title_font = {'family' : 'arial', 'color'  : 'black', 'weight' : 'heavy','size': 20}\n",
    "axis_label_font = {'family' : 'arial', 'color'  : 'black', 'weight' : 'normal','size': 20}                                                   \n",
    "\n",
    "#figure size and tick style\n",
    "plt.rcParams[\"figure.figsize\"] = [6,6]\n",
    "plt.rc('axes',edgecolor='black',linewidth=1)\n",
    "plt.tick_params(which='both', axis='both', color='black', length=4, width=0.5)\n",
    "plt.rcParams['xtick.direction'] = 'in'\n",
    "plt.rcParams['ytick.direction'] = 'in'\n",
    "\n",
    "#axis range and labels (also specify if log or not)\n",
    "plt.xlim(0.60, 0.84)\n",
    "#plt.ylim(-0.1,0.1)\n",
    "\n",
    "#plt.ylim(-0.1,0.1)\n",
    "#plt.yscale('log')\n",
    "\n",
    "#plt.yscale('log')\n",
    "plt.xlabel(r'$\\eta$', y=3, fontsize=20, fontdict = axis_label_font)\n",
    "plt.ylabel(r'Positional susceptibility', fontsize=20, fontdict = axis_label_font)\n",
    "\n",
    "#title and axis labels\n",
    "plt.tick_params(axis='both', labelsize=20)\n",
    "plt.title('Hard disks', y=1.05, fontdict = title_font)\n",
    "\n",
    "plt.show()"
   ]
  },
  {
   "cell_type": "code",
   "execution_count": null,
   "metadata": {
    "collapsed": true
   },
   "outputs": [],
   "source": []
  },
  {
   "cell_type": "code",
   "execution_count": 17,
   "metadata": {
    "collapsed": true
   },
   "outputs": [],
   "source": [
    "#comps_ig = incpca.components_"
   ]
  },
  {
   "cell_type": "code",
   "execution_count": null,
   "metadata": {
    "collapsed": true
   },
   "outputs": [],
   "source": []
  },
  {
   "cell_type": "code",
   "execution_count": 121,
   "metadata": {},
   "outputs": [
    {
     "name": "stderr",
     "output_type": "stream",
     "text": [
      "/home/ryanj/miniconda2/lib/python2.7/site-packages/ipykernel_launcher.py:22: MatplotlibDeprecationWarning: The set_axis_bgcolor function was deprecated in version 2.0. Use set_facecolor instead.\n"
     ]
    },
    {
     "data": {
      "image/png": "[encoded data removed]",
      "text/plain": [
       "<matplotlib.figure.Figure at 0x7fe9999d8a50>"
      ]
     },
     "metadata": {},
     "output_type": "display_data"
    }
   ],
   "source": [
    "#highlight the transition region if found\n",
    "#plt.axvspan(0.700, 0.716, alpha=0.2, color='grey')\n",
    "#plt.axvspan(0.716, 0.730, alpha=0.2, color='blue')\n",
    "\n",
    "#plt.axvspan(0.716, 0.716001, alpha=1, color='black')\n",
    "#plt.axvspan(0.781, 0.781001, alpha=1, color='black')\n",
    "\n",
    "#plot the principal components\n",
    "colors = 200*['green', 'purple', 'orange', 'teal', 'black', 'red']\n",
    "for i in range(0,5):\n",
    "    p_data = incpca.components_[i]\n",
    "    plt.plot(range(len(incpca.components_[0])), p_data, marker='o', linewidth = 1.0, markersize=5, color = colors[i])\n",
    "    #p_data = comps_ig[i]\n",
    "    #plt.plot(range(len(incpca.components_[0])), p_data, marker='o', linewidth = 3.0, markersize=0, color = colors[i])\n",
    "    #p_data = incpca.components_[i] - comps_ig[i]\n",
    "    #plt.plot(range(len(incpca.components_[0])), p_data, marker='o', linewidth = 3.0, markersize=0, color = colors[i])\n",
    "#plt.plot(etas, num_defects, marker='o', linewidth = 2.0, markersize=10, color = 'black')    \n",
    "\n",
    "#backround grid details\n",
    "axes = plt.gca()\n",
    "axes.grid(b = True, which = 'both', axis = 'both', color = 'gray', linestyle = '-', alpha = 0.5, linewidth = 0.5) \n",
    "axes.set_axis_bgcolor('white')  \n",
    "\n",
    "#font scpecifications\n",
    "title_font = {'family' : 'arial', 'color'  : 'black', 'weight' : 'heavy','size': 20}\n",
    "axis_label_font = {'family' : 'arial', 'color'  : 'black', 'weight' : 'normal','size': 20}                                                   \n",
    "\n",
    "#figure size and tick style\n",
    "plt.rcParams[\"figure.figsize\"] = [6,6]\n",
    "plt.rc('axes',edgecolor='black',linewidth=1)\n",
    "plt.tick_params(which='both', axis='both', color='black', length=4, width=0.5)\n",
    "plt.rcParams['xtick.direction'] = 'in'\n",
    "plt.rcParams['ytick.direction'] = 'in'\n",
    "\n",
    "#axis range and labels (also specify if log or not)\n",
    "#plt.xlim(0.1,3000)\n",
    "#plt.ylim(-1,0)\n",
    "#plt.ylim(0,0.5)\n",
    "#plt.ylim(-2,1.5)\n",
    "#plt.ylim(5, 13)\n",
    "#plt.ylim(1, 0.001)\n",
    "#plt.ylim(-2000.0, 2000)\n",
    "\n",
    "#plt.xscale('log')\n",
    "plt.xlabel(r'$n$th nerest neighbor', y=3, fontsize=20, fontdict = axis_label_font)\n",
    "plt.ylabel(r'$P_{i}$ weight', fontsize=20, fontdict = axis_label_font)\n",
    "\n",
    "#title and axis labels\n",
    "plt.tick_params(axis='both', labelsize=20)\n",
    "plt.title('PCA feature weights', y=1.05, fontdict = title_font)\n",
    "\n",
    "plt.show()"
   ]
  },
  {
   "cell_type": "code",
   "execution_count": 41,
   "metadata": {
    "collapsed": true
   },
   "outputs": [],
   "source": [
    "import gsd.hoomd\n",
    "from numpy import mean, array\n",
    "\n",
    "def ColorParticlesPCA(filename_gsd, filename_xyz, pca):\n",
    "    frames = []\n",
    "    traj = gsd.hoomd.open(name=filename, mode='rb')\n",
    "    \n",
    "    #static quantities\n",
    "    box = traj[0].configuration.box\n",
    "    D = traj[0].configuration.dimensions\n",
    "    \n",
    "    #loop over the configurations and stor in new format\n",
    "    for snap in traj:\n",
    "        #dynamic quantities\n",
    "        diameters = snap.particles.diameter\n",
    "        coords = snap.particles.position\n",
    "        \n",
    "        #check for a square box\n",
    "        if (max(box[0:D]) - min(box[0:D]))/mean(box[0:D]) > 0.000000000001:\n",
    "            raise Exception('Not a rectangle or square!!!')\n",
    "            \n",
    "        L = box[0]\n",
    "        \n",
    "        #get the particle types\n",
    "        possible_types = snap.particles.types\n",
    "        types = array([possible_types[type_id] for type_id in snap.particles.typeid])\n",
    "        \n",
    "        #create our new data structure\n",
    "        frames.append({'coords': (coords[:,0:D]+L/2.0), 'diameters': diameters, 'types': types, 'L': L, 'D': D})\n",
    "        "
   ]
  },
  {
   "cell_type": "code",
   "execution_count": 381,
   "metadata": {
    "collapsed": true
   },
   "outputs": [],
   "source": [
    "frames = ReadGSD('../hoomd_disks/trajectories_4000p_longer/trajectory_0.1000.gsd')"
   ]
  },
  {
   "cell_type": "code",
   "execution_count": 54,
   "metadata": {
    "collapsed": true
   },
   "outputs": [],
   "source": [
    "frames = ReadGSD('../hoomd_disks/trajectories_ww_4000p/trajectory_2.1800.gsd', randomize = False)"
   ]
  },
  {
   "cell_type": "code",
   "execution_count": null,
   "metadata": {
    "collapsed": true
   },
   "outputs": [],
   "source": []
  },
  {
   "cell_type": "code",
   "execution_count": 34,
   "metadata": {
    "collapsed": true
   },
   "outputs": [],
   "source": [
    "pc = 0\n",
    "xyz_file_stream = open('op_labeled/feature_labeled_particles_2.1800_P{}.xyz'.format(pc), 'w')\n",
    "for frame in frames[0:40]:\n",
    "    coords = frame['coords']\n",
    "    N = len(coords)\n",
    "    L = frame['L']\n",
    "    types = frame['types']\n",
    "    \n",
    "    #create header\n",
    "    xyz_file_stream.write('{}\\n'.format(N))\n",
    "    xyz_file_stream.write(' L={}\\n'.format(L))\n",
    "    features = FrameToFeatures(frame, N_nn, ['distance'], particle_inc=1, nn_inc=nn_inc)\n",
    "    \n",
    "    #transform the data to features\n",
    "    ops = (incpca.transform(features)[:,pc])\n",
    "    #ops = types\n",
    "    #print len(ops)\n",
    "    \n",
    "    #joint data\n",
    "    coords_ops_types = zip(coords, ops, types)\n",
    "    for coord, op, type_ in coords_ops_types:\n",
    "        xyz_file_stream.write('  {}    {}    {}    0.0    {}\\n'.format(type_, coord[0], coord[1], op))\n",
    "xyz_file_stream.close()\n",
    "                                 "
   ]
  },
  {
   "cell_type": "code",
   "execution_count": 56,
   "metadata": {},
   "outputs": [
    {
     "data": {
      "text/plain": [
       "{'D': 2, 'L': 38.414631, 'coords': array([[ 11.06319141,  37.75015259],\n",
       "        [  8.64294338,   4.37904453],\n",
       "        [ 38.39389038,   1.4232254 ],\n",
       "        ..., \n",
       "        [ 16.68315125,  22.83090782],\n",
       "        [ 23.82643127,   7.47303104],\n",
       "        [ 11.08653927,   9.76377487]], dtype=float32), 'diameters': array([ 1.,  1.,  1., ...,  1.,  1.,  1.], dtype=float32), 'types': array([u'A', u'A', u'A', ..., u'B', u'B', u'B'],\n",
       "       dtype='<U1')}"
      ]
     },
     "execution_count": 56,
     "metadata": {},
     "output_type": "execute_result"
    }
   ],
   "source": [
    "frames[0]"
   ]
  },
  {
   "cell_type": "code",
   "execution_count": null,
   "metadata": {
    "collapsed": true
   },
   "outputs": [],
   "source": []
  },
  {
   "cell_type": "code",
   "execution_count": null,
   "metadata": {
    "collapsed": true
   },
   "outputs": [],
   "source": []
  },
  {
   "cell_type": "code",
   "execution_count": null,
   "metadata": {
    "collapsed": true
   },
   "outputs": [],
   "source": []
  },
  {
   "cell_type": "code",
   "execution_count": null,
   "metadata": {
    "collapsed": true
   },
   "outputs": [],
   "source": []
  },
  {
   "cell_type": "code",
   "execution_count": null,
   "metadata": {
    "collapsed": true
   },
   "outputs": [],
   "source": []
  },
  {
   "cell_type": "code",
   "execution_count": 26,
   "metadata": {
    "scrolled": true
   },
   "outputs": [
    {
     "name": "stdout",
     "output_type": "stream",
     "text": [
      "eta=0.55\n",
      "\n",
      "1\n",
      "2\n",
      "3\n",
      "4\n",
      "5\n",
      "6\n",
      "7\n",
      "8\n",
      "eta=0.555\n",
      "\n",
      "1\n",
      "2\n",
      "3\n",
      "4\n",
      "5\n",
      "6\n",
      "7\n",
      "8\n",
      "eta=0.56\n",
      "\n",
      "1\n",
      "2\n",
      "3\n",
      "4\n",
      "5\n",
      "6\n",
      "7\n",
      "8\n",
      "eta=0.565\n",
      "\n",
      "1\n",
      "2\n",
      "3\n",
      "4\n",
      "5\n",
      "6\n",
      "7\n",
      "8\n",
      "eta=0.57\n",
      "\n",
      "1\n",
      "2\n",
      "3\n",
      "4\n",
      "5\n",
      "6\n",
      "7\n",
      "8\n",
      "eta=0.575\n",
      "\n",
      "1\n",
      "2\n",
      "3\n",
      "4\n",
      "5\n",
      "6\n",
      "7\n",
      "8\n",
      "eta=0.58\n",
      "\n",
      "1\n",
      "2\n",
      "3\n",
      "4\n",
      "5\n",
      "6\n",
      "7\n",
      "8\n",
      "eta=0.585\n",
      "\n",
      "1\n",
      "2\n",
      "3\n",
      "4\n",
      "5\n",
      "6\n",
      "7\n",
      "8\n",
      "eta=0.59\n",
      "\n",
      "1\n",
      "2\n",
      "3\n",
      "4\n",
      "5\n",
      "6\n",
      "7\n",
      "8\n",
      "eta=0.595\n",
      "\n",
      "1\n",
      "2\n",
      "3\n",
      "4\n",
      "5\n",
      "6\n",
      "7\n",
      "8\n",
      "eta=0.6\n",
      "\n",
      "1\n",
      "2\n",
      "3\n",
      "4\n",
      "5\n",
      "6\n",
      "7\n",
      "8\n",
      "eta=0.605\n",
      "\n",
      "1\n",
      "2\n",
      "3\n",
      "4\n",
      "5\n",
      "6\n",
      "7\n",
      "8\n",
      "eta=0.61\n",
      "\n",
      "1\n",
      "2\n",
      "3\n",
      "4\n",
      "5\n",
      "6\n",
      "7\n",
      "8\n",
      "eta=0.615\n",
      "\n",
      "1\n",
      "2\n",
      "3\n",
      "4\n",
      "5\n",
      "6\n",
      "7\n",
      "8\n",
      "eta=0.62\n",
      "\n",
      "1\n",
      "2\n",
      "3\n",
      "4\n",
      "5\n",
      "6\n",
      "7\n",
      "8\n",
      "eta=0.625\n",
      "\n",
      "1\n",
      "2\n",
      "3\n",
      "4\n",
      "5\n",
      "6\n",
      "7\n",
      "8\n",
      "eta=0.63\n",
      "\n",
      "1\n",
      "2\n",
      "3\n",
      "4\n",
      "5\n",
      "6\n",
      "7\n",
      "8\n",
      "eta=0.635\n",
      "\n",
      "1\n",
      "2\n",
      "3\n",
      "4\n",
      "5\n",
      "6\n",
      "7\n",
      "8\n",
      "eta=0.64\n",
      "\n",
      "1\n",
      "2\n",
      "3\n",
      "4\n",
      "5\n",
      "6\n",
      "7\n",
      "8\n",
      "eta=0.645\n",
      "\n",
      "1\n",
      "2\n",
      "3\n",
      "4\n",
      "5\n",
      "6\n",
      "7\n",
      "8\n",
      "eta=0.65\n",
      "\n",
      "1\n",
      "2\n",
      "3\n",
      "4\n",
      "5\n",
      "6\n",
      "7\n",
      "8\n",
      "eta=0.655\n",
      "\n",
      "1\n",
      "2\n",
      "3\n",
      "4\n",
      "5\n",
      "6\n",
      "7\n",
      "8\n",
      "eta=0.66\n",
      "\n",
      "1\n",
      "2\n",
      "3\n",
      "4\n",
      "5\n",
      "6\n",
      "7\n",
      "8\n",
      "eta=0.665\n",
      "\n",
      "1\n",
      "2\n",
      "3\n",
      "4\n",
      "5\n",
      "6\n",
      "7\n",
      "8\n",
      "eta=0.67\n",
      "\n",
      "1\n",
      "2\n",
      "3\n",
      "4\n",
      "5\n",
      "6\n",
      "7\n",
      "8\n",
      "eta=0.675\n",
      "\n",
      "1\n",
      "2\n",
      "3\n",
      "4\n",
      "5\n",
      "6\n",
      "7\n",
      "8\n",
      "eta=0.68\n",
      "\n",
      "1\n",
      "2\n",
      "3\n",
      "4\n",
      "5\n",
      "6\n",
      "7\n",
      "8\n",
      "eta=0.685\n",
      "\n",
      "1\n",
      "2\n",
      "3\n",
      "4\n",
      "5\n",
      "6\n",
      "7\n",
      "8\n",
      "eta=0.69\n",
      "\n",
      "1\n",
      "2\n",
      "3\n",
      "4\n",
      "5\n",
      "6\n",
      "7\n",
      "8\n",
      "eta=0.695\n",
      "\n",
      "1\n",
      "2\n",
      "3\n",
      "4\n",
      "5\n",
      "6\n",
      "7\n",
      "8\n",
      "eta=0.7\n",
      "\n",
      "1\n",
      "2\n",
      "3\n",
      "4\n",
      "5\n",
      "6\n",
      "7\n",
      "8\n",
      "eta=0.705\n",
      "\n",
      "1\n",
      "2\n",
      "3\n",
      "4\n",
      "5\n",
      "6\n",
      "7\n",
      "8\n",
      "eta=0.71\n",
      "\n",
      "1\n",
      "2\n",
      "3\n",
      "4\n",
      "5\n",
      "6\n",
      "7\n",
      "8\n",
      "eta=0.715\n",
      "\n",
      "1\n",
      "2\n",
      "3\n",
      "4\n",
      "5\n",
      "6\n",
      "7\n",
      "8\n",
      "eta=0.72\n",
      "\n",
      "1\n",
      "2\n",
      "3\n",
      "4\n",
      "5\n",
      "6\n",
      "7\n",
      "8\n",
      "eta=0.725\n",
      "\n",
      "1\n",
      "2\n",
      "3\n",
      "4\n",
      "5\n",
      "6\n",
      "7\n",
      "8\n",
      "eta=0.73\n",
      "\n",
      "1\n",
      "2\n",
      "3\n",
      "4\n",
      "5\n",
      "6\n",
      "7\n",
      "8\n",
      "eta=0.735\n",
      "\n",
      "1\n",
      "2\n",
      "3\n",
      "4\n",
      "5\n",
      "6\n",
      "7\n",
      "8\n",
      "eta=0.74\n",
      "\n",
      "1\n",
      "2\n",
      "3\n",
      "4\n",
      "5\n",
      "6\n",
      "7\n",
      "8\n",
      "eta=0.745\n",
      "\n",
      "1\n",
      "2\n",
      "3\n",
      "4\n",
      "5\n",
      "6\n",
      "7\n",
      "8\n",
      "eta=0.75\n",
      "\n",
      "1\n",
      "2\n",
      "3\n",
      "4\n",
      "5\n",
      "6\n",
      "7\n",
      "8\n",
      "eta=0.755\n",
      "\n",
      "1\n",
      "2\n",
      "3\n",
      "4\n",
      "5\n",
      "6\n",
      "7\n",
      "8\n",
      "eta=0.76\n",
      "\n",
      "1\n",
      "2\n",
      "3\n",
      "4\n",
      "5\n",
      "6\n",
      "7\n",
      "8\n",
      "eta=0.765\n",
      "\n",
      "1\n",
      "2\n",
      "3\n",
      "4\n",
      "5\n",
      "6\n",
      "7\n",
      "8\n",
      "eta=0.77\n",
      "\n",
      "1\n",
      "2\n",
      "3\n",
      "4\n",
      "5\n",
      "6\n",
      "7\n",
      "8\n",
      "eta=0.775\n",
      "\n",
      "1\n",
      "2\n",
      "3\n",
      "4\n",
      "5\n",
      "6\n",
      "7\n",
      "8\n",
      "eta=0.78\n",
      "\n",
      "1\n",
      "2\n",
      "3\n",
      "4\n",
      "5\n",
      "6\n",
      "7\n",
      "8\n",
      "eta=0.785\n",
      "\n",
      "1\n",
      "2\n",
      "3\n",
      "4\n",
      "5\n",
      "6\n",
      "7\n",
      "8\n",
      "eta=0.79\n",
      "\n",
      "1\n",
      "2\n",
      "3\n",
      "4\n",
      "5\n",
      "6\n",
      "7\n",
      "8\n",
      "eta=0.795\n",
      "\n",
      "1\n",
      "2\n",
      "3\n",
      "4\n",
      "5\n",
      "6\n",
      "7\n",
      "8\n",
      "eta=0.8\n",
      "\n",
      "1\n",
      "2\n",
      "3\n",
      "4\n",
      "5\n",
      "6\n",
      "7\n",
      "8\n"
     ]
    }
   ],
   "source": [
    "incpca_small = IncrementalPCA(n_components=16, whiten=True)\n",
    "\n",
    "frames = None\n",
    "features = None\n",
    "split_features = None\n",
    "\n",
    "for etas, file_base in file_data:\n",
    "    for eta in etas:\n",
    "        print 'eta={}\\n'.format(eta)\n",
    "        filename = \"{}/trajectory_{:.4f}.gsd\".format(file_base, eta)\n",
    "        frames = ReadGSD(filename, shuffle_data=True)\n",
    "        \n",
    "        frames_split = array_split(frames, split)\n",
    "        frames = None\n",
    "        count = 0\n",
    "        for frames_partial in frames_split:\n",
    "            features_partial = TrajectoryToFeatures(frames_partial, N_nn=N_nn, method='distance', step=step)\n",
    "            incpca_small.partial_fit(features_partial)\n",
    "            count = count + 1\n",
    "            print count\n",
    "        frames_split = None"
   ]
  },
  {
   "cell_type": "code",
   "execution_count": 27,
   "metadata": {},
   "outputs": [
    {
     "name": "stdout",
     "output_type": "stream",
     "text": [
      "eta=0.55\n",
      "\n",
      "1\n",
      "2\n",
      "3\n",
      "4\n",
      "5\n",
      "6\n",
      "7\n",
      "8\n",
      "eta=0.555\n",
      "\n",
      "1\n",
      "2\n",
      "3\n",
      "4\n",
      "5\n",
      "6\n",
      "7\n",
      "8\n",
      "eta=0.56\n",
      "\n",
      "1\n",
      "2\n",
      "3\n",
      "4\n",
      "5\n",
      "6\n",
      "7\n",
      "8\n",
      "eta=0.565\n",
      "\n",
      "1\n",
      "2\n",
      "3\n",
      "4\n",
      "5\n",
      "6\n",
      "7\n",
      "8\n",
      "eta=0.57\n",
      "\n",
      "1\n",
      "2\n",
      "3\n",
      "4\n",
      "5\n",
      "6\n",
      "7\n",
      "8\n",
      "eta=0.575\n",
      "\n",
      "1\n",
      "2\n",
      "3\n",
      "4\n",
      "5\n",
      "6\n",
      "7\n",
      "8\n",
      "eta=0.58\n",
      "\n",
      "1\n",
      "2\n",
      "3\n",
      "4\n",
      "5\n",
      "6\n",
      "7\n",
      "8\n",
      "eta=0.585\n",
      "\n",
      "1\n",
      "2\n",
      "3\n",
      "4\n",
      "5\n",
      "6\n",
      "7\n",
      "8\n",
      "eta=0.59\n",
      "\n",
      "1\n",
      "2\n",
      "3\n",
      "4\n",
      "5\n",
      "6\n",
      "7\n",
      "8\n",
      "eta=0.595\n",
      "\n",
      "1\n",
      "2\n",
      "3\n",
      "4\n",
      "5\n",
      "6\n",
      "7\n",
      "8\n",
      "eta=0.6\n",
      "\n",
      "1\n",
      "2\n",
      "3\n",
      "4\n",
      "5\n",
      "6\n",
      "7\n",
      "8\n",
      "eta=0.605\n",
      "\n",
      "1\n",
      "2\n",
      "3\n",
      "4\n",
      "5\n",
      "6\n",
      "7\n",
      "8\n",
      "eta=0.61\n",
      "\n",
      "1\n",
      "2\n",
      "3\n",
      "4\n",
      "5\n",
      "6\n",
      "7\n",
      "8\n",
      "eta=0.615\n",
      "\n",
      "1\n",
      "2\n",
      "3\n",
      "4\n",
      "5\n",
      "6\n",
      "7\n",
      "8\n",
      "eta=0.62\n",
      "\n",
      "1\n",
      "2\n",
      "3\n",
      "4\n",
      "5\n",
      "6\n",
      "7\n",
      "8\n",
      "eta=0.625\n",
      "\n",
      "1\n",
      "2\n",
      "3\n",
      "4\n",
      "5\n",
      "6\n",
      "7\n",
      "8\n",
      "eta=0.63\n",
      "\n",
      "1\n",
      "2\n",
      "3\n",
      "4\n",
      "5\n",
      "6\n",
      "7\n",
      "8\n",
      "eta=0.635\n",
      "\n",
      "1\n",
      "2\n",
      "3\n",
      "4\n",
      "5\n",
      "6\n",
      "7\n",
      "8\n",
      "eta=0.64\n",
      "\n",
      "1\n",
      "2\n",
      "3\n",
      "4\n",
      "5\n",
      "6\n",
      "7\n",
      "8\n",
      "eta=0.645\n",
      "\n",
      "1\n",
      "2\n",
      "3\n",
      "4\n",
      "5\n",
      "6\n",
      "7\n",
      "8\n",
      "eta=0.65\n",
      "\n",
      "1\n",
      "2\n",
      "3\n",
      "4\n",
      "5\n",
      "6\n",
      "7\n",
      "8\n",
      "eta=0.655\n",
      "\n",
      "1\n",
      "2\n",
      "3\n",
      "4\n",
      "5\n",
      "6\n",
      "7\n",
      "8\n",
      "eta=0.66\n",
      "\n",
      "1\n",
      "2\n",
      "3\n",
      "4\n",
      "5\n",
      "6\n",
      "7\n",
      "8\n",
      "eta=0.665\n",
      "\n",
      "1\n",
      "2\n",
      "3\n",
      "4\n",
      "5\n",
      "6\n",
      "7\n",
      "8\n",
      "eta=0.67\n",
      "\n",
      "1\n",
      "2\n",
      "3\n",
      "4\n",
      "5\n",
      "6\n",
      "7\n",
      "8\n",
      "eta=0.675\n",
      "\n",
      "1\n",
      "2\n",
      "3\n",
      "4\n",
      "5\n",
      "6\n",
      "7\n",
      "8\n",
      "eta=0.68\n",
      "\n",
      "1\n",
      "2\n",
      "3\n",
      "4\n",
      "5\n",
      "6\n",
      "7\n",
      "8\n",
      "eta=0.685\n",
      "\n",
      "1\n",
      "2\n",
      "3\n",
      "4\n",
      "5\n",
      "6\n",
      "7\n",
      "8\n",
      "eta=0.69\n",
      "\n",
      "1\n",
      "2\n",
      "3\n",
      "4\n",
      "5\n",
      "6\n",
      "7\n",
      "8\n",
      "eta=0.695\n",
      "\n",
      "1\n",
      "2\n",
      "3\n",
      "4\n",
      "5\n",
      "6\n",
      "7\n",
      "8\n",
      "eta=0.7\n",
      "\n",
      "1\n",
      "2\n",
      "3\n",
      "4\n",
      "5\n",
      "6\n",
      "7\n",
      "8\n",
      "eta=0.705\n",
      "\n",
      "1\n",
      "2\n",
      "3\n",
      "4\n",
      "5\n",
      "6\n",
      "7\n",
      "8\n",
      "eta=0.71\n",
      "\n",
      "1\n",
      "2\n",
      "3\n",
      "4\n",
      "5\n",
      "6\n",
      "7\n",
      "8\n",
      "eta=0.715\n",
      "\n",
      "1\n",
      "2\n",
      "3\n",
      "4\n",
      "5\n",
      "6\n",
      "7\n",
      "8\n",
      "eta=0.72\n",
      "\n",
      "1\n",
      "2\n",
      "3\n",
      "4\n",
      "5\n",
      "6\n",
      "7\n",
      "8\n",
      "eta=0.725\n",
      "\n",
      "1\n",
      "2\n",
      "3\n",
      "4\n",
      "5\n",
      "6\n",
      "7\n",
      "8\n",
      "eta=0.73\n",
      "\n",
      "1\n",
      "2\n",
      "3\n",
      "4\n",
      "5\n",
      "6\n",
      "7\n",
      "8\n",
      "eta=0.735\n",
      "\n",
      "1\n",
      "2\n",
      "3\n",
      "4\n",
      "5\n",
      "6\n",
      "7\n",
      "8\n",
      "eta=0.74\n",
      "\n",
      "1\n",
      "2\n",
      "3\n",
      "4\n",
      "5\n",
      "6\n",
      "7\n",
      "8\n",
      "eta=0.745\n",
      "\n",
      "1\n",
      "2\n",
      "3\n",
      "4\n",
      "5\n",
      "6\n",
      "7\n",
      "8\n",
      "eta=0.75\n",
      "\n",
      "1\n",
      "2\n",
      "3\n",
      "4\n",
      "5\n",
      "6\n",
      "7\n",
      "8\n",
      "eta=0.755\n",
      "\n",
      "1\n",
      "2\n",
      "3\n",
      "4\n",
      "5\n",
      "6\n",
      "7\n",
      "8\n",
      "eta=0.76\n",
      "\n",
      "1\n",
      "2\n",
      "3\n",
      "4\n",
      "5\n",
      "6\n",
      "7\n",
      "8\n",
      "eta=0.765\n",
      "\n",
      "1\n",
      "2\n",
      "3\n",
      "4\n",
      "5\n",
      "6\n",
      "7\n",
      "8\n",
      "eta=0.77\n",
      "\n",
      "1\n",
      "2\n",
      "3\n",
      "4\n",
      "5\n",
      "6\n",
      "7\n",
      "8\n",
      "eta=0.775\n",
      "\n",
      "1\n",
      "2\n",
      "3\n",
      "4\n",
      "5\n",
      "6\n",
      "7\n",
      "8\n",
      "eta=0.78\n",
      "\n",
      "1\n",
      "2\n",
      "3\n",
      "4\n",
      "5\n",
      "6\n",
      "7\n",
      "8\n",
      "eta=0.785\n",
      "\n",
      "1\n",
      "2\n",
      "3\n",
      "4\n",
      "5\n",
      "6\n",
      "7\n",
      "8\n",
      "eta=0.79\n",
      "\n",
      "1\n",
      "2\n",
      "3\n",
      "4\n",
      "5\n",
      "6\n",
      "7\n",
      "8\n",
      "eta=0.795\n",
      "\n",
      "1\n",
      "2\n",
      "3\n",
      "4\n",
      "5\n",
      "6\n",
      "7\n",
      "8\n",
      "eta=0.8\n",
      "\n",
      "1\n",
      "2\n",
      "3\n",
      "4\n",
      "5\n",
      "6\n",
      "7\n",
      "8\n"
     ]
    }
   ],
   "source": [
    "OPs_small = []\n",
    "frames = None\n",
    "features = None\n",
    "raw_OPs_small = []\n",
    "\n",
    "for etas, file_base in file_data:\n",
    "    for eta in etas:\n",
    "        print 'eta={}\\n'.format(eta)\n",
    "        filename = \"{}/trajectory_{:.4f}.gsd\".format(file_base, eta)\n",
    "        frames = ReadGSD(filename, shuffle_data=True)\n",
    "        \n",
    "        frames_split = array_split(frames, split)\n",
    "        frames = None\n",
    "        count = 0\n",
    "        means = []\n",
    "        raw_OPs_single = []\n",
    "        for frames_partial in frames_split:\n",
    "            features_partial = TrajectoryToFeatures(frames_partial, N_nn=N_nn, method='distance', step=step)\n",
    "            transformed_features_partial = incpca_small.transform(features_partial)\n",
    "            means.append(mean(transformed_features_partial, axis=0))\n",
    "            raw_OPs_single.append(transformed_features_partial)\n",
    "            count = count + 1\n",
    "            print count\n",
    "            \n",
    "        means = array(means)\n",
    "        op = mean(means, axis=0)\n",
    "        OPs_small.append(op)\n",
    "        raw_OPs_small.append(raw_OPs_single)\n",
    "    \n",
    "OPs_small = array(OPs_small)        "
   ]
  },
  {
   "cell_type": "code",
   "execution_count": 36,
   "metadata": {
    "collapsed": true
   },
   "outputs": [],
   "source": [
    "from numpy import std, abs, power\n",
    "\n",
    "OPs_small_std = []\n",
    "OPs_small_abs = []\n",
    "for single_eta in raw_OPs_small:\n",
    "    merged_data = []\n",
    "    for split in single_eta:\n",
    "        merged_data.extend(split)\n",
    "        \n",
    "    OPs_small_std.append(std(split, axis=0))\n",
    "    OPs_small_abs.append(mean(abs(split), axis=0))\n",
    "    \n",
    "OPs_small_std = array(OPs_small_std)\n",
    "OPs_small_abs = array(OPs_small_abs)"
   ]
  },
  {
   "cell_type": "code",
   "execution_count": null,
   "metadata": {
    "collapsed": true
   },
   "outputs": [],
   "source": []
  },
  {
   "cell_type": "code",
   "execution_count": null,
   "metadata": {
    "collapsed": true
   },
   "outputs": [],
   "source": []
  },
  {
   "cell_type": "code",
   "execution_count": 292,
   "metadata": {},
   "outputs": [
    {
     "ename": "NameError",
     "evalue": "name 'OPs_small_abs' is not defined",
     "output_type": "error",
     "traceback": [
      "\u001b[0;31m\u001b[0m",
      "\u001b[0;31mNameError\u001b[0mTraceback (most recent call last)",
      "\u001b[0;32m<ipython-input-292-601acafa28a3>\u001b[0m in \u001b[0;36m<module>\u001b[0;34m()\u001b[0m\n\u001b[1;32m     13\u001b[0m     \u001b[0;31m#p_data = OPs_small[:,i]\u001b[0m\u001b[0;34m\u001b[0m\u001b[0;34m\u001b[0m\u001b[0m\n\u001b[1;32m     14\u001b[0m     \u001b[0;31m#plt.plot(etas, (p_data), marker='o', linewidth = 1.0, markersize=12, color = colors[i], markerfacecolor='None')\u001b[0m\u001b[0;34m\u001b[0m\u001b[0;34m\u001b[0m\u001b[0m\n\u001b[0;32m---> 15\u001b[0;31m     \u001b[0mp_data\u001b[0m \u001b[0;34m=\u001b[0m \u001b[0mOPs_small_abs\u001b[0m\u001b[0;34m[\u001b[0m\u001b[0;34m:\u001b[0m\u001b[0;34m,\u001b[0m\u001b[0mi\u001b[0m\u001b[0;34m]\u001b[0m\u001b[0;34m\u001b[0m\u001b[0m\n\u001b[0m\u001b[1;32m     16\u001b[0m     \u001b[0mplt\u001b[0m\u001b[0;34m.\u001b[0m\u001b[0mplot\u001b[0m\u001b[0;34m(\u001b[0m\u001b[0metas\u001b[0m\u001b[0;34m,\u001b[0m \u001b[0;34m(\u001b[0m\u001b[0mp_data\u001b[0m\u001b[0;34m)\u001b[0m\u001b[0;34m,\u001b[0m \u001b[0mmarker\u001b[0m\u001b[0;34m=\u001b[0m\u001b[0;34m'o'\u001b[0m\u001b[0;34m,\u001b[0m \u001b[0mlinewidth\u001b[0m \u001b[0;34m=\u001b[0m \u001b[0;36m1.0\u001b[0m\u001b[0;34m,\u001b[0m \u001b[0mmarkersize\u001b[0m\u001b[0;34m=\u001b[0m\u001b[0;36m12\u001b[0m\u001b[0;34m,\u001b[0m \u001b[0mcolor\u001b[0m \u001b[0;34m=\u001b[0m \u001b[0mcolors\u001b[0m\u001b[0;34m[\u001b[0m\u001b[0mi\u001b[0m\u001b[0;34m]\u001b[0m\u001b[0;34m)\u001b[0m\u001b[0;34m\u001b[0m\u001b[0m\n\u001b[1;32m     17\u001b[0m \u001b[0;34m\u001b[0m\u001b[0m\n",
      "\u001b[0;31mNameError\u001b[0m: name 'OPs_small_abs' is not defined"
     ]
    },
    {
     "data": {
      "image/png": "[encoded data removed]",
      "text/plain": [
       "<matplotlib.figure.Figure at 0x7f4f05a17210>"
      ]
     },
     "metadata": {},
     "output_type": "display_data"
    }
   ],
   "source": [
    "#highlight the transition region if found\n",
    "plt.axvspan(0.700, 0.716, alpha=0.2, color='grey')\n",
    "plt.axvspan(0.716, 0.730, alpha=0.2, color='blue')\n",
    "\n",
    "plt.axvspan(0.716, 0.716001, alpha=1, color='black')\n",
    "plt.axvspan(0.755, 0.755001, alpha=1, color='black')\n",
    "\n",
    "#plt.axvspan(0.72, 0.72001, alpha=10, color='black')\n",
    "\n",
    "#plot the principal components\n",
    "colors = 200*['green', 'purple', 'orange', 'teal', 'black', 'red']\n",
    "for i in range(0,4): #16,17\n",
    "    #p_data = OPs_small[:,i]\n",
    "    #plt.plot(etas, (p_data), marker='o', linewidth = 1.0, markersize=12, color = colors[i], markerfacecolor='None')\n",
    "    p_data = OPs_small_abs[:,i]\n",
    "    plt.plot(etas, (p_data), marker='o', linewidth = 1.0, markersize=12, color = colors[i])\n",
    "    \n",
    "#plt.plot(etas, num_defects, marker='o', linewidth = 1.0, markersize=10, color = 'black')    \n",
    "\n",
    "#backround grid details\n",
    "axes = plt.gca()\n",
    "axes.grid(b = True, which = 'both', axis = 'both', color = 'gray', linestyle = '-', alpha = 0.5, linewidth = 0.5) \n",
    "axes.set_axis_bgcolor('white')  \n",
    "\n",
    "#font scpecifications\n",
    "title_font = {'family' : 'arial', 'color'  : 'black', 'weight' : 'heavy','size': 20}\n",
    "axis_label_font = {'family' : 'arial', 'color'  : 'black', 'weight' : 'normal','size': 20}                                                   \n",
    "\n",
    "#figure size and tick style\n",
    "plt.rcParams[\"figure.figsize\"] = [6,6]\n",
    "plt.rc('axes',edgecolor='black',linewidth=1)\n",
    "plt.tick_params(which='both', axis='both', color='black', length=4, width=0.5)\n",
    "plt.rcParams['xtick.direction'] = 'in'\n",
    "plt.rcParams['ytick.direction'] = 'in'\n",
    "\n",
    "#axis range and labels (also specify if log or not)\n",
    "plt.xlim(0.60, 0.84)\n",
    "#plt.ylim(-0.1,0.1)\n",
    "\n",
    "#plt.ylim(0.01,0.6)\n",
    "#plt.yscale('log')\n",
    "\n",
    "#plt.yscale('log')\n",
    "plt.xlabel(r'$\\eta$', y=3, fontsize=20, fontdict = axis_label_font)\n",
    "plt.ylabel(r'$\\langle P_{i} \\rangle$ and $\\langle |P_{i}| \\rangle$', fontsize=20, fontdict = axis_label_font)\n",
    "\n",
    "#title and axis labels\n",
    "plt.tick_params(axis='both', labelsize=20)\n",
    "plt.title('PCA hard disks', y=1.05, fontdict = title_font)\n",
    "\n",
    "plt.show()"
   ]
  },
  {
   "cell_type": "code",
   "execution_count": null,
   "metadata": {
    "collapsed": true
   },
   "outputs": [],
   "source": []
  },
  {
   "cell_type": "code",
   "execution_count": null,
   "metadata": {
    "collapsed": true
   },
   "outputs": [],
   "source": []
  },
  {
   "cell_type": "code",
   "execution_count": null,
   "metadata": {
    "collapsed": true
   },
   "outputs": [],
   "source": []
  },
  {
   "cell_type": "code",
   "execution_count": null,
   "metadata": {
    "collapsed": true
   },
   "outputs": [],
   "source": []
  },
  {
   "cell_type": "code",
   "execution_count": null,
   "metadata": {
    "collapsed": true
   },
   "outputs": [],
   "source": []
  },
  {
   "cell_type": "code",
   "execution_count": null,
   "metadata": {
    "collapsed": true
   },
   "outputs": [],
   "source": []
  },
  {
   "cell_type": "code",
   "execution_count": null,
   "metadata": {
    "collapsed": true
   },
   "outputs": [],
   "source": []
  },
  {
   "cell_type": "code",
   "execution_count": null,
   "metadata": {
    "collapsed": true
   },
   "outputs": [],
   "source": []
  },
  {
   "cell_type": "code",
   "execution_count": 257,
   "metadata": {},
   "outputs": [
    {
     "data": {
      "text/plain": [
       "1600"
      ]
     },
     "execution_count": 257,
     "metadata": {},
     "output_type": "execute_result"
    }
   ],
   "source": [
    "40*40"
   ]
  },
  {
   "cell_type": "markdown",
   "metadata": {},
   "source": [
    "## Testing WR mixture"
   ]
  },
  {
   "cell_type": "code",
   "execution_count": 1,
   "metadata": {},
   "outputs": [
    {
     "name": "stdout",
     "output_type": "stream",
     "text": [
      "The history saving thread hit an unexpected error (DatabaseError('database disk image is malformed',)).History will not be written to the database.\n"
     ]
    }
   ],
   "source": [
    "import hoomd\n",
    "import hoomd.hpmc"
   ]
  },
  {
   "cell_type": "code",
   "execution_count": 2,
   "metadata": {},
   "outputs": [
    {
     "name": "stdout",
     "output_type": "stream",
     "text": [
      "HOOMD-blue v2.1.7 CUDA (7.5) DOUBLE HPMC_MIXED MPI SSE SSE2 SSE3 \n",
      "Compiled: 05/11/2017\n",
      "Copyright 2009-2016 The Regents of the University of Michigan.\n",
      "-----\n",
      "You are using HOOMD-blue. Please cite the following:\n",
      "* J A Anderson, C D Lorenz, and A Travesset. \"General purpose molecular dynamics\n",
      "  simulations fully implemented on graphics processing units\", Journal of\n",
      "  Computational Physics 227 (2008) 5342--5359\n",
      "* J Glaser, T D Nguyen, J A Anderson, P Liu, F Spiga, J A Millan, D C Morse, and\n",
      "  S C Glotzer. \"Strong scaling of general-purpose molecular dynamics simulations\n",
      "  on GPUs\", Computer Physics Communications 192 (2015) 97--107\n",
      "-----\n",
      "-----\n",
      "You are using HPMC. Please cite the following:\n",
      "* J A Anderson, M E Irrgang, and S C Glotzer. \"Scalable Metropolis Monte Carlo\n",
      "  for simulation of hard shapes\", Computer Physics Communications 204 (2016) 21\n",
      "  --30\n",
      "-----\n",
      "notice(2): NVIDIA driver not installed or is too old, ignoring any GPUs in the system.\n",
      "HOOMD-blue is running on the CPU\n"
     ]
    },
    {
     "data": {
      "text/plain": [
       "<hoomd.context.SimulationContext at 0x7f4f3ffe7350>"
      ]
     },
     "execution_count": 2,
     "metadata": {},
     "output_type": "execute_result"
    }
   ],
   "source": [
    "hoomd.context.initialize(\"--mode=cpu\")"
   ]
  },
  {
   "cell_type": "code",
   "execution_count": 3,
   "metadata": {
    "collapsed": true
   },
   "outputs": [],
   "source": [
    "from numpy import pi, arange"
   ]
  },
  {
   "cell_type": "code",
   "execution_count": 4,
   "metadata": {
    "collapsed": true
   },
   "outputs": [],
   "source": [
    "d = 1.0\n",
    "#etas = arange(0.65, 0.75, 0.002)\n",
    "eta_init = 0.3\n",
    "a = (((pi*d**2.0)/4.0)/eta_init)**(1.0/2.0)\n",
    "n = 64"
   ]
  },
  {
   "cell_type": "code",
   "execution_count": 5,
   "metadata": {},
   "outputs": [
    {
     "name": "stdout",
     "output_type": "stream",
     "text": [
      "notice(2): Group \"all\" created containing 4096 particles\n"
     ]
    }
   ],
   "source": [
    "system = hoomd.init.create_lattice(unitcell=hoomd.lattice.sq(a=a), n=n)"
   ]
  },
  {
   "cell_type": "code",
   "execution_count": 6,
   "metadata": {
    "collapsed": true
   },
   "outputs": [],
   "source": [
    "mc = hoomd.hpmc.integrate.sphere(d=0.2, seed=1)\n",
    "mc.shape_param.set('A', diameter=1.0)"
   ]
  },
  {
   "cell_type": "code",
   "execution_count": 7,
   "metadata": {
    "collapsed": true
   },
   "outputs": [],
   "source": [
    "system.particles.types.add('B')\n",
    "for i in range(n*n/2, n*n):\n",
    "    system.particles[i].type = 'B'"
   ]
  },
  {
   "cell_type": "code",
   "execution_count": 8,
   "metadata": {
    "collapsed": true
   },
   "outputs": [],
   "source": [
    "mc.shape_param.set('A', diameter=1.0)\n",
    "mc.shape_param.set('B', diameter=1.0)\n",
    "mc.overlap_checks.set('A', 'A', enable=False)\n",
    "mc.overlap_checks.set('A', 'B', enable=True)\n",
    "mc.overlap_checks.set('B', 'B', enable=False)"
   ]
  },
  {
   "cell_type": "code",
   "execution_count": 49,
   "metadata": {},
   "outputs": [
    {
     "data": {
      "text/plain": [
       "55"
      ]
     },
     "execution_count": 49,
     "metadata": {},
     "output_type": "execute_result"
    }
   ],
   "source": [
    "len(arange(0.48, 0.75001, 0.005))"
   ]
  },
  {
   "cell_type": "code",
   "execution_count": 11,
   "metadata": {},
   "outputs": [
    {
     "name": "stdout",
     "output_type": "stream",
     "text": [
      "** starting run **\n",
      "Time 00:00:41 | Step 1000 / 1000 | TPS 222.192 | ETA 00:00:00\n",
      "Average TPS: 222.071\n",
      "---------\n",
      "notice(2): -- HPMC stats:\n",
      "notice(2): Average translate acceptance: 0.996867\n",
      "notice(2): Trial moves per second:        3.63535e+06\n",
      "notice(2): Overlap checks per second:     6.50141e+07\n",
      "notice(2): Overlap checks per trial move: 17.8839\n",
      "notice(2): Number of overlap errors:      0\n",
      "** run complete **\n"
     ]
    }
   ],
   "source": [
    "hoomd.run(1000)"
   ]
  },
  {
   "cell_type": "code",
   "execution_count": 9,
   "metadata": {
    "collapsed": true
   },
   "outputs": [],
   "source": [
    "def Compress(eta_tgt, scale=0.9):\n",
    "    #get current state\n",
    "    snap = system.take_snapshot()\n",
    "    N = len(snap.particles.diameter)\n",
    "    Vp = sum(pi*(snap.particles.diameter**2.0)/4.0)\n",
    "    Vb = system.box.get_volume()\n",
    "    eta = Vp/Vb\n",
    "    eta_init = eta\n",
    "    \n",
    "    print '\\nStarting from eta={}\\n'.format(eta)\n",
    "    \n",
    "    #calculate new quantities\n",
    "    Vb_tgt = Vp/eta_tgt\n",
    "    \n",
    "    #box compression loop\n",
    "    while Vb > Vb_tgt:\n",
    "        Vb = max(Vb*scale, Vb_tgt)\n",
    "        eta = Vp/Vb\n",
    "        new_box = system.box.set_volume(Vb)\n",
    "        hoomd.update.box_resize(Lx=new_box.Lx, Ly=new_box.Ly, Lz=new_box.Lz, period=None)\n",
    "        overlaps = mc.count_overlaps()\n",
    "        \n",
    "        #run until all overlaps are removed\n",
    "        while overlaps > 0:\n",
    "            hoomd.run(100, quiet=True)\n",
    "            overlaps = mc.count_overlaps()\n",
    "            \n",
    "        print \"Compressed to eta={}\\n\".format(eta)"
   ]
  },
  {
   "cell_type": "code",
   "execution_count": 12,
   "metadata": {
    "scrolled": true
   },
   "outputs": [
    {
     "name": "stdout",
     "output_type": "stream",
     "text": [
      "\n",
      "Starting from eta=0.333333342609\n",
      "\n",
      "Compressed to eta=0.370370380677\n",
      "\n",
      "Compressed to eta=0.411522645197\n",
      "\n",
      "Compressed to eta=0.457247383552\n",
      "\n",
      "Compressed to eta=0.508052648391\n",
      "\n",
      "Compressed to eta=0.564502942656\n",
      "\n",
      "Compressed to eta=0.62722549184\n",
      "\n",
      "Compressed to eta=0.696917213156\n",
      "\n",
      "Compressed to eta=0.774352459062\n",
      "\n",
      "Compressed to eta=0.8\n",
      "\n"
     ]
    }
   ],
   "source": [
    "Compress(0.8)"
   ]
  },
  {
   "cell_type": "code",
   "execution_count": 13,
   "metadata": {},
   "outputs": [
    {
     "name": "stdout",
     "output_type": "stream",
     "text": [
      "** starting run **\n",
      "Time 00:01:10 | Step 3805 / 11900 | TPS 190.42 | ETA 00:00:42\n",
      "Time 00:01:20 | Step 5694 / 11900 | TPS 188.836 | ETA 00:00:32\n",
      "Time 00:01:30 | Step 7574 / 11900 | TPS 187.922 | ETA 00:00:23\n",
      "Time 00:01:40 | Step 9445 / 11900 | TPS 187.018 | ETA 00:00:13\n",
      "Time 00:01:50 | Step 11308 / 11900 | TPS 186.263 | ETA 00:00:03\n",
      "Time 00:01:54 | Step 11900 / 11900 | TPS 185.272 | ETA 00:00:00\n",
      "Average TPS: 187.915\n",
      "---------\n",
      "notice(2): -- HPMC stats:\n",
      "notice(2): Average translate acceptance: 0.988187\n",
      "notice(2): Trial moves per second:        3.07858e+06\n",
      "notice(2): Overlap checks per second:     7.58691e+07\n",
      "notice(2): Overlap checks per trial move: 24.6442\n",
      "notice(2): Number of overlap errors:      0\n",
      "** run complete **\n",
      "** starting run **\n",
      "Time 00:02:04 | Step 13754 / 21900 | TPS 185.343 | ETA 00:00:43\n",
      "Time 00:02:14 | Step 15603 / 21900 | TPS 184.845 | ETA 00:00:34\n",
      "Time 00:02:24 | Step 17446 / 21900 | TPS 184.278 | ETA 00:00:24\n",
      "Time 00:02:34 | Step 19280 / 21900 | TPS 183.358 | ETA 00:00:14\n",
      "Time 00:02:44 | Step 21109 / 21900 | TPS 182.851 | ETA 00:00:04\n",
      "Time 00:02:48 | Step 21900 / 21900 | TPS 181.764 | ETA 00:00:00\n",
      "Average TPS: 183.938\n",
      "---------\n",
      "notice(2): -- HPMC stats:\n",
      "notice(2): Average translate acceptance: 0.983622\n",
      "notice(2): Trial moves per second:        3.01343e+06\n",
      "notice(2): Overlap checks per second:     7.40972e+07\n",
      "notice(2): Overlap checks per trial move: 24.589\n",
      "notice(2): Number of overlap errors:      0\n",
      "** run complete **\n"
     ]
    }
   ],
   "source": [
    "eta=0.80\n",
    "\n",
    "hoomd.run(10000)\n",
    "    \n",
    "#set up the file writer and run the production version\n",
    "d = hoomd.dump.gsd(\"./trajectories/trajectory_{:.4f}.gsd\".format(eta), period=1000, group=hoomd.group.all(), overwrite=True)\n",
    "hoomd.run(10000)\n",
    "    \n",
    "#diable old file writer\n",
    "d.disable()"
   ]
  },
  {
   "cell_type": "code",
   "execution_count": null,
   "metadata": {
    "collapsed": true
   },
   "outputs": [],
   "source": []
  },
  {
   "cell_type": "code",
   "execution_count": 132,
   "metadata": {},
   "outputs": [
    {
     "name": "stderr",
     "output_type": "stream",
     "text": [
      "/home/ryanj/miniconda2/lib/python2.7/site-packages/ipykernel_launcher.py:1: RuntimeWarning: invalid value encountered in power\n",
      "  \"\"\"Entry point for launching an IPython kernel.\n"
     ]
    },
    {
     "data": {
      "text/plain": [
       "nan"
      ]
     },
     "execution_count": 132,
     "metadata": {},
     "output_type": "execute_result"
    }
   ],
   "source": [
    "power(-2.0,3.1)"
   ]
  },
  {
   "cell_type": "code",
   "execution_count": null,
   "metadata": {
    "collapsed": true
   },
   "outputs": [],
   "source": [
    "for single_eta in raw_OPs:\n",
    "    merged_data = []\n",
    "    for split in single_eta:\n",
    "        merged_data.extend(split)\n",
    "    plt.plot(merged_data[:,0])"
   ]
  },
  {
   "cell_type": "code",
   "execution_count": 18,
   "metadata": {},
   "outputs": [
    {
     "data": {
      "text/plain": [
       "51"
      ]
     },
     "execution_count": 18,
     "metadata": {},
     "output_type": "execute_result"
    }
   ],
   "source": [
    "len(arange(0.60, 0.85001, 0.005))\n"
   ]
  },
  {
   "cell_type": "code",
   "execution_count": 88,
   "metadata": {
    "collapsed": true
   },
   "outputs": [],
   "source": [
    "from scipy.special import j0\n",
    "from numpy import histogram, pi, power, rint\n",
    "from numpy.linalg import norm\n",
    "from numpy import trapz\n",
    "\n",
    "#function for calculating the rdf\n",
    "def RDF2D(frames, dr):\n",
    "    M = len(frames)\n",
    "    N = float(len(frames[0]['coords']))\n",
    "    L = frames[0]['L']\n",
    "    rho = float((N-1))/power(L, 2)\n",
    "    r_edg = arange(0.0, L/2.0, dr)\n",
    "    r = (r_edg[:-1] + r_edg[1:])/2.0\n",
    "    hist = 0.0*r\n",
    "    \n",
    "    #loop over the frames\n",
    "    for frame in frames:\n",
    "        coords = frame['coords']\n",
    "\n",
    "        #loop over each particle\n",
    "        for coord in coords:\n",
    "            #nearest neighbor coordinate wrapping\n",
    "            Rpj = coord - coords\n",
    "            Rpj = Rpj - rint(Rpj/L)*L\n",
    "            Rpj = norm(Rpj, axis=1)\n",
    "            \n",
    "            #calculate the histogram\n",
    "            hist = hist + histogram(Rpj, bins=r_edg)[0]\n",
    "    \n",
    "    #normalize out the number of frames and \n",
    "    hist = hist/float(M*(N-1))\n",
    "    gr = hist/((2.0*pi*r*dr)*rho)\n",
    "    \n",
    "    return r, gr\n",
    "\n",
    "#function for calculating the integral of h(r)\n",
    "def PositionalSuceptibility2D(frames, dr, k):\n",
    "    N = float(len(frames[0]['coords']))\n",
    "    L = frames[0]['L']\n",
    "    rho = float(N)/power(L, 2)\n",
    "    \n",
    "    d = float(L)/rint(L)\n",
    "    k = 2.0*pi/d\n",
    "    \n",
    "    #compute the rdfs and calculate S(k0)\n",
    "    r, gr = RDF2D(frames, dr)\n",
    "    #Sk0 = 1.0 + 2.0*pi*rho*trapz(r*(gr-1.0)*j0(k*r))\n",
    "    Sk0 = 1.0 + 2.0*pi*rho*trapz(r*abs(gr-1.0))\n",
    "    \n",
    "    return (Sk0, r, gr)"
   ]
  },
  {
   "cell_type": "code",
   "execution_count": 400,
   "metadata": {
    "collapsed": true
   },
   "outputs": [],
   "source": [
    "from scipy.special import j0\n",
    "from numpy import sin"
   ]
  },
  {
   "cell_type": "code",
   "execution_count": 401,
   "metadata": {},
   "outputs": [
    {
     "data": {
      "text/plain": [
       "[<matplotlib.lines.Line2D at 0x7f4eeebe4390>]"
      ]
     },
     "execution_count": 401,
     "metadata": {},
     "output_type": "execute_result"
    },
    {
     "data": {
      "image/png": "[encoded data removed]",
      "text/plain": [
       "<matplotlib.figure.Figure at 0x7f4eeebe4850>"
      ]
     },
     "metadata": {},
     "output_type": "display_data"
    }
   ],
   "source": [
    "x = arange(0.01,10,0.01)\n",
    "plt.plot(x, j0(x))\n",
    "plt.plot(x, sin(x)/x)\n"
   ]
  },
  {
   "cell_type": "code",
   "execution_count": 426,
   "metadata": {
    "collapsed": true
   },
   "outputs": [],
   "source": [
    "x, r, gr = PositionalSuceptibility2D(frames[0::100], 0.025, 2.0*pi)"
   ]
  },
  {
   "cell_type": "code",
   "execution_count": 431,
   "metadata": {},
   "outputs": [
    {
     "data": {
      "text/plain": [
       "(0, 6)"
      ]
     },
     "execution_count": 431,
     "metadata": {},
     "output_type": "execute_result"
    },
    {
     "data": {
      "image/png": "[encoded data removed]",
      "text/plain": [
       "<matplotlib.figure.Figure at 0x7f4eecd13850>"
      ]
     },
     "metadata": {},
     "output_type": "display_data"
    }
   ],
   "source": [
    "plt.plot(r[1:], (gr[1:]-1.0))\n",
    "plt.plot(r[1:], 1/power(r[1:], 1.0/3.0))\n",
    "plt.xlim(0,6)\n",
    "#plt.ylim(0.001,10.0)\n",
    "#plt.xscale('log')\n",
    "#plt.yscale('log')"
   ]
  },
  {
   "cell_type": "code",
   "execution_count": 317,
   "metadata": {},
   "outputs": [
    {
     "data": {
      "image/png": "[encoded data removed]",
      "text/plain": [
       "<matplotlib.figure.Figure at 0x7f4eeeb1d750>"
      ]
     },
     "metadata": {},
     "output_type": "display_data"
    }
   ],
   "source": [
    "plt.plot(r[1:], abs(gr[1:]-1.0))\n",
    "plt.plot(r[1:], 1/power(r[1:], 1.0/3.0))\n",
    "plt.xlim(1,35)\n",
    "plt.ylim(0.001,5.0)\n",
    "plt.xscale('log')\n",
    "plt.yscale('log')"
   ]
  },
  {
   "cell_type": "code",
   "execution_count": 418,
   "metadata": {},
   "outputs": [
    {
     "name": "stderr",
     "output_type": "stream",
     "text": [
      "/home/ryanj/miniconda2/lib/python2.7/site-packages/ipykernel_launcher.py:12: MatplotlibDeprecationWarning: The set_axis_bgcolor function was deprecated in version 2.0. Use set_facecolor instead.\n",
      "  if sys.path[0] == '':\n"
     ]
    },
    {
     "data": {
      "image/png": "[encoded data removed]",
      "text/plain": [
       "<matplotlib.figure.Figure at 0x7f4eeea26890>"
      ]
     },
     "metadata": {},
     "output_type": "display_data"
    }
   ],
   "source": [
    "#plot the principal components\n",
    "colors = 200*['green', 'purple', 'orange', 'teal', 'black', 'red']\n",
    "\n",
    "for r_gr in r_grs:\n",
    "    plt.plot(r_grs[0][0], r_grs[0][1], marker='o', linewidth = 2.0, markersize=2, color = 'red', markerfacecolor='None')\n",
    "    \n",
    "#plt.plot([sum(incpca.explained_variance_ratio_[:i]) for i in range(1,len(incpca.explained_variance_ratio_))], marker='o', linewidth = 1.0, markersize=12, color = 'red')\n",
    "    \n",
    "#plt.plot(etas, num_defects, marker='o', linewidth = 1.0, markersize=10, color = 'black')    \n",
    "\n",
    "#backround grid details\n",
    "axes = plt.gca()\n",
    "axes.grid(b = True, which = 'both', axis = 'both', color = 'gray', linestyle = '-', alpha = 0.5, linewidth = 0.5) \n",
    "axes.set_axis_bgcolor('white')  \n",
    "\n",
    "#font scpecifications\n",
    "title_font = {'family' : 'arial', 'color'  : 'black', 'weight' : 'heavy','size': 20}\n",
    "axis_label_font = {'family' : 'arial', 'color'  : 'black', 'weight' : 'normal','size': 20}                                                   \n",
    "\n",
    "#figure size and tick style\n",
    "plt.rcParams[\"figure.figsize\"] = [6,6]\n",
    "plt.rc('axes',edgecolor='black',linewidth=1)\n",
    "plt.tick_params(which='both', axis='both', color='black', length=4, width=0.5)\n",
    "plt.rcParams['xtick.direction'] = 'in'\n",
    "plt.rcParams['ytick.direction'] = 'in'\n",
    "\n",
    "plt.xlim(20,30)\n",
    "plt.ylim(0.6,1.4)\n",
    "#plt.yscale('log')\n",
    "\n",
    "plt.xlabel(r'$\\eta$', y=3, fontsize=20, fontdict = axis_label_font)\n",
    "plt.ylabel(r'Explained variance', fontsize=20, fontdict = axis_label_font)\n",
    "\n",
    "#title and axis labels\n",
    "plt.tick_params(axis='both', labelsize=20)\n",
    "plt.title('PCA hard disks', y=1.05, fontdict = title_font)\n",
    "\n",
    "plt.show()"
   ]
  },
  {
   "cell_type": "code",
   "execution_count": 262,
   "metadata": {
    "collapsed": true
   },
   "outputs": [],
   "source": [
    "from numpy import trapz"
   ]
  },
  {
   "cell_type": "code",
   "execution_count": 266,
   "metadata": {},
   "outputs": [
    {
     "data": {
      "text/plain": [
       "1062.9743662982394"
      ]
     },
     "execution_count": 266,
     "metadata": {},
     "output_type": "execute_result"
    }
   ],
   "source": [
    "rho = float(len(frames[0]['coords']))/frames[0]['L']\n",
    "trapz(2.0*pi*rho*(gr-1.0), r)"
   ]
  },
  {
   "cell_type": "code",
   "execution_count": 277,
   "metadata": {},
   "outputs": [
    {
     "data": {
      "text/plain": [
       "510.23707895340073"
      ]
     },
     "execution_count": 277,
     "metadata": {},
     "output_type": "execute_result"
    }
   ],
   "source": [
    "rho = float(len(frames[0]['coords']))/frames[0]['L']\n",
    "trapz(2.0*pi*rho*r*(gr-1.0), r)"
   ]
  },
  {
   "cell_type": "code",
   "execution_count": 49,
   "metadata": {
    "scrolled": true
   },
   "outputs": [
    {
     "name": "stdout",
     "output_type": "stream",
     "text": [
      "eta=0.55\n",
      "\n",
      "eta=0.555\n",
      "\n",
      "eta=0.56\n",
      "\n",
      "eta=0.565\n",
      "\n",
      "eta=0.57\n",
      "\n",
      "eta=0.575\n",
      "\n",
      "eta=0.58\n",
      "\n",
      "eta=0.585\n",
      "\n",
      "eta=0.59\n",
      "\n",
      "eta=0.595\n",
      "\n",
      "eta=0.6\n",
      "\n",
      "eta=0.605\n",
      "\n",
      "eta=0.61\n",
      "\n",
      "eta=0.615\n",
      "\n",
      "eta=0.62\n",
      "\n",
      "eta=0.625\n",
      "\n",
      "eta=0.63\n",
      "\n",
      "eta=0.635\n",
      "\n",
      "eta=0.64\n",
      "\n",
      "eta=0.645\n",
      "\n",
      "eta=0.65\n",
      "\n",
      "eta=0.655\n",
      "\n",
      "eta=0.66\n",
      "\n",
      "eta=0.665\n",
      "\n",
      "eta=0.67\n",
      "\n",
      "eta=0.675\n",
      "\n",
      "eta=0.68\n",
      "\n",
      "eta=0.685\n",
      "\n",
      "eta=0.69\n",
      "\n",
      "eta=0.695\n",
      "\n",
      "eta=0.7\n",
      "\n",
      "eta=0.705\n",
      "\n",
      "eta=0.71\n",
      "\n",
      "eta=0.715\n",
      "\n",
      "eta=0.72\n",
      "\n",
      "eta=0.725\n",
      "\n",
      "eta=0.73\n",
      "\n",
      "eta=0.735\n",
      "\n",
      "eta=0.74\n",
      "\n",
      "eta=0.745\n",
      "\n",
      "eta=0.75\n",
      "\n",
      "eta=0.755\n",
      "\n",
      "eta=0.76\n",
      "\n",
      "eta=0.765\n",
      "\n",
      "eta=0.77\n",
      "\n",
      "eta=0.775\n",
      "\n",
      "eta=0.78\n",
      "\n",
      "eta=0.785\n",
      "\n",
      "eta=0.79\n",
      "\n",
      "eta=0.795\n",
      "\n",
      "eta=0.8\n",
      "\n",
      "eta=0.805\n",
      "\n",
      "eta=0.81\n",
      "\n",
      "eta=0.815\n",
      "\n",
      "eta=0.82\n",
      "\n"
     ]
    }
   ],
   "source": [
    "r_grs = []\n",
    "Xs = []\n",
    "\n",
    "for etas, file_base in file_data:\n",
    "    for eta in etas:\n",
    "        print 'eta={}\\n'.format(eta)\n",
    "        filename = \"{}/trajectory_{:.4f}.gsd\".format(file_base, eta)\n",
    "        frames = ReadGSD(filename, shuffle_data=True)\n",
    "        \n",
    "        X, r, gr = PositionalSuceptibility2D(frames[0::200], 0.025, k=2.0*pi/1.0)\n",
    "        Xs.append(X)\n",
    "        r_grs.append([r, gr])"
   ]
  },
  {
   "cell_type": "code",
   "execution_count": 54,
   "metadata": {},
   "outputs": [
    {
     "ename": "ValueError",
     "evalue": "x and y must have same first dimension, but have shapes (52,) and (55,)",
     "output_type": "error",
     "traceback": [
      "\u001b[0;31m\u001b[0m",
      "\u001b[0;31mValueError\u001b[0mTraceback (most recent call last)",
      "\u001b[0;32m<ipython-input-54-397daf70341c>\u001b[0m in \u001b[0;36m<module>\u001b[0;34m()\u001b[0m\n\u001b[1;32m     11\u001b[0m \u001b[0mcolors\u001b[0m \u001b[0;34m=\u001b[0m \u001b[0;36m200\u001b[0m\u001b[0;34m*\u001b[0m\u001b[0;34m[\u001b[0m\u001b[0;34m'green'\u001b[0m\u001b[0;34m,\u001b[0m \u001b[0;34m'purple'\u001b[0m\u001b[0;34m,\u001b[0m \u001b[0;34m'orange'\u001b[0m\u001b[0;34m,\u001b[0m \u001b[0;34m'teal'\u001b[0m\u001b[0;34m,\u001b[0m \u001b[0;34m'black'\u001b[0m\u001b[0;34m,\u001b[0m \u001b[0;34m'red'\u001b[0m\u001b[0;34m]\u001b[0m\u001b[0;34m\u001b[0m\u001b[0m\n\u001b[1;32m     12\u001b[0m \u001b[0;34m\u001b[0m\u001b[0m\n\u001b[0;32m---> 13\u001b[0;31m \u001b[0mplt\u001b[0m\u001b[0;34m.\u001b[0m\u001b[0mplot\u001b[0m\u001b[0;34m(\u001b[0m\u001b[0metas\u001b[0m\u001b[0;34m,\u001b[0m \u001b[0mXs\u001b[0m\u001b[0;34m,\u001b[0m \u001b[0mmarker\u001b[0m\u001b[0;34m=\u001b[0m\u001b[0;34m'o'\u001b[0m\u001b[0;34m,\u001b[0m \u001b[0mlinewidth\u001b[0m \u001b[0;34m=\u001b[0m \u001b[0;36m1.0\u001b[0m\u001b[0;34m,\u001b[0m \u001b[0mmarkersize\u001b[0m\u001b[0;34m=\u001b[0m\u001b[0;36m12\u001b[0m\u001b[0;34m,\u001b[0m \u001b[0mcolor\u001b[0m \u001b[0;34m=\u001b[0m \u001b[0mcolors\u001b[0m\u001b[0;34m[\u001b[0m\u001b[0mi\u001b[0m\u001b[0;34m]\u001b[0m\u001b[0;34m)\u001b[0m\u001b[0;34m\u001b[0m\u001b[0m\n\u001b[0m\u001b[1;32m     14\u001b[0m \u001b[0;34m\u001b[0m\u001b[0m\n\u001b[1;32m     15\u001b[0m \u001b[0;31m#plt.plot(etas, num_defects, marker='o', linewidth = 1.0, markersize=10, color = 'black')\u001b[0m\u001b[0;34m\u001b[0m\u001b[0;34m\u001b[0m\u001b[0m\n",
      "\u001b[0;32m/home/ryanj/.local/lib/python2.7/site-packages/matplotlib/pyplot.pyc\u001b[0m in \u001b[0;36mplot\u001b[0;34m(*args, **kwargs)\u001b[0m\n\u001b[1;32m   3259\u001b[0m                       mplDeprecation)\n\u001b[1;32m   3260\u001b[0m     \u001b[0;32mtry\u001b[0m\u001b[0;34m:\u001b[0m\u001b[0;34m\u001b[0m\u001b[0m\n\u001b[0;32m-> 3261\u001b[0;31m         \u001b[0mret\u001b[0m \u001b[0;34m=\u001b[0m \u001b[0max\u001b[0m\u001b[0;34m.\u001b[0m\u001b[0mplot\u001b[0m\u001b[0;34m(\u001b[0m\u001b[0;34m*\u001b[0m\u001b[0margs\u001b[0m\u001b[0;34m,\u001b[0m \u001b[0;34m**\u001b[0m\u001b[0mkwargs\u001b[0m\u001b[0;34m)\u001b[0m\u001b[0;34m\u001b[0m\u001b[0m\n\u001b[0m\u001b[1;32m   3262\u001b[0m     \u001b[0;32mfinally\u001b[0m\u001b[0;34m:\u001b[0m\u001b[0;34m\u001b[0m\u001b[0m\n\u001b[1;32m   3263\u001b[0m         \u001b[0max\u001b[0m\u001b[0;34m.\u001b[0m\u001b[0m_hold\u001b[0m \u001b[0;34m=\u001b[0m \u001b[0mwashold\u001b[0m\u001b[0;34m\u001b[0m\u001b[0m\n",
      "\u001b[0;32m/home/ryanj/.local/lib/python2.7/site-packages/matplotlib/__init__.pyc\u001b[0m in \u001b[0;36minner\u001b[0;34m(ax, *args, **kwargs)\u001b[0m\n\u001b[1;32m   1715\u001b[0m                     warnings.warn(msg % (label_namer, func.__name__),\n\u001b[1;32m   1716\u001b[0m                                   RuntimeWarning, stacklevel=2)\n\u001b[0;32m-> 1717\u001b[0;31m             \u001b[0;32mreturn\u001b[0m \u001b[0mfunc\u001b[0m\u001b[0;34m(\u001b[0m\u001b[0max\u001b[0m\u001b[0;34m,\u001b[0m \u001b[0;34m*\u001b[0m\u001b[0margs\u001b[0m\u001b[0;34m,\u001b[0m \u001b[0;34m**\u001b[0m\u001b[0mkwargs\u001b[0m\u001b[0;34m)\u001b[0m\u001b[0;34m\u001b[0m\u001b[0m\n\u001b[0m\u001b[1;32m   1718\u001b[0m         \u001b[0mpre_doc\u001b[0m \u001b[0;34m=\u001b[0m \u001b[0minner\u001b[0m\u001b[0;34m.\u001b[0m\u001b[0m__doc__\u001b[0m\u001b[0;34m\u001b[0m\u001b[0m\n\u001b[1;32m   1719\u001b[0m         \u001b[0;32mif\u001b[0m \u001b[0mpre_doc\u001b[0m \u001b[0;32mis\u001b[0m \u001b[0mNone\u001b[0m\u001b[0;34m:\u001b[0m\u001b[0;34m\u001b[0m\u001b[0m\n",
      "\u001b[0;32m/home/ryanj/.local/lib/python2.7/site-packages/matplotlib/axes/_axes.pyc\u001b[0m in \u001b[0;36mplot\u001b[0;34m(self, *args, **kwargs)\u001b[0m\n\u001b[1;32m   1370\u001b[0m         \u001b[0mkwargs\u001b[0m \u001b[0;34m=\u001b[0m \u001b[0mcbook\u001b[0m\u001b[0;34m.\u001b[0m\u001b[0mnormalize_kwargs\u001b[0m\u001b[0;34m(\u001b[0m\u001b[0mkwargs\u001b[0m\u001b[0;34m,\u001b[0m \u001b[0m_alias_map\u001b[0m\u001b[0;34m)\u001b[0m\u001b[0;34m\u001b[0m\u001b[0m\n\u001b[1;32m   1371\u001b[0m \u001b[0;34m\u001b[0m\u001b[0m\n\u001b[0;32m-> 1372\u001b[0;31m         \u001b[0;32mfor\u001b[0m \u001b[0mline\u001b[0m \u001b[0;32min\u001b[0m \u001b[0mself\u001b[0m\u001b[0;34m.\u001b[0m\u001b[0m_get_lines\u001b[0m\u001b[0;34m(\u001b[0m\u001b[0;34m*\u001b[0m\u001b[0margs\u001b[0m\u001b[0;34m,\u001b[0m \u001b[0;34m**\u001b[0m\u001b[0mkwargs\u001b[0m\u001b[0;34m)\u001b[0m\u001b[0;34m:\u001b[0m\u001b[0;34m\u001b[0m\u001b[0m\n\u001b[0m\u001b[1;32m   1373\u001b[0m             \u001b[0mself\u001b[0m\u001b[0;34m.\u001b[0m\u001b[0madd_line\u001b[0m\u001b[0;34m(\u001b[0m\u001b[0mline\u001b[0m\u001b[0;34m)\u001b[0m\u001b[0;34m\u001b[0m\u001b[0m\n\u001b[1;32m   1374\u001b[0m             \u001b[0mlines\u001b[0m\u001b[0;34m.\u001b[0m\u001b[0mappend\u001b[0m\u001b[0;34m(\u001b[0m\u001b[0mline\u001b[0m\u001b[0;34m)\u001b[0m\u001b[0;34m\u001b[0m\u001b[0m\n",
      "\u001b[0;32m/home/ryanj/.local/lib/python2.7/site-packages/matplotlib/axes/_base.pyc\u001b[0m in \u001b[0;36m_grab_next_args\u001b[0;34m(self, *args, **kwargs)\u001b[0m\n\u001b[1;32m    402\u001b[0m                 \u001b[0mthis\u001b[0m \u001b[0;34m+=\u001b[0m \u001b[0margs\u001b[0m\u001b[0;34m[\u001b[0m\u001b[0;36m0\u001b[0m\u001b[0;34m]\u001b[0m\u001b[0;34m,\u001b[0m\u001b[0;34m\u001b[0m\u001b[0m\n\u001b[1;32m    403\u001b[0m                 \u001b[0margs\u001b[0m \u001b[0;34m=\u001b[0m \u001b[0margs\u001b[0m\u001b[0;34m[\u001b[0m\u001b[0;36m1\u001b[0m\u001b[0;34m:\u001b[0m\u001b[0;34m]\u001b[0m\u001b[0;34m\u001b[0m\u001b[0m\n\u001b[0;32m--> 404\u001b[0;31m             \u001b[0;32mfor\u001b[0m \u001b[0mseg\u001b[0m \u001b[0;32min\u001b[0m \u001b[0mself\u001b[0m\u001b[0;34m.\u001b[0m\u001b[0m_plot_args\u001b[0m\u001b[0;34m(\u001b[0m\u001b[0mthis\u001b[0m\u001b[0;34m,\u001b[0m \u001b[0mkwargs\u001b[0m\u001b[0;34m)\u001b[0m\u001b[0;34m:\u001b[0m\u001b[0;34m\u001b[0m\u001b[0m\n\u001b[0m\u001b[1;32m    405\u001b[0m                 \u001b[0;32myield\u001b[0m \u001b[0mseg\u001b[0m\u001b[0;34m\u001b[0m\u001b[0m\n\u001b[1;32m    406\u001b[0m \u001b[0;34m\u001b[0m\u001b[0m\n",
      "\u001b[0;32m/home/ryanj/.local/lib/python2.7/site-packages/matplotlib/axes/_base.pyc\u001b[0m in \u001b[0;36m_plot_args\u001b[0;34m(self, tup, kwargs)\u001b[0m\n\u001b[1;32m    382\u001b[0m             \u001b[0mx\u001b[0m\u001b[0;34m,\u001b[0m \u001b[0my\u001b[0m \u001b[0;34m=\u001b[0m \u001b[0mindex_of\u001b[0m\u001b[0;34m(\u001b[0m\u001b[0mtup\u001b[0m\u001b[0;34m[\u001b[0m\u001b[0;34m-\u001b[0m\u001b[0;36m1\u001b[0m\u001b[0;34m]\u001b[0m\u001b[0;34m)\u001b[0m\u001b[0;34m\u001b[0m\u001b[0m\n\u001b[1;32m    383\u001b[0m \u001b[0;34m\u001b[0m\u001b[0m\n\u001b[0;32m--> 384\u001b[0;31m         \u001b[0mx\u001b[0m\u001b[0;34m,\u001b[0m \u001b[0my\u001b[0m \u001b[0;34m=\u001b[0m \u001b[0mself\u001b[0m\u001b[0;34m.\u001b[0m\u001b[0m_xy_from_xy\u001b[0m\u001b[0;34m(\u001b[0m\u001b[0mx\u001b[0m\u001b[0;34m,\u001b[0m \u001b[0my\u001b[0m\u001b[0;34m)\u001b[0m\u001b[0;34m\u001b[0m\u001b[0m\n\u001b[0m\u001b[1;32m    385\u001b[0m \u001b[0;34m\u001b[0m\u001b[0m\n\u001b[1;32m    386\u001b[0m         \u001b[0;32mif\u001b[0m \u001b[0mself\u001b[0m\u001b[0;34m.\u001b[0m\u001b[0mcommand\u001b[0m \u001b[0;34m==\u001b[0m \u001b[0;34m'plot'\u001b[0m\u001b[0;34m:\u001b[0m\u001b[0;34m\u001b[0m\u001b[0m\n",
      "\u001b[0;32m/home/ryanj/.local/lib/python2.7/site-packages/matplotlib/axes/_base.pyc\u001b[0m in \u001b[0;36m_xy_from_xy\u001b[0;34m(self, x, y)\u001b[0m\n\u001b[1;32m    241\u001b[0m         \u001b[0;32mif\u001b[0m \u001b[0mx\u001b[0m\u001b[0;34m.\u001b[0m\u001b[0mshape\u001b[0m\u001b[0;34m[\u001b[0m\u001b[0;36m0\u001b[0m\u001b[0;34m]\u001b[0m \u001b[0;34m!=\u001b[0m \u001b[0my\u001b[0m\u001b[0;34m.\u001b[0m\u001b[0mshape\u001b[0m\u001b[0;34m[\u001b[0m\u001b[0;36m0\u001b[0m\u001b[0;34m]\u001b[0m\u001b[0;34m:\u001b[0m\u001b[0;34m\u001b[0m\u001b[0m\n\u001b[1;32m    242\u001b[0m             raise ValueError(\"x and y must have same first dimension, but \"\n\u001b[0;32m--> 243\u001b[0;31m                              \"have shapes {} and {}\".format(x.shape, y.shape))\n\u001b[0m\u001b[1;32m    244\u001b[0m         \u001b[0;32mif\u001b[0m \u001b[0mx\u001b[0m\u001b[0;34m.\u001b[0m\u001b[0mndim\u001b[0m \u001b[0;34m>\u001b[0m \u001b[0;36m2\u001b[0m \u001b[0;32mor\u001b[0m \u001b[0my\u001b[0m\u001b[0;34m.\u001b[0m\u001b[0mndim\u001b[0m \u001b[0;34m>\u001b[0m \u001b[0;36m2\u001b[0m\u001b[0;34m:\u001b[0m\u001b[0;34m\u001b[0m\u001b[0m\n\u001b[1;32m    245\u001b[0m             raise ValueError(\"x and y can be no greater than 2-D, but have \"\n",
      "\u001b[0;31mValueError\u001b[0m: x and y must have same first dimension, but have shapes (52,) and (55,)"
     ]
    },
    {
     "data": {
      "image/png": "[encoded data removed]",
      "text/plain": [
       "<matplotlib.figure.Figure at 0x7f0f132ad710>"
      ]
     },
     "metadata": {},
     "output_type": "display_data"
    }
   ],
   "source": [
    "#highlight the transition region if found\n",
    "plt.axvspan(0.700, 0.716, alpha=0.2, color='grey')\n",
    "plt.axvspan(0.716, 0.730, alpha=0.2, color='blue')\n",
    "\n",
    "plt.axvspan(0.716, 0.716001, alpha=1, color='black')\n",
    "plt.axvspan(0.76, 0.76001, alpha=1, color='black')\n",
    "\n",
    "#plt.axvspan(0.72, 0.72001, alpha=10, color='black')\n",
    "\n",
    "#plot the principal components\n",
    "colors = 200*['green', 'purple', 'orange', 'teal', 'black', 'red']\n",
    "\n",
    "plt.plot(etas, Xs, marker='o', linewidth = 1.0, markersize=12, color = colors[i])\n",
    "    \n",
    "#plt.plot(etas, num_defects, marker='o', linewidth = 1.0, markersize=10, color = 'black')    \n",
    "\n",
    "#backround grid details\n",
    "axes = plt.gca()\n",
    "axes.grid(b = True, which = 'both', axis = 'both', color = 'gray', linestyle = '-', alpha = 0.5, linewidth = 0.5) \n",
    "axes.set_axis_bgcolor('white')  \n",
    "\n",
    "#font scpecifications\n",
    "title_font = {'family' : 'arial', 'color'  : 'black', 'weight' : 'heavy','size': 20}\n",
    "axis_label_font = {'family' : 'arial', 'color'  : 'black', 'weight' : 'normal','size': 20}                                                   \n",
    "\n",
    "#figure size and tick style\n",
    "plt.rcParams[\"figure.figsize\"] = [6,6]\n",
    "plt.rc('axes',edgecolor='black',linewidth=1)\n",
    "plt.tick_params(which='both', axis='both', color='black', length=4, width=0.5)\n",
    "plt.rcParams['xtick.direction'] = 'in'\n",
    "plt.rcParams['ytick.direction'] = 'in'\n",
    "\n",
    "#axis range and labels (also specify if log or not)\n",
    "plt.xlim(0.60, 0.84)\n",
    "#plt.ylim(-0.1,0.1)\n",
    "\n",
    "#plt.ylim(-0.1,0.1)\n",
    "#plt.yscale('log')\n",
    "\n",
    "#plt.yscale('log')\n",
    "plt.xlabel(r'$\\eta$', y=3, fontsize=20, fontdict = axis_label_font)\n",
    "plt.ylabel(r'Positional susceptibility', fontsize=20, fontdict = axis_label_font)\n",
    "\n",
    "#title and axis labels\n",
    "plt.tick_params(axis='both', labelsize=20)\n",
    "plt.title('PCA hard disks', y=1.05, fontdict = title_font)\n",
    "\n",
    "plt.show()"
   ]
  },
  {
   "cell_type": "code",
   "execution_count": 22,
   "metadata": {},
   "outputs": [
    {
     "data": {
      "text/plain": [
       "array([ 3.74165739,  3.46410162])"
      ]
     },
     "execution_count": 22,
     "metadata": {},
     "output_type": "execute_result"
    }
   ],
   "source": [
    "norm([[1,2,3],[2,2,2]], axis=1)"
   ]
  },
  {
   "cell_type": "code",
   "execution_count": 26,
   "metadata": {},
   "outputs": [
    {
     "data": {
      "text/plain": [
       "array([  0.  ,   0.02,   0.04,   0.06,   0.08,   0.1 ,   0.12,   0.14,\n",
       "         0.16,   0.18,   0.2 ,   0.22,   0.24,   0.26,   0.28,   0.3 ,\n",
       "         0.32,   0.34,   0.36,   0.38,   0.4 ,   0.42,   0.44,   0.46,\n",
       "         0.48,   0.5 ,   0.52,   0.54,   0.56,   0.58,   0.6 ,   0.62,\n",
       "         0.64,   0.66,   0.68,   0.7 ,   0.72,   0.74,   0.76,   0.78,\n",
       "         0.8 ,   0.82,   0.84,   0.86,   0.88,   0.9 ,   0.92,   0.94,\n",
       "         0.96,   0.98,   1.  ,   1.02,   1.04,   1.06,   1.08,   1.1 ,\n",
       "         1.12,   1.14,   1.16,   1.18,   1.2 ,   1.22,   1.24,   1.26,\n",
       "         1.28,   1.3 ,   1.32,   1.34,   1.36,   1.38,   1.4 ,   1.42,\n",
       "         1.44,   1.46,   1.48,   1.5 ,   1.52,   1.54,   1.56,   1.58,\n",
       "         1.6 ,   1.62,   1.64,   1.66,   1.68,   1.7 ,   1.72,   1.74,\n",
       "         1.76,   1.78,   1.8 ,   1.82,   1.84,   1.86,   1.88,   1.9 ,\n",
       "         1.92,   1.94,   1.96,   1.98,   2.  ,   2.02,   2.04,   2.06,\n",
       "         2.08,   2.1 ,   2.12,   2.14,   2.16,   2.18,   2.2 ,   2.22,\n",
       "         2.24,   2.26,   2.28,   2.3 ,   2.32,   2.34,   2.36,   2.38,\n",
       "         2.4 ,   2.42,   2.44,   2.46,   2.48,   2.5 ,   2.52,   2.54,\n",
       "         2.56,   2.58,   2.6 ,   2.62,   2.64,   2.66,   2.68,   2.7 ,\n",
       "         2.72,   2.74,   2.76,   2.78,   2.8 ,   2.82,   2.84,   2.86,\n",
       "         2.88,   2.9 ,   2.92,   2.94,   2.96,   2.98,   3.  ,   3.02,\n",
       "         3.04,   3.06,   3.08,   3.1 ,   3.12,   3.14,   3.16,   3.18,\n",
       "         3.2 ,   3.22,   3.24,   3.26,   3.28,   3.3 ,   3.32,   3.34,\n",
       "         3.36,   3.38,   3.4 ,   3.42,   3.44,   3.46,   3.48,   3.5 ,\n",
       "         3.52,   3.54,   3.56,   3.58,   3.6 ,   3.62,   3.64,   3.66,\n",
       "         3.68,   3.7 ,   3.72,   3.74,   3.76,   3.78,   3.8 ,   3.82,\n",
       "         3.84,   3.86,   3.88,   3.9 ,   3.92,   3.94,   3.96,   3.98,\n",
       "         4.  ,   4.02,   4.04,   4.06,   4.08,   4.1 ,   4.12,   4.14,\n",
       "         4.16,   4.18,   4.2 ,   4.22,   4.24,   4.26,   4.28,   4.3 ,\n",
       "         4.32,   4.34,   4.36,   4.38,   4.4 ,   4.42,   4.44,   4.46,\n",
       "         4.48,   4.5 ,   4.52,   4.54,   4.56,   4.58,   4.6 ,   4.62,\n",
       "         4.64,   4.66,   4.68,   4.7 ,   4.72,   4.74,   4.76,   4.78,\n",
       "         4.8 ,   4.82,   4.84,   4.86,   4.88,   4.9 ,   4.92,   4.94,\n",
       "         4.96,   4.98,   5.  ,   5.02,   5.04,   5.06,   5.08,   5.1 ,\n",
       "         5.12,   5.14,   5.16,   5.18,   5.2 ,   5.22,   5.24,   5.26,\n",
       "         5.28,   5.3 ,   5.32,   5.34,   5.36,   5.38,   5.4 ,   5.42,\n",
       "         5.44,   5.46,   5.48,   5.5 ,   5.52,   5.54,   5.56,   5.58,\n",
       "         5.6 ,   5.62,   5.64,   5.66,   5.68,   5.7 ,   5.72,   5.74,\n",
       "         5.76,   5.78,   5.8 ,   5.82,   5.84,   5.86,   5.88,   5.9 ,\n",
       "         5.92,   5.94,   5.96,   5.98,   6.  ,   6.02,   6.04,   6.06,\n",
       "         6.08,   6.1 ,   6.12,   6.14,   6.16,   6.18,   6.2 ,   6.22,\n",
       "         6.24,   6.26,   6.28,   6.3 ,   6.32,   6.34,   6.36,   6.38,\n",
       "         6.4 ,   6.42,   6.44,   6.46,   6.48,   6.5 ,   6.52,   6.54,\n",
       "         6.56,   6.58,   6.6 ,   6.62,   6.64,   6.66,   6.68,   6.7 ,\n",
       "         6.72,   6.74,   6.76,   6.78,   6.8 ,   6.82,   6.84,   6.86,\n",
       "         6.88,   6.9 ,   6.92,   6.94,   6.96,   6.98,   7.  ,   7.02,\n",
       "         7.04,   7.06,   7.08,   7.1 ,   7.12,   7.14,   7.16,   7.18,\n",
       "         7.2 ,   7.22,   7.24,   7.26,   7.28,   7.3 ,   7.32,   7.34,\n",
       "         7.36,   7.38,   7.4 ,   7.42,   7.44,   7.46,   7.48,   7.5 ,\n",
       "         7.52,   7.54,   7.56,   7.58,   7.6 ,   7.62,   7.64,   7.66,\n",
       "         7.68,   7.7 ,   7.72,   7.74,   7.76,   7.78,   7.8 ,   7.82,\n",
       "         7.84,   7.86,   7.88,   7.9 ,   7.92,   7.94,   7.96,   7.98,\n",
       "         8.  ,   8.02,   8.04,   8.06,   8.08,   8.1 ,   8.12,   8.14,\n",
       "         8.16,   8.18,   8.2 ,   8.22,   8.24,   8.26,   8.28,   8.3 ,\n",
       "         8.32,   8.34,   8.36,   8.38,   8.4 ,   8.42,   8.44,   8.46,\n",
       "         8.48,   8.5 ,   8.52,   8.54,   8.56,   8.58,   8.6 ,   8.62,\n",
       "         8.64,   8.66,   8.68,   8.7 ,   8.72,   8.74,   8.76,   8.78,\n",
       "         8.8 ,   8.82,   8.84,   8.86,   8.88,   8.9 ,   8.92,   8.94,\n",
       "         8.96,   8.98,   9.  ,   9.02,   9.04,   9.06,   9.08,   9.1 ,\n",
       "         9.12,   9.14,   9.16,   9.18,   9.2 ,   9.22,   9.24,   9.26,\n",
       "         9.28,   9.3 ,   9.32,   9.34,   9.36,   9.38,   9.4 ,   9.42,\n",
       "         9.44,   9.46,   9.48,   9.5 ,   9.52,   9.54,   9.56,   9.58,\n",
       "         9.6 ,   9.62,   9.64,   9.66,   9.68,   9.7 ,   9.72,   9.74,\n",
       "         9.76,   9.78,   9.8 ,   9.82,   9.84,   9.86,   9.88,   9.9 ,\n",
       "         9.92,   9.94,   9.96,   9.98,  10.  ,  10.02,  10.04,  10.06,\n",
       "        10.08,  10.1 ,  10.12,  10.14,  10.16,  10.18,  10.2 ,  10.22,\n",
       "        10.24,  10.26,  10.28,  10.3 ,  10.32,  10.34,  10.36,  10.38,\n",
       "        10.4 ,  10.42,  10.44,  10.46,  10.48,  10.5 ,  10.52,  10.54,\n",
       "        10.56,  10.58,  10.6 ,  10.62,  10.64,  10.66,  10.68,  10.7 ,\n",
       "        10.72,  10.74,  10.76,  10.78,  10.8 ,  10.82,  10.84,  10.86,\n",
       "        10.88,  10.9 ,  10.92,  10.94,  10.96,  10.98,  11.  ,  11.02,\n",
       "        11.04,  11.06,  11.08,  11.1 ,  11.12,  11.14,  11.16,  11.18,\n",
       "        11.2 ,  11.22,  11.24,  11.26,  11.28,  11.3 ,  11.32,  11.34,\n",
       "        11.36,  11.38,  11.4 ,  11.42,  11.44,  11.46,  11.48])"
      ]
     },
     "execution_count": 26,
     "metadata": {},
     "output_type": "execute_result"
    }
   ],
   "source": [
    "arange(0.0, 23./2.0, 0.02)"
   ]
  },
  {
   "cell_type": "code",
   "execution_count": 27,
   "metadata": {},
   "outputs": [
    {
     "data": {
      "text/plain": [
       "22.96"
      ]
     },
     "execution_count": 27,
     "metadata": {},
     "output_type": "execute_result"
    }
   ],
   "source": [
    "11.48*2"
   ]
  },
  {
   "cell_type": "code",
   "execution_count": 216,
   "metadata": {
    "collapsed": true
   },
   "outputs": [],
   "source": [
    "from numpy import save, load"
   ]
  },
  {
   "cell_type": "code",
   "execution_count": null,
   "metadata": {
    "collapsed": true
   },
   "outputs": [],
   "source": [
    "numpy.save(file, arr, allow_pickle=True, fix_imports=True)[source]"
   ]
  },
  {
   "cell_type": "code",
   "execution_count": 220,
   "metadata": {
    "collapsed": true
   },
   "outputs": [],
   "source": [
    "file = open(\".testfile.txt\",\"r\") "
   ]
  },
  {
   "cell_type": "code",
   "execution_count": 214,
   "metadata": {
    "collapsed": true
   },
   "outputs": [],
   "source": [
    "save(file, [[1,2],[3,43],[9.0,7]])"
   ]
  },
  {
   "cell_type": "code",
   "execution_count": 222,
   "metadata": {
    "collapsed": true
   },
   "outputs": [],
   "source": [
    "file.close()"
   ]
  },
  {
   "cell_type": "code",
   "execution_count": 223,
   "metadata": {
    "collapsed": true
   },
   "outputs": [],
   "source": [
    "a = array([[1,2,3],[4,5,6]])"
   ]
  },
  {
   "cell_type": "code",
   "execution_count": 224,
   "metadata": {
    "collapsed": true
   },
   "outputs": [],
   "source": [
    "with open('./data.pickle', 'wb') as handle:\n",
    "    pickle.dump(a, handle, protocol=pickle.HIGHEST_PROTOCOL)\n"
   ]
  },
  {
   "cell_type": "code",
   "execution_count": 226,
   "metadata": {
    "collapsed": true
   },
   "outputs": [],
   "source": [
    "with open('./processed_data/raw_OPs.pickle', 'rb') as handle:\n",
    "    raw_OPs = pickle.load(handle)"
   ]
  },
  {
   "cell_type": "code",
   "execution_count": null,
   "metadata": {
    "collapsed": true
   },
   "outputs": [],
   "source": []
  },
  {
   "cell_type": "code",
   "execution_count": null,
   "metadata": {
    "collapsed": true
   },
   "outputs": [],
   "source": []
  },
  {
   "cell_type": "code",
   "execution_count": null,
   "metadata": {
    "collapsed": true
   },
   "outputs": [],
   "source": []
  },
  {
   "cell_type": "code",
   "execution_count": null,
   "metadata": {
    "collapsed": true
   },
   "outputs": [],
   "source": []
  },
  {
   "cell_type": "code",
   "execution_count": 87,
   "metadata": {
    "collapsed": true
   },
   "outputs": [],
   "source": [
    "frames = ReadGSD('../hoomd_disks/trajectories_ww_4000p/trajectory_1.5000.gsd', shuffle_data=True)"
   ]
  },
  {
   "cell_type": "code",
   "execution_count": 103,
   "metadata": {
    "collapsed": true
   },
   "outputs": [],
   "source": [
    "r, gr = RDF2D(frames[0::10], 0.15)"
   ]
  },
  {
   "cell_type": "code",
   "execution_count": 105,
   "metadata": {},
   "outputs": [
    {
     "data": {
      "image/png": "[encoded data removed]",
      "text/plain": [
       "<matplotlib.figure.Figure at 0x7f0f1307b590>"
      ]
     },
     "metadata": {},
     "output_type": "display_data"
    }
   ],
   "source": [
    "plt.plot(r[1:], gr[1:]-1)\n",
    "#plt.plot(r, 1/power(r, 1.0/3.0))\n",
    "#plt.xlim(1,35)\n",
    "#plt.ylim(0.001,5.0)\n",
    "#plt.xscale('log')\n",
    "plt.yscale('log')"
   ]
  },
  {
   "cell_type": "code",
   "execution_count": 106,
   "metadata": {},
   "outputs": [
    {
     "data": {
      "text/plain": [
       "{'D': 2, 'L': 46.310482, 'coords': array([[ 17.61962891,  20.17847633],\n",
       "        [ 17.09300041,  17.70657349],\n",
       "        [  5.15569687,   3.58562469],\n",
       "        ..., \n",
       "        [ 30.17601585,   2.96033478],\n",
       "        [ 32.05548096,   2.4064827 ],\n",
       "        [ 39.42152786,  18.0430069 ]], dtype=float32), 'diameters': array([ 1.,  1.,  1., ...,  1.,  1.,  1.], dtype=float32), 'types': array([u'A', u'A', u'A', ..., u'B', u'B', u'B'],\n",
       "       dtype='<U1')}"
      ]
     },
     "execution_count": 106,
     "metadata": {},
     "output_type": "execute_result"
    }
   ],
   "source": [
    "frames[0]"
   ]
  },
  {
   "cell_type": "code",
   "execution_count": 111,
   "metadata": {},
   "outputs": [
    {
     "ename": "NameError",
     "evalue": "name 'unique' is not defined",
     "output_type": "error",
     "traceback": [
      "\u001b[0;31m\u001b[0m",
      "\u001b[0;31mNameError\u001b[0mTraceback (most recent call last)",
      "\u001b[0;32m<ipython-input-111-04fbbc13f2aa>\u001b[0m in \u001b[0;36m<module>\u001b[0;34m()\u001b[0m\n\u001b[0;32m----> 1\u001b[0;31m \u001b[0munique\u001b[0m\u001b[0;34m(\u001b[0m\u001b[0mframes\u001b[0m\u001b[0;34m[\u001b[0m\u001b[0;36m0\u001b[0m\u001b[0;34m]\u001b[0m\u001b[0;34m[\u001b[0m\u001b[0;34m'types'\u001b[0m\u001b[0;34m]\u001b[0m\u001b[0;34m)\u001b[0m\u001b[0;34m\u001b[0m\u001b[0m\n\u001b[0m",
      "\u001b[0;31mNameError\u001b[0m: name 'unique' is not defined"
     ]
    }
   ],
   "source": [
    "frames[0]['types']"
   ]
  },
  {
   "cell_type": "code",
   "execution_count": null,
   "metadata": {
    "collapsed": true
   },
   "outputs": [],
   "source": []
  },
  {
   "cell_type": "code",
   "execution_count": null,
   "metadata": {
    "collapsed": true
   },
   "outputs": [],
   "source": []
  },
  {
   "cell_type": "code",
   "execution_count": 155,
   "metadata": {
    "collapsed": true
   },
   "outputs": [],
   "source": [
    "from numpy import unique, place, transpose\n",
    "from copy import deepcopy"
   ]
  },
  {
   "cell_type": "code",
   "execution_count": 144,
   "metadata": {
    "collapsed": true
   },
   "outputs": [],
   "source": [
    "particle_types = deepcopy(frames[0]['types'])"
   ]
  },
  {
   "cell_type": "code",
   "execution_count": 145,
   "metadata": {},
   "outputs": [
    {
     "data": {
      "text/plain": [
       "array([u'A', u'B'],\n",
       "      dtype='<U1')"
      ]
     },
     "execution_count": 145,
     "metadata": {},
     "output_type": "execute_result"
    }
   ],
   "source": [
    "unique(particle_types)"
   ]
  },
  {
   "cell_type": "code",
   "execution_count": 146,
   "metadata": {},
   "outputs": [
    {
     "data": {
      "text/plain": [
       "array([ True,  True,  True, ..., False, False, False], dtype=bool)"
      ]
     },
     "execution_count": 146,
     "metadata": {},
     "output_type": "execute_result"
    }
   ],
   "source": [
    "particle_types == 'A'"
   ]
  },
  {
   "cell_type": "code",
   "execution_count": 147,
   "metadata": {
    "collapsed": true
   },
   "outputs": [],
   "source": [
    "#place(particle_types, particle_types=='A', [[1,0]])"
   ]
  },
  {
   "cell_type": "code",
   "execution_count": 148,
   "metadata": {},
   "outputs": [
    {
     "data": {
      "text/plain": [
       "array([u'A', u'A', u'A', ..., u'B', u'B', u'B'],\n",
       "      dtype='<U1')"
      ]
     },
     "execution_count": 148,
     "metadata": {},
     "output_type": "execute_result"
    }
   ],
   "source": [
    "particle_types"
   ]
  },
  {
   "cell_type": "code",
   "execution_count": 150,
   "metadata": {},
   "outputs": [
    {
     "ename": "ValueError",
     "evalue": "NumPy boolean array indexing assignment cannot assign 2 input values to the 2048 output values where the mask is true",
     "output_type": "error",
     "traceback": [
      "\u001b[0;31m\u001b[0m",
      "\u001b[0;31mValueError\u001b[0mTraceback (most recent call last)",
      "\u001b[0;32m<ipython-input-150-de5caf0ceff3>\u001b[0m in \u001b[0;36m<module>\u001b[0;34m()\u001b[0m\n\u001b[0;32m----> 1\u001b[0;31m \u001b[0mparticle_types\u001b[0m\u001b[0;34m[\u001b[0m\u001b[0mparticle_types\u001b[0m \u001b[0;34m==\u001b[0m \u001b[0;34m'A'\u001b[0m\u001b[0;34m]\u001b[0m \u001b[0;34m=\u001b[0m \u001b[0;34m(\u001b[0m\u001b[0;36m1\u001b[0m\u001b[0;34m,\u001b[0m\u001b[0;36m0\u001b[0m\u001b[0;34m)\u001b[0m\u001b[0;34m\u001b[0m\u001b[0m\n\u001b[0m",
      "\u001b[0;31mValueError\u001b[0m: NumPy boolean array indexing assignment cannot assign 2 input values to the 2048 output values where the mask is true"
     ]
    }
   ],
   "source": [
    "particle_types[particle_types == 'A'] = (1,0)"
   ]
  },
  {
   "cell_type": "code",
   "execution_count": 143,
   "metadata": {},
   "outputs": [
    {
     "data": {
      "text/plain": [
       "array([u'5', u'5', u'5', ..., u'B', u'B', u'B'],\n",
       "      dtype='<U1')"
      ]
     },
     "execution_count": 143,
     "metadata": {},
     "output_type": "execute_result"
    }
   ],
   "source": [
    "particle_types"
   ]
  },
  {
   "cell_type": "code",
   "execution_count": 151,
   "metadata": {
    "collapsed": true
   },
   "outputs": [],
   "source": [
    "from sklearn import preprocessing"
   ]
  },
  {
   "cell_type": "code",
   "execution_count": 163,
   "metadata": {},
   "outputs": [
    {
     "data": {
      "text/plain": [
       "LabelBinarizer(neg_label=0, pos_label=1, sparse_output=False)"
      ]
     },
     "execution_count": 163,
     "metadata": {},
     "output_type": "execute_result"
    }
   ],
   "source": [
    "lb = preprocessing.LabelBinarizer()\n",
    "lb.fit(['A','B', 'C'])"
   ]
  },
  {
   "cell_type": "code",
   "execution_count": 166,
   "metadata": {},
   "outputs": [
    {
     "data": {
      "text/plain": [
       "array([1, 0, 0, ..., 0, 1, 0])"
      ]
     },
     "execution_count": 166,
     "metadata": {},
     "output_type": "execute_result"
    }
   ],
   "source": [
    "lb.transform(particle_types).flatten()"
   ]
  },
  {
   "cell_type": "code",
   "execution_count": null,
   "metadata": {
    "collapsed": true
   },
   "outputs": [],
   "source": [
    "lb.transform"
   ]
  },
  {
   "cell_type": "code",
   "execution_count": 305,
   "metadata": {
    "collapsed": true
   },
   "outputs": [],
   "source": [
    "frames = ReadGSD('../hoomd_disks/trajectories_ww_4000p/trajectory_1.0000.gsd', shuffle_data=True)"
   ]
  },
  {
   "cell_type": "code",
   "execution_count": 306,
   "metadata": {
    "collapsed": true
   },
   "outputs": [],
   "source": [
    "features = FrameToFeatures(frames[0], 50, ['composition'], 10, 1)"
   ]
  },
  {
   "cell_type": "code",
   "execution_count": 307,
   "metadata": {},
   "outputs": [
    {
     "data": {
      "text/plain": [
       "array([0, 0, 0, 0, 0, 0, 0, 0, 0, 0, 0, 0, 0, 0, 0, 0, 0, 0, 0, 0, 0, 0, 0,\n",
       "       0, 0, 0, 0, 0, 0, 0, 0, 1, 1, 0, 1, 1, 1, 1, 0, 1, 0, 0, 0, 0, 0, 0,\n",
       "       0, 1, 1, 1, 1])"
      ]
     },
     "execution_count": 307,
     "metadata": {},
     "output_type": "execute_result"
    }
   ],
   "source": [
    "features[1]"
   ]
  },
  {
   "cell_type": "code",
   "execution_count": null,
   "metadata": {
    "collapsed": true
   },
   "outputs": [],
   "source": []
  },
  {
   "cell_type": "code",
   "execution_count": null,
   "metadata": {
    "collapsed": true
   },
   "outputs": [],
   "source": []
  },
  {
   "cell_type": "code",
   "execution_count": null,
   "metadata": {
    "collapsed": true
   },
   "outputs": [],
   "source": []
  },
  {
   "cell_type": "code",
   "execution_count": null,
   "metadata": {
    "collapsed": true
   },
   "outputs": [],
   "source": []
  },
  {
   "cell_type": "code",
   "execution_count": 248,
   "metadata": {
    "collapsed": true
   },
   "outputs": [],
   "source": [
    "from copy import deepcopy\n",
    "from numpy import power, rint, sqrt, sum, unique, repeat, arccos, dot, transpose, append, cos, sin, hstack, maximum, minimum, pi, array\n",
    "from numpy.linalg import norm\n",
    "from numpy.random import shuffle\n",
    "from sklearn import preprocessing\n",
    "\n",
    "#this generates NN features for the PCA analysis (or some other machine learning method as well)\n",
    "def FrameToFeatures(frame, N_nn, method, particle_inc, nn_inc):\n",
    "    #extract some relevant frames level details\n",
    "    coords = deepcopy(frame['coords'])\n",
    "    p_types = deepcopy(frame['types'])\n",
    "    D = float(frame['D'])\n",
    "    N = float(len(coords))\n",
    "    V = power(frame['L'], D)\n",
    "    normalizing_distance = power(V/N, 1.0/D)\n",
    "    diameters = frame['diameters']\n",
    "    diameters_scaled = frame['diameters']/frame['diameters'][0]\n",
    "    \n",
    "    frame_features = []\n",
    "    combined_data = zip(coords, p_types)\n",
    "    for particle, p_type in combined_data[0::particle_inc]:\n",
    "        #nearest neighbor coordinate wrapping\n",
    "        Rpj_v = particle - coords\n",
    "        Rpj_v = Rpj_v - rint(Rpj_v/frame['L'])*frame['L']\n",
    "        Rpj = (sqrt(sum(power(Rpj_v, 2.0), axis=1)))     \n",
    "        \n",
    "        #generate statistics for various nearest neighbors\n",
    "        sorter = Rpj.argsort()\n",
    "        Rpj = Rpj[sorter[::1]]\n",
    "        \n",
    "        #for composition calculations (the identity of the tagged particle is automatically included via the 0th entry)\n",
    "        if 'composition' in method:\n",
    "            p_types_one_hot = p_types[sorter[::1]]\n",
    "            lb = preprocessing.LabelBinarizer()\n",
    "            lb.fit(unique(p_types_one_hot))\n",
    "            p_types_one_hot = lb.transform(p_types_one_hot).flatten()\n",
    "        \n",
    "        #chosen axis for measuring angles based on nearest neighbor\n",
    "        if 'angular' in method:\n",
    "            #sort the particle-particle vectors according to distance\n",
    "            Rpj_v = Rpj_v[sorter[::1]]\n",
    "            \n",
    "            #normalize all of the vectors\n",
    "            Rpj_v = Rpj_v/maximum(norm(Rpj_v, axis=1), 1.0e-10)[:,None]\n",
    "            \n",
    "            #find the unit x and y axis to base all angular details on using the 1st and 2nd nearest neighbors\n",
    "            x_axis = Rpj_v[1] #this specifies the x direction to measure the angular elevation from\n",
    "            y_axis = Rpj_v[2] - array([dot(Rpj_v[2], Rpj_v[1]), 0.0]) #this specifies the upper two quadrants\n",
    "            y_axis = y_axis/norm(y_axis)\n",
    "            \n",
    "            #compute the raw angle between 0-pi that has unresolved upper and lower quadrants\n",
    "            x_axis_T = transpose(x_axis)\n",
    "            y_axis_T = transpose(y_axis)\n",
    "            Tpj = arccos(minimum(maximum(dot(Rpj_v, x_axis_T), -0.9999999), 0.9999999))\n",
    "            \n",
    "            #determine if the vector points into the upper quadrant defined by the second nearest neighbor\n",
    "            LQ = arccos(minimum(maximum(dot(Rpj_v, y_axis_T), -0.9999999), 0.9999999)) > pi/2.0\n",
    "            \n",
    "            #adjust the angle to upper or lower quadrants \n",
    "            Tpj[LQ] = 2.0*pi - Tpj[LQ]\n",
    "        \n",
    "        #possible feature options\n",
    "        feature_batch = []\n",
    "        if 'distance' in method:\n",
    "            feature_batch.extend((Rpj[1:N_nn+1]/normalizing_distance)[0::nn_inc])\n",
    "        if 'composition' in method:\n",
    "            feature_batch.extend(p_types_one_hot[0:N_nn+1][0::nn_inc])\n",
    "        if 'angular' in method:\n",
    "            feature_batch.extend(append(cos(Tpj[2:N_nn+1])[0::nn_inc], \n",
    "                                        sin(Tpj[2:N_nn+1])[0::nn_inc], axis=0))\n",
    "            \n",
    "        frame_features.append(feature_batch)\n",
    "\n",
    "    return array(frame_features)\n",
    "\n",
    "#this converts an entire trajectory into features\n",
    "def TrajectoryToFeatures(frames, N_nn, method, particle_inc, nn_inc):\n",
    "    #print filename\n",
    "    features = []\n",
    "    for frame in frames:        \n",
    "        features_sp = FrameToFeatures(frame, N_nn, method, particle_inc, nn_inc)\n",
    "        for feature in features_sp:\n",
    "            features.append(feature)\n",
    "    return features"
   ]
  },
  {
   "cell_type": "code",
   "execution_count": null,
   "metadata": {
    "collapsed": true
   },
   "outputs": [],
   "source": []
  },
  {
   "cell_type": "code",
   "execution_count": null,
   "metadata": {
    "collapsed": true
   },
   "outputs": [],
   "source": []
  },
  {
   "cell_type": "code",
   "execution_count": null,
   "metadata": {
    "collapsed": true
   },
   "outputs": [],
   "source": []
  },
  {
   "cell_type": "markdown",
   "metadata": {},
   "source": [
    "### WR mixture"
   ]
  },
  {
   "cell_type": "code",
   "execution_count": null,
   "metadata": {
    "collapsed": true
   },
   "outputs": [],
   "source": []
  },
  {
   "cell_type": "code",
   "execution_count": 352,
   "metadata": {
    "collapsed": true
   },
   "outputs": [],
   "source": [
    "from copy import deepcopy\n",
    "from numpy import power, rint, sqrt, sum, unique, repeat, arccos, dot, transpose, append, cos, sin, hstack, maximum, minimum, pi, array\n",
    "from numpy.linalg import norm\n",
    "from numpy.random import shuffle\n",
    "from sklearn import preprocessing\n",
    "\n",
    "#this generates NN features for the PCA analysis (or some other machine learning method as well)\n",
    "def FrameToFeaturesComposition(frame, probe_particle_indicies):\n",
    "    #extract some relevant frames level details\n",
    "    coords = deepcopy(frame['coords'])\n",
    "    p_types = deepcopy(frame['types'])\n",
    "    D = float(frame['D'])\n",
    "    N = float(len(coords))\n",
    "    V = power(frame['L'], D)\n",
    "    normalizing_distance = power(V/N, 1.0/D)\n",
    "    diameters = frame['diameters']\n",
    "    diameters_scaled = frame['diameters']/frame['diameters'][0]\n",
    "    \n",
    "    #reduce the coords down to only those we care about\n",
    "    coords = coords[probe_particle_indicies]\n",
    "\n",
    "    #build up the features considering only the probes\n",
    "    frame_features = []\n",
    "    for particle in coords:\n",
    "        #nearest neighbor coordinate wrapping\n",
    "        Rpj_v = particle - coords\n",
    "        Rpj_v = Rpj_v - rint(Rpj_v/frame['L'])*frame['L']\n",
    "        Rpj = (sqrt(sum(power(Rpj_v, 2.0), axis=1)))     \n",
    "        \n",
    "        #extend the feature vector stacking the particle side by side\n",
    "        frame_features.extend(Rpj/normalizing_distance)\n",
    "\n",
    "    return array(frame_features)\n",
    "\n",
    "#this converts an entire trajectory into features\n",
    "def TrajectoryToFeaturesComposition(frames, probe_particle_indicies):\n",
    "    features = []\n",
    "    for frame in frames:        \n",
    "        features.append(FrameToFeaturesComposition(frame, probe_particle_indicies))\n",
    "    return features"
   ]
  },
  {
   "cell_type": "code",
   "execution_count": 418,
   "metadata": {},
   "outputs": [
    {
     "data": {
      "text/plain": [
       "103"
      ]
     },
     "execution_count": 418,
     "metadata": {},
     "output_type": "execute_result"
    }
   ],
   "source": [
    "len(arange(0,4096,1)[0::40])"
   ]
  },
  {
   "cell_type": "code",
   "execution_count": 483,
   "metadata": {
    "collapsed": true
   },
   "outputs": [],
   "source": [
    "#specify what data to read in and process\n",
    "file_data = [(arange(0.100, 2.06001, 0.04), '../hoomd_disks/trajectories_ww_4000p')]\n",
    "probe_particle_indicies = arange(0,4096,1)[0::40]\n",
    "split=4"
   ]
  },
  {
   "cell_type": "code",
   "execution_count": 484,
   "metadata": {
    "scrolled": true
   },
   "outputs": [
    {
     "name": "stdout",
     "output_type": "stream",
     "text": [
      "eta=0.1\n",
      "\n",
      "1\n",
      "2\n",
      "3\n",
      "4\n",
      "eta=0.14\n",
      "\n",
      "1\n",
      "2\n",
      "3\n",
      "4\n",
      "eta=0.18\n",
      "\n",
      "1\n",
      "2\n",
      "3\n",
      "4\n",
      "eta=0.22\n",
      "\n",
      "1\n",
      "2\n",
      "3\n",
      "4\n",
      "eta=0.26\n",
      "\n",
      "1\n",
      "2\n",
      "3\n",
      "4\n",
      "eta=0.3\n",
      "\n",
      "1\n",
      "2\n",
      "3\n",
      "4\n",
      "eta=0.34\n",
      "\n",
      "1\n",
      "2\n",
      "3\n",
      "4\n",
      "eta=0.38\n",
      "\n",
      "1\n",
      "2\n",
      "3\n",
      "4\n",
      "eta=0.42\n",
      "\n",
      "1\n",
      "2\n",
      "3\n",
      "4\n",
      "eta=0.46\n",
      "\n",
      "1\n",
      "2\n",
      "3\n",
      "4\n",
      "eta=0.5\n",
      "\n",
      "1\n",
      "2\n",
      "3\n",
      "4\n",
      "eta=0.54\n",
      "\n",
      "1\n",
      "2\n",
      "3\n",
      "4\n",
      "eta=0.58\n",
      "\n",
      "1\n",
      "2\n",
      "3\n",
      "4\n",
      "eta=0.62\n",
      "\n",
      "1\n",
      "2\n",
      "3\n",
      "4\n",
      "eta=0.66\n",
      "\n",
      "1\n",
      "2\n",
      "3\n",
      "4\n",
      "eta=0.7\n",
      "\n",
      "1\n",
      "2\n",
      "3\n",
      "4\n",
      "eta=0.74\n",
      "\n",
      "1\n",
      "2\n",
      "3\n",
      "4\n",
      "eta=0.78\n",
      "\n",
      "1\n",
      "2\n",
      "3\n",
      "4\n",
      "eta=0.82\n",
      "\n",
      "1\n",
      "2\n",
      "3\n",
      "4\n",
      "eta=0.86\n",
      "\n",
      "1\n",
      "2\n",
      "3\n",
      "4\n",
      "eta=0.9\n",
      "\n",
      "1\n",
      "2\n",
      "3\n",
      "4\n",
      "eta=0.94\n",
      "\n",
      "1\n",
      "2\n",
      "3\n",
      "4\n",
      "eta=0.98\n",
      "\n",
      "1\n",
      "2\n",
      "3\n",
      "4\n",
      "eta=1.02\n",
      "\n",
      "1\n",
      "2\n",
      "3\n",
      "4\n",
      "eta=1.06\n",
      "\n",
      "1\n",
      "2\n",
      "3\n",
      "4\n",
      "eta=1.1\n",
      "\n",
      "1\n",
      "2\n",
      "3\n",
      "4\n",
      "eta=1.14\n",
      "\n",
      "1\n",
      "2\n",
      "3\n",
      "4\n",
      "eta=1.18\n",
      "\n",
      "1\n",
      "2\n",
      "3\n",
      "4\n",
      "eta=1.22\n",
      "\n",
      "1\n",
      "2\n",
      "3\n",
      "4\n",
      "eta=1.26\n",
      "\n",
      "1\n",
      "2\n",
      "3\n",
      "4\n",
      "eta=1.3\n",
      "\n",
      "1\n",
      "2\n",
      "3\n",
      "4\n",
      "eta=1.34\n",
      "\n",
      "1\n",
      "2\n",
      "3\n",
      "4\n",
      "eta=1.38\n",
      "\n",
      "1\n",
      "2\n",
      "3\n",
      "4\n",
      "eta=1.42\n",
      "\n",
      "1\n",
      "2\n",
      "3\n",
      "4\n",
      "eta=1.46\n",
      "\n",
      "1\n",
      "2\n",
      "3\n",
      "4\n",
      "eta=1.5\n",
      "\n",
      "1\n",
      "2\n",
      "3\n",
      "4\n",
      "eta=1.54\n",
      "\n",
      "1\n",
      "2\n",
      "3\n",
      "4\n",
      "eta=1.58\n",
      "\n",
      "1\n",
      "2\n",
      "3\n",
      "4\n",
      "eta=1.62\n",
      "\n",
      "1\n",
      "2\n",
      "3\n",
      "4\n",
      "eta=1.66\n",
      "\n",
      "1\n",
      "2\n",
      "3\n",
      "4\n",
      "eta=1.7\n",
      "\n",
      "1\n",
      "2\n",
      "3\n",
      "4\n",
      "eta=1.74\n",
      "\n",
      "1\n",
      "2\n",
      "3\n",
      "4\n",
      "eta=1.78\n",
      "\n",
      "1\n",
      "2\n",
      "3\n",
      "4\n",
      "eta=1.82\n",
      "\n",
      "1\n",
      "2\n",
      "3\n",
      "4\n",
      "eta=1.86\n",
      "\n",
      "1\n",
      "2\n",
      "3\n",
      "4\n",
      "eta=1.9\n",
      "\n",
      "1\n",
      "2\n",
      "3\n",
      "4\n",
      "eta=1.94\n",
      "\n",
      "1\n",
      "2\n",
      "3\n",
      "4\n",
      "eta=1.98\n",
      "\n",
      "1\n",
      "2\n",
      "3\n",
      "4\n",
      "eta=2.02\n",
      "\n",
      "1\n",
      "2\n",
      "3\n",
      "4\n",
      "eta=2.06\n",
      "\n",
      "1\n",
      "2\n",
      "3\n",
      "4\n"
     ]
    }
   ],
   "source": [
    "incpca = IncrementalPCA(n_components=16, whiten=True)\n",
    "\n",
    "frames = None\n",
    "features = None\n",
    "split_features = None\n",
    "\n",
    "for etas, file_base in file_data:\n",
    "    for eta in etas:\n",
    "        print 'eta={}\\n'.format(eta)\n",
    "        filename = \"{}/trajectory_{:.4f}.gsd\".format(file_base, eta)\n",
    "        frames = ReadGSD(filename, shuffle_data=True)\n",
    "        \n",
    "        frames_split = array_split(frames, split)\n",
    "        frames = None\n",
    "        count = 0\n",
    "        for frames_partial in frames_split:\n",
    "            features_partial = TrajectoryToFeaturesComposition(frames_partial, probe_particle_indicies=probe_particle_indicies)\n",
    "            incpca.partial_fit(features_partial)\n",
    "            count = count + 1\n",
    "            print count\n",
    "        frames_split = None"
   ]
  },
  {
   "cell_type": "code",
   "execution_count": 498,
   "metadata": {},
   "outputs": [
    {
     "name": "stderr",
     "output_type": "stream",
     "text": [
      "/home/ryanj/miniconda2/lib/python2.7/site-packages/ipykernel_launcher.py:20: MatplotlibDeprecationWarning: The set_axis_bgcolor function was deprecated in version 2.0. Use set_facecolor instead.\n"
     ]
    },
    {
     "data": {
      "image/png": "[encoded data removed]",
      "text/plain": [
       "<matplotlib.figure.Figure at 0x7f0f305d1d10>"
      ]
     },
     "metadata": {},
     "output_type": "display_data"
    }
   ],
   "source": [
    "#highlight the transition region if found\n",
    "#plt.axvspan(0.700, 0.716, alpha=0.2, color='grey')\n",
    "#plt.axvspan(0.716, 0.730, alpha=0.2, color='blue')\n",
    "\n",
    "#plt.axvspan(0.716, 0.716001, alpha=1, color='black')\n",
    "#plt.axvspan(0.781, 0.781001, alpha=1, color='black')\n",
    "\n",
    "#plot the principal components\n",
    "colors = 200*['green', 'purple', 'orange', 'teal', 'black', 'red']\n",
    "for i in range(0,1):\n",
    "    p_data = incpca.components_[i]\n",
    "    plt.plot(range(len(incpca.components_[0])), p_data, marker='o', linewidth = 0.0, markersize=6, color = colors[i])\n",
    "    #p_data = OPs_non_abs[:,i]\n",
    "    #plt.plot(etas, (p_data), marker='o', linewidth = 2.0, markersize=10, color = colors[i])\n",
    "#plt.plot(etas, num_defects, marker='o', linewidth = 2.0, markersize=10, color = 'black')    \n",
    "\n",
    "#backround grid details\n",
    "axes = plt.gca()\n",
    "axes.grid(b = True, which = 'both', axis = 'both', color = 'gray', linestyle = '-', alpha = 0.5, linewidth = 0.5) \n",
    "axes.set_axis_bgcolor('white')  \n",
    "\n",
    "#font scpecifications\n",
    "title_font = {'family' : 'arial', 'color'  : 'black', 'weight' : 'heavy','size': 20}\n",
    "axis_label_font = {'family' : 'arial', 'color'  : 'black', 'weight' : 'normal','size': 20}                                                   \n",
    "\n",
    "#figure size and tick style\n",
    "plt.rcParams[\"figure.figsize\"] = [6,6]\n",
    "plt.rc('axes',edgecolor='black',linewidth=1)\n",
    "plt.tick_params(which='both', axis='both', color='black', length=4, width=0.5)\n",
    "plt.rcParams['xtick.direction'] = 'in'\n",
    "plt.rcParams['ytick.direction'] = 'in'\n",
    "\n",
    "#axis range and labels (also specify if log or not)\n",
    "#plt.xlim(0,103)\n",
    "#plt.ylim(-1,0)\n",
    "#plt.ylim(0,0.5)\n",
    "#plt.ylim(-2,1.5)\n",
    "#plt.ylim(5, 13)\n",
    "#plt.ylim(1, 0.001)\n",
    "#plt.ylim(-2000.0, 2000)\n",
    "\n",
    "#plt.xscale('log')\n",
    "plt.xlabel(r'$n$th nerest neighbor', y=3, fontsize=20, fontdict = axis_label_font)\n",
    "plt.ylabel(r'$P_{i}$ weight', fontsize=20, fontdict = axis_label_font)\n",
    "\n",
    "#title and axis labels\n",
    "plt.tick_params(axis='both', labelsize=20)\n",
    "plt.title('PCA feature weights', y=1.05, fontdict = title_font)\n",
    "\n",
    "plt.show()"
   ]
  },
  {
   "cell_type": "code",
   "execution_count": 486,
   "metadata": {
    "scrolled": true
   },
   "outputs": [
    {
     "name": "stdout",
     "output_type": "stream",
     "text": [
      "eta=0.1\n",
      "\n",
      "1\n",
      "2\n",
      "3\n",
      "4\n",
      "eta=0.14\n",
      "\n",
      "1\n",
      "2\n",
      "3\n",
      "4\n",
      "eta=0.18\n",
      "\n",
      "1\n",
      "2\n",
      "3\n",
      "4\n",
      "eta=0.22\n",
      "\n",
      "1\n",
      "2\n",
      "3\n",
      "4\n",
      "eta=0.26\n",
      "\n",
      "1\n",
      "2\n",
      "3\n",
      "4\n",
      "eta=0.3\n",
      "\n",
      "1\n",
      "2\n",
      "3\n",
      "4\n",
      "eta=0.34\n",
      "\n",
      "1\n",
      "2\n",
      "3\n",
      "4\n",
      "eta=0.38\n",
      "\n",
      "1\n",
      "2\n",
      "3\n",
      "4\n",
      "eta=0.42\n",
      "\n",
      "1\n",
      "2\n",
      "3\n",
      "4\n",
      "eta=0.46\n",
      "\n",
      "1\n",
      "2\n",
      "3\n",
      "4\n",
      "eta=0.5\n",
      "\n",
      "1\n",
      "2\n",
      "3\n",
      "4\n",
      "eta=0.54\n",
      "\n",
      "1\n",
      "2\n",
      "3\n",
      "4\n",
      "eta=0.58\n",
      "\n",
      "1\n",
      "2\n",
      "3\n",
      "4\n",
      "eta=0.62\n",
      "\n",
      "1\n",
      "2\n",
      "3\n",
      "4\n",
      "eta=0.66\n",
      "\n",
      "1\n",
      "2\n",
      "3\n",
      "4\n",
      "eta=0.7\n",
      "\n",
      "1\n",
      "2\n",
      "3\n",
      "4\n",
      "eta=0.74\n",
      "\n",
      "1\n",
      "2\n",
      "3\n",
      "4\n",
      "eta=0.78\n",
      "\n",
      "1\n",
      "2\n",
      "3\n",
      "4\n",
      "eta=0.82\n",
      "\n",
      "1\n",
      "2\n",
      "3\n",
      "4\n",
      "eta=0.86\n",
      "\n",
      "1\n",
      "2\n",
      "3\n",
      "4\n",
      "eta=0.9\n",
      "\n",
      "1\n",
      "2\n",
      "3\n",
      "4\n",
      "eta=0.94\n",
      "\n",
      "1\n",
      "2\n",
      "3\n",
      "4\n",
      "eta=0.98\n",
      "\n",
      "1\n",
      "2\n",
      "3\n",
      "4\n",
      "eta=1.02\n",
      "\n",
      "1\n",
      "2\n",
      "3\n",
      "4\n",
      "eta=1.06\n",
      "\n",
      "1\n",
      "2\n",
      "3\n",
      "4\n",
      "eta=1.1\n",
      "\n",
      "1\n",
      "2\n",
      "3\n",
      "4\n",
      "eta=1.14\n",
      "\n",
      "1\n",
      "2\n",
      "3\n",
      "4\n",
      "eta=1.18\n",
      "\n",
      "1\n",
      "2\n",
      "3\n",
      "4\n",
      "eta=1.22\n",
      "\n",
      "1\n",
      "2\n",
      "3\n",
      "4\n",
      "eta=1.26\n",
      "\n",
      "1\n",
      "2\n",
      "3\n",
      "4\n",
      "eta=1.3\n",
      "\n",
      "1\n",
      "2\n",
      "3\n",
      "4\n",
      "eta=1.34\n",
      "\n",
      "1\n",
      "2\n",
      "3\n",
      "4\n",
      "eta=1.38\n",
      "\n",
      "1\n",
      "2\n",
      "3\n",
      "4\n",
      "eta=1.42\n",
      "\n",
      "1\n",
      "2\n",
      "3\n",
      "4\n",
      "eta=1.46\n",
      "\n",
      "1\n",
      "2\n",
      "3\n",
      "4\n",
      "eta=1.5\n",
      "\n",
      "1\n",
      "2\n",
      "3\n",
      "4\n",
      "eta=1.54\n",
      "\n",
      "1\n",
      "2\n",
      "3\n",
      "4\n",
      "eta=1.58\n",
      "\n",
      "1\n",
      "2\n",
      "3\n",
      "4\n",
      "eta=1.62\n",
      "\n",
      "1\n",
      "2\n",
      "3\n",
      "4\n",
      "eta=1.66\n",
      "\n",
      "1\n",
      "2\n",
      "3\n",
      "4\n",
      "eta=1.7\n",
      "\n",
      "1\n",
      "2\n",
      "3\n",
      "4\n",
      "eta=1.74\n",
      "\n",
      "1\n",
      "2\n",
      "3\n",
      "4\n",
      "eta=1.78\n",
      "\n",
      "1\n",
      "2\n",
      "3\n",
      "4\n",
      "eta=1.82\n",
      "\n",
      "1\n",
      "2\n",
      "3\n",
      "4\n",
      "eta=1.86\n",
      "\n",
      "1\n",
      "2\n",
      "3\n",
      "4\n",
      "eta=1.9\n",
      "\n",
      "1\n",
      "2\n",
      "3\n",
      "4\n",
      "eta=1.94\n",
      "\n",
      "1\n",
      "2\n",
      "3\n",
      "4\n",
      "eta=1.98\n",
      "\n",
      "1\n",
      "2\n",
      "3\n",
      "4\n",
      "eta=2.02\n",
      "\n",
      "1\n",
      "2\n",
      "3\n",
      "4\n",
      "eta=2.06\n",
      "\n",
      "1\n",
      "2\n",
      "3\n",
      "4\n"
     ]
    }
   ],
   "source": [
    "OPs = []\n",
    "frames = None\n",
    "features = None\n",
    "raw_OPs = []\n",
    "\n",
    "for etas, file_base in file_data:\n",
    "    for eta in etas:\n",
    "        print 'eta={}\\n'.format(eta)\n",
    "        filename = \"{}/trajectory_{:.4f}.gsd\".format(file_base, eta)\n",
    "        frames = ReadGSD(filename, shuffle_data=True)\n",
    "        \n",
    "        frames_split = array_split(frames, split)\n",
    "        frames = None\n",
    "        count = 0\n",
    "        means = []\n",
    "        raw_OPs_single = []\n",
    "        for frames_partial in frames_split:\n",
    "            features_partial = TrajectoryToFeaturesComposition(frames_partial, probe_particle_indicies=probe_particle_indicies)\n",
    "            transformed_features_partial = incpca.transform(features_partial)\n",
    "            means.append(mean(transformed_features_partial, axis=0))\n",
    "            raw_OPs_single.append(transformed_features_partial)\n",
    "            count = count + 1\n",
    "            print count\n",
    "            \n",
    "        means = array(means)\n",
    "        op = mean(means, axis=0)\n",
    "        OPs.append(op)\n",
    "        raw_OPs.append(raw_OPs_single)\n",
    "    \n",
    "OPs = array(OPs)        "
   ]
  },
  {
   "cell_type": "code",
   "execution_count": 487,
   "metadata": {
    "collapsed": true
   },
   "outputs": [],
   "source": [
    "from numpy import std, abs, power\n",
    "from scipy.stats import moment\n",
    "\n",
    "OPs = []\n",
    "OPs_std = []\n",
    "OPs_abs = []\n",
    "OPs_third = []\n",
    "for single_eta in raw_OPs:\n",
    "    merged_data = []\n",
    "    for split in single_eta:\n",
    "        merged_data.extend(split)\n",
    "    \n",
    "    OPs.append(mean((split), axis=0))\n",
    "    OPs_std.append(std(split, axis=0))\n",
    "    OPs_abs.append(mean(abs(split), axis=0))\n",
    "    OPs_third.append(moment(split, 4, axis=0))\n",
    "\n",
    "OPs = array(OPs)\n",
    "OPs_std = array(OPs_std)\n",
    "OPs_abs = array(OPs_abs)\n",
    "OPs_third = array(OPs_third)"
   ]
  },
  {
   "cell_type": "code",
   "execution_count": 504,
   "metadata": {},
   "outputs": [
    {
     "name": "stderr",
     "output_type": "stream",
     "text": [
      "/home/ryanj/miniconda2/lib/python2.7/site-packages/ipykernel_launcher.py:23: MatplotlibDeprecationWarning: The set_axis_bgcolor function was deprecated in version 2.0. Use set_facecolor instead.\n"
     ]
    },
    {
     "data": {
      "image/png": "[encoded data removed]",
      "text/plain": [
       "<matplotlib.figure.Figure at 0x7f0f2e371ad0>"
      ]
     },
     "metadata": {},
     "output_type": "display_data"
    }
   ],
   "source": [
    "#highlight the transition region if found\n",
    "plt.axvspan(0.700, 0.716, alpha=0.2, color='grey')\n",
    "plt.axvspan(0.716, 0.730, alpha=0.2, color='blue')\n",
    "\n",
    "plt.axvspan(0.716, 0.716001, alpha=1, color='black')\n",
    "plt.axvspan(0.76, 0.76001, alpha=1, color='black')\n",
    "\n",
    "#plt.axvspan(0.72, 0.72001, alpha=10, color='black')\n",
    "\n",
    "#plot the principal components\n",
    "colors = 200*['green', 'purple', 'orange', 'teal', 'black', 'red']\n",
    "for i in range(0,1): #12,13\n",
    "    p_data = OPs[:,i]\n",
    "    plt.plot(etas, (p_data), marker='o', linewidth = 1.0, markersize=12, color = colors[i], markerfacecolor='None')\n",
    "    p_data = OPs_abs[:,i]\n",
    "    #plt.plot(etas, (p_data), marker='o', linewidth = 1.0, markersize=12, color = colors[i])\n",
    "    \n",
    "#plt.plot(etas, num_defects, marker='o', linewidth = 1.0, markersize=10, color = 'black')    \n",
    "\n",
    "#backround grid details\n",
    "axes = plt.gca()\n",
    "axes.grid(b = True, which = 'both', axis = 'both', color = 'gray', linestyle = '-', alpha = 0.5, linewidth = 0.5) \n",
    "axes.set_axis_bgcolor('white')  \n",
    "\n",
    "#font scpecifications\n",
    "title_font = {'family' : 'arial', 'color'  : 'black', 'weight' : 'heavy','size': 20}\n",
    "axis_label_font = {'family' : 'arial', 'color'  : 'black', 'weight' : 'normal','size': 20}                                                   \n",
    "\n",
    "#figure size and tick style\n",
    "plt.rcParams[\"figure.figsize\"] = [6,6]\n",
    "plt.rc('axes',edgecolor='black',linewidth=1)\n",
    "plt.tick_params(which='both', axis='both', color='black', length=4, width=0.5)\n",
    "plt.rcParams['xtick.direction'] = 'in'\n",
    "plt.rcParams['ytick.direction'] = 'in'\n",
    "\n",
    "#axis range and labels (also specify if log or not)\n",
    "plt.xlim(0.10, 2.1)\n",
    "#plt.ylim(-0.1,0.1)\n",
    "\n",
    "#plt.ylim(-0.1,0.1)\n",
    "#plt.yscale('log')\n",
    "\n",
    "#plt.yscale('log')\n",
    "plt.xlabel(r'$\\eta$', y=3, fontsize=20, fontdict = axis_label_font)\n",
    "plt.ylabel(r'$\\langle P_{i} \\rangle$ and $\\langle |P_{i}| \\rangle$', fontsize=20, fontdict = axis_label_font)\n",
    "\n",
    "#title and axis labels\n",
    "plt.tick_params(axis='both', labelsize=20)\n",
    "plt.title('PCA hard disks', y=1.05, fontdict = title_font)\n",
    "\n",
    "plt.show()"
   ]
  },
  {
   "cell_type": "code",
   "execution_count": 496,
   "metadata": {},
   "outputs": [
    {
     "name": "stderr",
     "output_type": "stream",
     "text": [
      "/home/ryanj/miniconda2/lib/python2.7/site-packages/ipykernel_launcher.py:12: MatplotlibDeprecationWarning: The set_axis_bgcolor function was deprecated in version 2.0. Use set_facecolor instead.\n",
      "  if sys.path[0] == '':\n"
     ]
    },
    {
     "data": {
      "image/png": "[encoded data removed]",
      "text/plain": [
       "<matplotlib.figure.Figure at 0x7f0f1374bf50>"
      ]
     },
     "metadata": {},
     "output_type": "display_data"
    }
   ],
   "source": [
    "#plot the principal components\n",
    "colors = 200*['green', 'purple', 'orange', 'teal', 'black', 'red']\n",
    "\n",
    "plt.plot(incpca.explained_variance_ratio_, marker='o', linewidth = 1.0, markersize=12, color = 'red', markerfacecolor='None')\n",
    "#plt.plot([sum(incpca.explained_variance_ratio_[:i]) for i in range(1,len(incpca.explained_variance_ratio_))], marker='o', linewidth = 1.0, markersize=12, color = 'red')\n",
    "    \n",
    "#plt.plot(etas, num_defects, marker='o', linewidth = 1.0, markersize=10, color = 'black')    \n",
    "\n",
    "#backround grid details\n",
    "axes = plt.gca()\n",
    "axes.grid(b = True, which = 'both', axis = 'both', color = 'gray', linestyle = '-', alpha = 0.5, linewidth = 0.5) \n",
    "axes.set_axis_bgcolor('white')  \n",
    "\n",
    "#font scpecifications\n",
    "title_font = {'family' : 'arial', 'color'  : 'black', 'weight' : 'heavy','size': 20}\n",
    "axis_label_font = {'family' : 'arial', 'color'  : 'black', 'weight' : 'normal','size': 20}                                                   \n",
    "\n",
    "#figure size and tick style\n",
    "plt.rcParams[\"figure.figsize\"] = [6,6]\n",
    "plt.rc('axes',edgecolor='black',linewidth=1)\n",
    "plt.tick_params(which='both', axis='both', color='black', length=4, width=0.5)\n",
    "plt.rcParams['xtick.direction'] = 'in'\n",
    "plt.rcParams['ytick.direction'] = 'in'\n",
    "\n",
    "#plt.ylim(0.0,0.8)\n",
    "#plt.yscale('log')\n",
    "\n",
    "plt.xlabel(r'$\\eta$', y=3, fontsize=20, fontdict = axis_label_font)\n",
    "plt.ylabel(r'Explained variance', fontsize=20, fontdict = axis_label_font)\n",
    "\n",
    "#title and axis labels\n",
    "plt.tick_params(axis='both', labelsize=20)\n",
    "plt.title('PCA hard disks', y=1.05, fontdict = title_font)\n",
    "\n",
    "plt.show()"
   ]
  },
  {
   "cell_type": "code",
   "execution_count": null,
   "metadata": {
    "collapsed": true
   },
   "outputs": [],
   "source": []
  },
  {
   "cell_type": "markdown",
   "metadata": {},
   "source": [
    "### Old stuff"
   ]
  },
  {
   "cell_type": "code",
   "execution_count": null,
   "metadata": {
    "collapsed": true
   },
   "outputs": [],
   "source": [
    "OPs = []\n",
    "frames = None\n",
    "features = None\n",
    "raw_OPs = []\n",
    "\n",
    "for etas, file_base in file_data:\n",
    "    for eta in etas:\n",
    "        print 'eta={}\\n'.format(eta)\n",
    "        filename = \"{}/trajectory_{:.4f}.gsd\".format(file_base, eta)\n",
    "        frames = ReadGSD(filename, shuffle_data=True, randomize=randomize)\n",
    "        \n",
    "        frames_split = array_split(frames, split)\n",
    "        frames = None\n",
    "        count = 0\n",
    "        means = []\n",
    "        raw_OPs_single = []\n",
    "        for frames_partial in frames_split:\n",
    "            features_partial = TrajectoryToFeatures(frames_partial, \n",
    "                                                    N_nn=N_nn, \n",
    "                                                    method=method, \n",
    "                                                    particle_inc=particle_inc, \n",
    "                                                    nn_inc=nn_inc)\n",
    "            features_partial_ig_projection = incpca_ig.inverse_transform(incpca_ig.transform(features_partial))\n",
    "            transformed_features_partial = incpca.transform(features_partial - features_partial_ig_projection)\n",
    "            means.append(mean(transformed_features_partial, axis=0))\n",
    "            raw_OPs_single.append(transformed_features_partial)\n",
    "            count = count + 1\n",
    "            print count\n",
    "            \n",
    "        means = array(means)\n",
    "        op = mean(means, axis=0)\n",
    "        OPs.append(op)\n",
    "        raw_OPs.append(raw_OPs_single)\n",
    "    \n",
    "OPs = array(OPs)        "
   ]
  }
 ],
 "metadata": {
  "kernelspec": {
   "display_name": "Python 2",
   "language": "python",
   "name": "python2"
  },
  "language_info": {
   "codemirror_mode": {
    "name": "ipython",
    "version": 2
   },
   "file_extension": ".py",
   "mimetype": "text/x-python",
   "name": "python",
   "nbconvert_exporter": "python",
   "pygments_lexer": "ipython2",
   "version": "2.7.13"
  }
 },
 "nbformat": 4,
 "nbformat_minor": 2
}
