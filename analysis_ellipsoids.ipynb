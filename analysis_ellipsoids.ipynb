{
 "cells": [
  {
   "cell_type": "markdown",
   "metadata": {},
   "source": [
    "# Principal components analysis for order parameter construction"
   ]
  },
  {
   "cell_type": "code",
   "execution_count": 1,
   "metadata": {},
   "outputs": [],
   "source": [
    "from analysis_tools.read_gsd import ReadGSD\n",
    "from analysis_tools.feature_creation import FrameToFeatures, TrajectoryToFeatures\n",
    "from analysis_tools.feature_creation import FrameToFeaturesComposition, TrajectoryToFeaturesComposition"
   ]
  },
  {
   "cell_type": "markdown",
   "metadata": {},
   "source": [
    "---"
   ]
  },
  {
   "cell_type": "markdown",
   "metadata": {},
   "source": [
    "## Models"
   ]
  },
  {
   "cell_type": "code",
   "execution_count": 2,
   "metadata": {},
   "outputs": [],
   "source": [
    "from numpy import array, arange"
   ]
  },
  {
   "cell_type": "markdown",
   "metadata": {},
   "source": [
    "### Model data"
   ]
  },
  {
   "cell_type": "markdown",
   "metadata": {},
   "source": [
    "#### Hard disks"
   ]
  },
  {
   "cell_type": "code",
   "execution_count": 3,
   "metadata": {},
   "outputs": [],
   "source": [
    "particle_inc = 100 #skip this many particles in generating features; #wp: because it selects index 0 be default, rounds up to integer if not a mulptiple of Ntot\n",
    "N_nn = 400 #number of nearest nighbors for pca analysis #wp:Should not be bigger than Ntotal\n",
    "nn_inc = 20 #reduces the number of nearest neighbors to include as features\n",
    "split = 1 #chunks the data up so it can be processed by the pca tool if really large\n",
    "\n",
    "method = ['distance']"
   ]
  },
  {
   "cell_type": "code",
   "execution_count": 4,
   "metadata": {},
   "outputs": [],
   "source": [
    "#specify what data to read in and process\n",
    "#wp:there are 55 eta points given range below\n",
    "#file_data = [(arange(0.550, 0.690001, 0.005), 'ellipsoids'), (arange(0.695, 0.800001, 0.005),'ellipsoids')]  \n",
    "file_data = [(arange(0.550, 0.800001, 0.01),'ellipsoids/kappa_3.0')]  "
   ]
  },
  {
   "cell_type": "markdown",
   "metadata": {},
   "source": [
    "### Density range"
   ]
  },
  {
   "cell_type": "code",
   "execution_count": 5,
   "metadata": {},
   "outputs": [],
   "source": [
    "#wp: the `_' variable is a dummy return variable like `~' in matlab\n",
    "#wp: Here, the for loop returns two arguments but only keeps the first that contains all the numbers\n",
    "etas = []\n",
    "[etas.extend(etas_) for etas_, _ in file_data]\n",
    "etas = array(etas)"
   ]
  },
  {
   "cell_type": "markdown",
   "metadata": {
    "collapsed": true
   },
   "source": [
    "---"
   ]
  },
  {
   "cell_type": "markdown",
   "metadata": {},
   "source": [
    "## Perfom PCA"
   ]
  },
  {
   "cell_type": "code",
   "execution_count": 6,
   "metadata": {},
   "outputs": [],
   "source": [
    "from numpy import array_split\n",
    "from sklearn.decomposition import IncrementalPCA"
   ]
  },
  {
   "cell_type": "markdown",
   "metadata": {},
   "source": [
    "### Train on ideal gas structure first to identify trivial variance contributions"
   ]
  },
  {
   "cell_type": "code",
   "execution_count": 7,
   "metadata": {},
   "outputs": [],
   "source": [
    "n_components_ig = N_nn/nn_inc  #for this the more the better, however, 50 is probably enough"
   ]
  },
  {
   "cell_type": "code",
   "execution_count": 302,
   "metadata": {
    "scrolled": true
   },
   "outputs": [
    {
     "name": "stdout",
     "output_type": "stream",
     "text": [
      "eta=0.69\n",
      "Frame partials:  1\n",
      "eta=0.8\n",
      "Frame partials:  1\n"
     ]
    }
   ],
   "source": [
    "###Note that this ideal gas variance comes from the fact that particles get sorted and creates an artificial correlation\n",
    "randomize = True\n",
    "#wp: incremental pca structure for ideal gas\n",
    "incpca_ig = IncrementalPCA(n_components=n_components_ig, whiten=False)\n",
    "\n",
    "frames = None\n",
    "features = None\n",
    "split_features = None\n",
    "\n",
    "#wp: return two variables from file data in for loop: the etas list and the file directory\n",
    "for etas_, file_base in file_data:\n",
    "    #wp: for each eta in the list\n",
    "    #for eta in etas_:\n",
    "    for eta in etas_[-1:]:\n",
    "        print 'eta={}'.format(eta)\n",
    "        #wp:access GSD files from directory given in 'file_base' variable\n",
    "        filename = \"{}/trajectory_{:.4f}.gsd\".format(file_base, eta)\n",
    "        #wp:Returns frames as dictionary [coords,diameters,types,L,D]. Size is (trajectory prod steps)/(trajectory collect period)\n",
    "        frames = ReadGSD(filename, shuffle_data=True, randomize=randomize)\n",
    "        \n",
    "        #wp: If array_split(array,1) then array is not split, although it does get transformed into a single list it seems\n",
    "        frames_split = array_split(frames, split)\n",
    "       \n",
    "        #wp: resets frame\n",
    "        frames = None\n",
    "        count = 0\n",
    "        \n",
    "        for frames_partial in frames_split:\n",
    "            #wp:All trajectories done at eta_ get passed down at once\n",
    "            features_partial = TrajectoryToFeatures(frames_partial, \n",
    "                                                    N_nn=N_nn, \n",
    "                                                    method=method, \n",
    "                                                    particle_inc=particle_inc, \n",
    "                                                    nn_inc=nn_inc)\n",
    "            \n",
    "            incpca_ig.partial_fit(features_partial)\n",
    "            count = count + 1\n",
    "            print \"Frame partials: \", count\n",
    "\n",
    "        frames_split = None\n",
    "        features_partial_ig=features_partial"
   ]
  },
  {
   "cell_type": "markdown",
   "metadata": {},
   "source": [
    "### Train on actual data with trivial data variance removed by the ideal gas model"
   ]
  },
  {
   "cell_type": "code",
   "execution_count": 287,
   "metadata": {},
   "outputs": [],
   "source": [
    "n_components = N_nn/nn_inc #this number will not affect the quality of the result just the computation time and amount of info returned"
   ]
  },
  {
   "cell_type": "code",
   "execution_count": 288,
   "metadata": {
    "scrolled": false
   },
   "outputs": [
    {
     "name": "stdout",
     "output_type": "stream",
     "text": [
      "eta=0.55\n",
      "Frame split:  1\n",
      "eta=0.555\n",
      "Frame split:  1\n",
      "eta=0.56\n",
      "Frame split:  1\n",
      "eta=0.565\n",
      "Frame split:  1\n",
      "eta=0.57\n",
      "Frame split:  1\n",
      "eta=0.575\n",
      "Frame split:  1\n",
      "eta=0.58\n",
      "Frame split:  1\n",
      "eta=0.585\n",
      "Frame split:  1\n",
      "eta=0.59\n",
      "Frame split:  1\n",
      "eta=0.595\n",
      "Frame split:  1\n",
      "eta=0.6\n",
      "Frame split:  1\n",
      "eta=0.605\n",
      "Frame split:  1\n",
      "eta=0.61\n",
      "Frame split:  1\n",
      "eta=0.615\n",
      "Frame split:  1\n",
      "eta=0.62\n",
      "Frame split:  1\n",
      "eta=0.625\n",
      "Frame split:  1\n",
      "eta=0.63\n",
      "Frame split:  1\n",
      "eta=0.635\n",
      "Frame split:  1\n",
      "eta=0.64\n",
      "Frame split:  1\n",
      "eta=0.645\n",
      "Frame split:  1\n",
      "eta=0.65\n",
      "Frame split:  1\n",
      "eta=0.655\n",
      "Frame split:  1\n",
      "eta=0.66\n",
      "Frame split:  1\n",
      "eta=0.665\n",
      "Frame split:  1\n",
      "eta=0.67\n",
      "Frame split:  1\n",
      "eta=0.675\n",
      "Frame split:  1\n",
      "eta=0.68\n",
      "Frame split:  1\n",
      "eta=0.685\n",
      "Frame split:  1\n",
      "eta=0.69\n",
      "Frame split:  1\n",
      "eta=0.695\n",
      "Frame split:  1\n",
      "eta=0.7\n",
      "Frame split:  1\n",
      "eta=0.705\n",
      "Frame split:  1\n",
      "eta=0.71\n",
      "Frame split:  1\n",
      "eta=0.715\n",
      "Frame split:  1\n",
      "eta=0.72\n",
      "Frame split:  1\n",
      "eta=0.725\n",
      "Frame split:  1\n",
      "eta=0.73\n",
      "Frame split:  1\n",
      "eta=0.735\n",
      "Frame split:  1\n",
      "eta=0.74\n",
      "Frame split:  1\n",
      "eta=0.745\n",
      "Frame split:  1\n",
      "eta=0.75\n",
      "Frame split:  1\n",
      "eta=0.755\n",
      "Frame split:  1\n",
      "eta=0.76\n",
      "Frame split:  1\n",
      "eta=0.765\n",
      "Frame split:  1\n",
      "eta=0.77\n",
      "Frame split:  1\n",
      "eta=0.775\n",
      "Frame split:  1\n",
      "eta=0.78\n",
      "Frame split:  1\n",
      "eta=0.785\n",
      "Frame split:  1\n",
      "eta=0.79\n",
      "Frame split:  1\n",
      "eta=0.795\n",
      "Frame split:  1\n",
      "eta=0.8\n",
      "Frame split:  1\n"
     ]
    }
   ],
   "source": [
    "randomize = False\n",
    "incpca = IncrementalPCA(n_components=n_components , whiten=False)\n",
    "\n",
    "frames = None\n",
    "features = None\n",
    "split_features = None\n",
    "\n",
    "for etas_, file_base in file_data:\n",
    "    for eta in etas_:\n",
    "        print 'eta={}'.format(eta)\n",
    "        filename = \"{}/trajectory_{:.4f}.gsd\".format(file_base, eta)\n",
    "        frames = ReadGSD(filename, shuffle_data=True, randomize=randomize)\n",
    "        \n",
    "        frames_split = array_split(frames, split)\n",
    "        frames = None\n",
    "        count = 0\n",
    "        for frames_partial in frames_split:\n",
    "            features_partial = TrajectoryToFeatures(frames_partial, \n",
    "                                                    N_nn=N_nn, \n",
    "                                                    method=method, \n",
    "                                                    particle_inc=particle_inc, \n",
    "                                                    nn_inc=nn_inc)\n",
    "            #wp:project the *hard disk* feature vector unto a lower dimensionalized representation of the ideal gas space that captures most of the ideal gas variance\n",
    "            #wp:This then creates a 'hard disk' feature vector that strongly contains the sorting variance seen in the ideal gas\n",
    "            features_partial_ig_projection = incpca_ig.inverse_transform(incpca_ig.transform(features_partial))\n",
    "            #wp:remove this partial reconstructed hard disk ideal gas projection from real data features\n",
    "            incpca.partial_fit(features_partial - features_partial_ig_projection)\n",
    "            count = count + 1\n",
    "            print \"Frame split: \", count\n",
    "        #wp:resets frame split\n",
    "        frames_split = None"
   ]
  },
  {
   "cell_type": "code",
   "execution_count": 247,
   "metadata": {
    "scrolled": true
   },
   "outputs": [
    {
     "name": "stdout",
     "output_type": "stream",
     "text": [
      "eta=0.55\n",
      "Frame split:  1\n",
      "eta=0.555\n",
      "Frame split:  1\n",
      "eta=0.56\n",
      "Frame split:  1\n",
      "eta=0.565\n",
      "Frame split:  1\n",
      "eta=0.57\n",
      "Frame split:  1\n",
      "eta=0.575\n",
      "Frame split:  1\n",
      "eta=0.58\n",
      "Frame split:  1\n",
      "eta=0.585\n",
      "Frame split:  1\n",
      "eta=0.59\n",
      "Frame split:  1\n",
      "eta=0.595\n",
      "Frame split:  1\n",
      "eta=0.6\n",
      "Frame split:  1\n",
      "eta=0.605\n",
      "Frame split:  1\n",
      "eta=0.61\n",
      "Frame split:  1\n",
      "eta=0.615\n",
      "Frame split:  1\n",
      "eta=0.62\n",
      "Frame split:  1\n",
      "eta=0.625\n",
      "Frame split:  1\n",
      "eta=0.63\n",
      "Frame split:  1\n",
      "eta=0.635\n",
      "Frame split:  1\n",
      "eta=0.64\n",
      "Frame split:  1\n",
      "eta=0.645\n",
      "Frame split:  1\n",
      "eta=0.65\n",
      "Frame split:  1\n",
      "eta=0.655\n",
      "Frame split:  1\n",
      "eta=0.66\n",
      "Frame split:  1\n",
      "eta=0.665\n",
      "Frame split:  1\n",
      "eta=0.67\n",
      "Frame split:  1\n",
      "eta=0.675\n",
      "Frame split:  1\n",
      "eta=0.68\n",
      "Frame split:  1\n",
      "eta=0.685\n",
      "Frame split:  1\n",
      "eta=0.69\n",
      "Frame split:  1\n",
      "eta=0.695\n",
      "Frame split:  1\n",
      "eta=0.7\n",
      "Frame split:  1\n",
      "eta=0.705\n",
      "Frame split:  1\n",
      "eta=0.71\n",
      "Frame split:  1\n",
      "eta=0.715\n",
      "Frame split:  1\n",
      "eta=0.72\n",
      "Frame split:  1\n",
      "eta=0.725\n",
      "Frame split:  1\n",
      "eta=0.73\n",
      "Frame split:  1\n",
      "eta=0.735\n",
      "Frame split:  1\n",
      "eta=0.74\n",
      "Frame split:  1\n",
      "eta=0.745\n",
      "Frame split:  1\n",
      "eta=0.75\n",
      "Frame split:  1\n",
      "eta=0.755\n",
      "Frame split:  1\n",
      "eta=0.76\n",
      "Frame split:  1\n",
      "eta=0.765\n",
      "Frame split:  1\n",
      "eta=0.77\n",
      "Frame split:  1\n",
      "eta=0.775\n",
      "Frame split:  1\n",
      "eta=0.78\n",
      "Frame split:  1\n",
      "eta=0.785\n",
      "Frame split:  1\n",
      "eta=0.79\n",
      "Frame split:  1\n",
      "eta=0.795\n",
      "Frame split:  1\n",
      "eta=0.8\n",
      "Frame split:  1\n"
     ]
    }
   ],
   "source": [
    "########wp: System fit *without ideal gas*\n",
    "randomize = False\n",
    "incpca = IncrementalPCA(n_components=n_components , whiten=False)\n",
    "\n",
    "frames = None\n",
    "features = None\n",
    "split_features = None\n",
    "\n",
    "split=1\n",
    "for etas_, file_base in file_data:\n",
    "    for eta in etas_:\n",
    "        print 'eta={}'.format(eta)\n",
    "        filename = \"{}/trajectory_{:.4f}.gsd\".format(file_base, eta)\n",
    "        frames = ReadGSD(filename, shuffle_data=True, randomize=randomize)\n",
    "        \n",
    "        frames_split = array_split(frames, split)\n",
    "        frames = None\n",
    "        count = 0\n",
    "        for frames_partial in frames_split:\n",
    "            features_partial = TrajectoryToFeatures(frames_partial, \n",
    "                                                    N_nn=N_nn, \n",
    "                                                    method=method, \n",
    "                                                    particle_inc=particle_inc, \n",
    "                                                    nn_inc=nn_inc)\n",
    "\n",
    "            #wp: fits pure system features (no idea gas reduction)\n",
    "            incpca.partial_fit(features_partial )\n",
    "            count = count + 1\n",
    "            print \"Frame split: \", count\n",
    "        #wp:resets frame split\n",
    "        frames_split = None"
   ]
  },
  {
   "cell_type": "code",
   "execution_count": 308,
   "metadata": {},
   "outputs": [
    {
     "data": {
      "image/png": "[encoded data removed]",
      "text/plain": [
       "<Figure size 432x432 with 1 Axes>"
      ]
     },
     "metadata": {},
     "output_type": "display_data"
    }
   ],
   "source": [
    "###Plots the feature matrix for the last eta\n",
    "fpartial_ig=np.asarray(features_partial_ig);\n",
    "fpartial=np.asarray(features_partial);\n",
    "sample_num=3000\n",
    "#wp:ideal gas\n",
    "plt.plot(fpartial_ig[sample_num,:],'g-^')\n",
    "#wp:system\n",
    "plt.plot(fpartial[sample_num,:],'r-o')\n",
    "plt.xlim(0,n_components+2);plt.ylim(0,fpartial[sample_num,-1]+2);"
   ]
  },
  {
   "cell_type": "markdown",
   "metadata": {},
   "source": [
    "### Compute the order parameters based on two nested models"
   ]
  },
  {
   "cell_type": "code",
   "execution_count": 289,
   "metadata": {
    "scrolled": true
   },
   "outputs": [
    {
     "name": "stdout",
     "output_type": "stream",
     "text": [
      "eta=0.55\n",
      "1\n",
      "eta=0.555\n",
      "1\n",
      "eta=0.56\n",
      "1\n",
      "eta=0.565\n",
      "1\n",
      "eta=0.57\n",
      "1\n",
      "eta=0.575\n",
      "1\n",
      "eta=0.58\n",
      "1\n",
      "eta=0.585\n",
      "1\n",
      "eta=0.59\n",
      "1\n",
      "eta=0.595\n",
      "1\n",
      "eta=0.6\n",
      "1\n",
      "eta=0.605\n",
      "1\n",
      "eta=0.61\n",
      "1\n",
      "eta=0.615\n",
      "1\n",
      "eta=0.62\n",
      "1\n",
      "eta=0.625\n",
      "1\n",
      "eta=0.63\n",
      "1\n",
      "eta=0.635\n",
      "1\n",
      "eta=0.64\n",
      "1\n",
      "eta=0.645\n",
      "1\n",
      "eta=0.65\n",
      "1\n",
      "eta=0.655\n",
      "1\n",
      "eta=0.66\n",
      "1\n",
      "eta=0.665\n",
      "1\n",
      "eta=0.67\n",
      "1\n",
      "eta=0.675\n",
      "1\n",
      "eta=0.68\n",
      "1\n",
      "eta=0.685\n",
      "1\n",
      "eta=0.69\n",
      "1\n",
      "eta=0.695\n",
      "1\n",
      "eta=0.7\n",
      "1\n",
      "eta=0.705\n",
      "1\n",
      "eta=0.71\n",
      "1\n",
      "eta=0.715\n",
      "1\n",
      "eta=0.72\n",
      "1\n",
      "eta=0.725\n",
      "1\n",
      "eta=0.73\n",
      "1\n",
      "eta=0.735\n",
      "1\n",
      "eta=0.74\n",
      "1\n",
      "eta=0.745\n",
      "1\n",
      "eta=0.75\n",
      "1\n",
      "eta=0.755\n",
      "1\n",
      "eta=0.76\n",
      "1\n",
      "eta=0.765\n",
      "1\n",
      "eta=0.77\n",
      "1\n",
      "eta=0.775\n",
      "1\n",
      "eta=0.78\n",
      "1\n",
      "eta=0.785\n",
      "1\n",
      "eta=0.79\n",
      "1\n",
      "eta=0.795\n",
      "1\n",
      "eta=0.8\n",
      "1\n"
     ]
    }
   ],
   "source": [
    "#wp: Once *all* the data has been fit with pca, then start getting the transformed components using *all* the fitted data\n",
    "randomize=False\n",
    "frames = None\n",
    "features = None\n",
    "raw_OPs = []\n",
    "\n",
    "split=1;\n",
    "for etas_, file_base in file_data:\n",
    "    for eta in etas_:\n",
    "        print 'eta={}'.format(eta)\n",
    "        filename = \"{}/trajectory_{:.4f}.gsd\".format(file_base, eta)\n",
    "        frames = ReadGSD(filename, shuffle_data=True, randomize=randomize)\n",
    "        \n",
    "        frames_split = array_split(frames, split)\n",
    "        frames = None\n",
    "        count = 0\n",
    "        means = []\n",
    "        #wp: Array of transformed/projected pca features. OP=order parameter\n",
    "        raw_OPs_single = []\n",
    "        for frames_partial in frames_split:\n",
    "            #wp: returns nearest sorted neighbor distances for traj_frames*Npart/particle_inc examples\n",
    "            features_partial = TrajectoryToFeatures(frames_partial, \n",
    "                                                    N_nn=N_nn, \n",
    "                                                    method=method, \n",
    "                                                    particle_inc=particle_inc, \n",
    "                                                    nn_inc=nn_inc)\n",
    "            #wp:regenerate the *hard disk* projection on the ideal gas space to subtract from the hard disk feature vector\n",
    "            features_partial_ig_projection = incpca_ig.inverse_transform(incpca_ig.transform(features_partial))\n",
    "            transformed_features_partial = incpca.transform(features_partial - features_partial_ig_projection)\n",
    "            #transformed_features_partial = incpca.transform(features_partial)\n",
    "            raw_OPs_single.append(transformed_features_partial)\n",
    "            count = count + 1\n",
    "            print count\n",
    "        #wp: Order parameters for each eta: list of arrays of size (# of etas)x(traj_frames*Npart/particle_inc x N_nn/nn_inc (or n_components))\n",
    "        #wp: So for a run of Npart=400,particle_inc=10, with 100 traj frames and choosing N_nn=30, keeping every nn_inc=2 we get (# etas)x(4000x15)\n",
    "        raw_OPs.append(raw_OPs_single)  "
   ]
  },
  {
   "cell_type": "markdown",
   "metadata": {},
   "source": [
    "### Compute order parameter stats"
   ]
  },
  {
   "cell_type": "code",
   "execution_count": 269,
   "metadata": {},
   "outputs": [],
   "source": [
    "from numpy import array, mean, std, abs"
   ]
  },
  {
   "cell_type": "code",
   "execution_count": 293,
   "metadata": {},
   "outputs": [
    {
     "name": "stdout",
     "output_type": "stream",
     "text": [
      "The feature matrix input for each eta is of dimensions 8000 20\n",
      "8000 20\n",
      "Number of rows:  51\n",
      "Number of columns:  1\n",
      "Array size for each eta:  (8000, 20)\n",
      "[ 2.85546684e-17 -4.91631399e-18 -4.77054209e-19  0.00000000e+00\n",
      "  0.00000000e+00  0.00000000e+00  0.00000000e+00  0.00000000e+00\n",
      "  0.00000000e+00  0.00000000e+00  0.00000000e+00  0.00000000e+00\n",
      "  0.00000000e+00  0.00000000e+00  0.00000000e+00  0.00000000e+00\n",
      "  0.00000000e+00  0.00000000e+00  0.00000000e+00  0.00000000e+00]\n",
      "Shape of average order parameter (51, 20)\n"
     ]
    }
   ],
   "source": [
    "OPs = []\n",
    "OPs_std = []\n",
    "OPs_abs = []\n",
    "\n",
    "for single_eta in raw_OPs:\n",
    "    merged_data = []\n",
    "    \n",
    "    for split in single_eta:\n",
    "        merged_data.extend(split)\n",
    "    OPs.append(mean((split), axis=0))\n",
    "    OPs_std.append(std(split, axis=0))\n",
    "    OPs_abs.append(mean(abs(split), axis=0))\n",
    "\n",
    "OPs = array(OPs)\n",
    "OPs_std = array(OPs_std)\n",
    "OPs_abs = array(OPs_abs)\n",
    "\n",
    "\n",
    "\n",
    "#wp:figuring things out...\n",
    "print \"The feature matrix input for each eta is of dimensions\",len(features_partial),len(features_partial[0])\n",
    "print len(raw_OPs_single[0]),len(raw_OPs_single[0][0])\n",
    "\n",
    "\n",
    "eta_index=0\n",
    "print \"Number of rows: \", len(raw_OPs)\n",
    "print \"Number of columns: \", len(raw_OPs[eta_index])\n",
    "print \"Array size for each eta: \", raw_OPs[eta_index][0].shape\n",
    "print raw_OPs[eta_index][0][1]\n",
    "\n",
    "#wp: for the averaged value\n",
    "print \"Shape of average order parameter\", OPs.shape"
   ]
  },
  {
   "cell_type": "markdown",
   "metadata": {
    "collapsed": true
   },
   "source": [
    "---"
   ]
  },
  {
   "cell_type": "markdown",
   "metadata": {
    "collapsed": true
   },
   "source": [
    "## Check out the results of PCA"
   ]
  },
  {
   "cell_type": "code",
   "execution_count": 120,
   "metadata": {},
   "outputs": [],
   "source": [
    "import matplotlib.pyplot as plt\n",
    "import numpy as np"
   ]
  },
  {
   "cell_type": "code",
   "execution_count": 299,
   "metadata": {},
   "outputs": [
    {
     "data": {
      "image/png": "[encoded data removed]",
      "text/plain": [
       "<Figure size 432x432 with 1 Axes>"
      ]
     },
     "metadata": {},
     "output_type": "display_data"
    }
   ],
   "source": [
    "###Plots the feature matrix for the last eta\n",
    "fpartial=np.asarray(features_partial);\n",
    "plt.plot(fpartial[1250,:],'r-o')\n",
    "plt.xlim(0,n_components+10);plt.ylim(0,20);"
   ]
  },
  {
   "cell_type": "markdown",
   "metadata": {},
   "source": [
    "### Explained variance"
   ]
  },
  {
   "cell_type": "code",
   "execution_count": 294,
   "metadata": {},
   "outputs": [
    {
     "data": {
      "image/png": "[encoded data removed]",
      "text/plain": [
       "<Figure size 432x432 with 1 Axes>"
      ]
     },
     "metadata": {},
     "output_type": "display_data"
    }
   ],
   "source": [
    "#plot the principal components\n",
    "colors = 200*['green', 'purple', 'orange', 'teal', 'black', 'red']\n",
    "\n",
    "plt.plot(incpca.explained_variance_ratio_, marker='o', linewidth=1.0, markersize=12, color = 'red', markerfacecolor='None')    \n",
    "\n",
    "#backround grid details\n",
    "axes = plt.gca()\n",
    "axes.grid(b = True, which = 'both', axis = 'both', color = 'gray', linestyle = '-', alpha = 0.5, linewidth = 0.5) \n",
    "#axes.set_axis_bgcolor('white')  \n",
    "\n",
    "#font scpecifications\n",
    "title_font = {'family' : 'arial', 'color'  : 'black', 'weight' : 'heavy','size': 20}\n",
    "axis_label_font = {'family' : 'arial', 'color'  : 'black', 'weight' : 'normal','size': 20}                                                   \n",
    "\n",
    "#figure size and tick style\n",
    "plt.rcParams[\"figure.figsize\"] = [6,6]\n",
    "plt.rc('axes',edgecolor='black',linewidth=1)\n",
    "plt.tick_params(which='both', axis='both', color='black', length=4, width=0.5)\n",
    "plt.rcParams['xtick.direction'] = 'in'\n",
    "plt.rcParams['ytick.direction'] = 'in'\n",
    "\n",
    "#plt.yscale('log')\n",
    "#!!!wp: Why eta? #Shouldn't be features?\n",
    "plt.xlabel(r'component', y=3, fontsize=20, fontdict = axis_label_font)\n",
    "plt.ylabel(r'Explained variance', fontsize=20, fontdict = axis_label_font)\n",
    "\n",
    "#title and axis labels\n",
    "plt.tick_params(axis='both', labelsize=20)\n",
    "plt.title('Explained variance for pricipal components', y=1.05, fontdict = title_font)\n",
    "\n",
    "plt.show()"
   ]
  },
  {
   "cell_type": "markdown",
   "metadata": {},
   "source": [
    "### Principal component weights"
   ]
  },
  {
   "cell_type": "code",
   "execution_count": 295,
   "metadata": {},
   "outputs": [
    {
     "data": {
      "image/png": "[encoded data removed]",
      "text/plain": [
       "<Figure size 432x432 with 1 Axes>"
      ]
     },
     "metadata": {},
     "output_type": "display_data"
    }
   ],
   "source": [
    "#plot the principal components\n",
    "colors = 200*['green', 'purple', 'orange', 'teal', 'black', 'red']\n",
    "for i in range(0,3):\n",
    "    p_data = incpca.components_[i]\n",
    "    plt.plot(range(len(incpca.components_[0])), p_data, marker='o', linewidth = 1.0, markersize=5, color = colors[i])  \n",
    "\n",
    "#backround grid details\n",
    "axes = plt.gca()\n",
    "axes.grid(b = True, which = 'both', axis = 'both', color = 'gray', linestyle = '-', alpha = 0.5, linewidth = 0.5) \n",
    "#axes.set_axis_bgcolor('white')  \n",
    "\n",
    "#font scpecifications\n",
    "title_font = {'family' : 'arial', 'color'  : 'black', 'weight' : 'heavy','size': 20}\n",
    "axis_label_font = {'family' : 'arial', 'color'  : 'black', 'weight' : 'normal','size': 20}                                                   \n",
    "\n",
    "#figure size and tick style\n",
    "plt.rcParams[\"figure.figsize\"] = [6,6]\n",
    "plt.rc('axes',edgecolor='black',linewidth=1)\n",
    "plt.tick_params(which='both', axis='both', color='black', length=4, width=0.5)\n",
    "plt.rcParams['xtick.direction'] = 'in'\n",
    "plt.rcParams['ytick.direction'] = 'in'\n",
    "\n",
    "#axis range and labels (also specify if log or not)\n",
    "#plt.xlim(0.1,80)\n",
    "#plt.ylim(-1,0)\n",
    "#plt.ylim(0,0.5)\n",
    "#plt.ylim(-2,1.5)\n",
    "#plt.ylim(5, 13)\n",
    "#plt.ylim(1, 0.001)\n",
    "#plt.ylim(-2000.0, 2000)\n",
    "\n",
    "#plt.xscale('log')\n",
    "#wp:axes labels\n",
    "plt.xlabel(r'$n$th nerest neighbor', y=3, fontsize=20, fontdict = axis_label_font)\n",
    "plt.ylabel(r'$P_{i}$ weight', fontsize=20, fontdict = axis_label_font)\n",
    "\n",
    "#title and axis labels\n",
    "plt.tick_params(axis='both', labelsize=20)\n",
    "plt.title('PCA feature weights', y=1.05, fontdict = title_font)\n",
    "\n",
    "plt.show()"
   ]
  },
  {
   "cell_type": "markdown",
   "metadata": {},
   "source": [
    "### Order parameters"
   ]
  },
  {
   "cell_type": "code",
   "execution_count": 298,
   "metadata": {},
   "outputs": [
    {
     "data": {
      "image/png": "[encoded data removed]",
      "text/plain": [
       "<Figure size 432x432 with 1 Axes>"
      ]
     },
     "metadata": {},
     "output_type": "display_data"
    }
   ],
   "source": [
    "#plot the principal components\n",
    "colors = 200*['green', 'purple', 'orange', 'teal', 'black', 'red']\n",
    "for i in range(0,3): #12,13\n",
    "    p_data = OPs[:,i]\n",
    "    plt.plot(etas, (p_data), marker='o', linewidth = 1.0, markersize=12, color = colors[i], markerfacecolor='None')\n",
    "    p_data = OPs_std[:,i]\n",
    "    #plt.plot(etas, (p_data), marker='^', linewidth = 1.0, markersize=12, color = colors[i])\n",
    "\n",
    "#backround grid details\n",
    "axes = plt.gca()\n",
    "axes.grid(b = True, which = 'both', axis = 'both', color = 'gray', linestyle = '-', alpha = 0.5, linewidth = 0.5) \n",
    "\n",
    "\n",
    "#figure size and tick style\n",
    "plt.rcParams[\"figure.figsize\"] = [6,6]\n",
    "plt.rc('axes',edgecolor='black',linewidth=1)\n",
    "plt.tick_params(which='both', axis='both', color='black', length=4, width=0.5)\n",
    "plt.rcParams['xtick.direction'] = 'in'\n",
    "plt.rcParams['ytick.direction'] = 'in'\n",
    "\n",
    "#axis range and labels (also specify if log or not)\n",
    "#plt.xlim(0.60, 0.84)\n",
    "#plt.ylim(-0.1,0.1)\n",
    "\n",
    "#plt.ylim(-0.1,0.1)\n",
    "#plt.yscale('log')\n",
    "\n",
    "#plt.yscale('log')\n",
    "plt.xlabel(r'$\\eta$', y=3, fontsize=20, fontdict = axis_label_font)\n",
    "plt.ylabel(r'$\\langle P_{i} \\rangle$ and $\\langle |P_{i}| \\rangle$', fontsize=20, fontdict = axis_label_font)\n",
    "\n",
    "#title and axis labels\n",
    "plt.tick_params(axis='both', labelsize=20)\n",
    "plt.title('PCA ellipsoids', y=1.05, fontdict = title_font)\n",
    "\n",
    "plt.show()"
   ]
  },
  {
   "cell_type": "code",
   "execution_count": 153,
   "metadata": {},
   "outputs": [],
   "source": [
    "OPs_400_20=OPs;   #wp: N_nn=400, nn_inc=20, using 10000 samples-"
   ]
  },
  {
   "cell_type": "code",
   "execution_count": 166,
   "metadata": {},
   "outputs": [],
   "source": [
    "OPs_200_10=OPs;   #wp: N_nn=200, nn_inc=10, using 10000 samples-"
   ]
  },
  {
   "cell_type": "code",
   "execution_count": 179,
   "metadata": {},
   "outputs": [],
   "source": [
    "OPs_400_10=OPs;   #wp: N_nn=400, nn_inc=10, using 10000 samples-"
   ]
  },
  {
   "cell_type": "code",
   "execution_count": 232,
   "metadata": {},
   "outputs": [],
   "source": [
    "OPs_400_40_10k=OPs; #wp: N_nn=400, nn_inc=40, using 10000 samples-"
   ]
  },
  {
   "cell_type": "code",
   "execution_count": 246,
   "metadata": {},
   "outputs": [],
   "source": [
    "OPs_400_20_ig=OPs;  #wp: N_nn=400, nn_inc=40, using 10000 samples-"
   ]
  },
  {
   "cell_type": "code",
   "execution_count": 233,
   "metadata": {},
   "outputs": [
    {
     "data": {
      "image/png": "[encoded data removed]",
      "text/plain": [
       "<Figure size 432x432 with 1 Axes>"
      ]
     },
     "metadata": {},
     "output_type": "display_data"
    }
   ],
   "source": [
    "#plot the principal components\n",
    "colors = 200*['green', 'purple', 'orange', 'teal', 'black', 'red']\n",
    "for i in range(0,1): #12,13\n",
    "    p_data = OPs_400_40_10k[:,i]\n",
    "    plt.plot(etas, (p_data), marker='o', linewidth = 1.0, markersize=12, color = colors[i], markerfacecolor='None')\n",
    "    #p_data = OPs_200_10[:,i]\n",
    "    #plt.plot(etas, (p_data), marker='^', linewidth = 1.0, markersize=8, color = colors[i])\n",
    "    p_data = OPs_400_10[:,i]\n",
    "    plt.plot(etas, (p_data), marker='s', linewidth = 1.0, markersize=8, color = colors[i])"
   ]
  },
  {
   "cell_type": "code",
   "execution_count": null,
   "metadata": {},
   "outputs": [],
   "source": []
  }
 ],
 "metadata": {
  "kernelspec": {
   "display_name": "Python 2",
   "language": "python",
   "name": "python2"
  },
  "language_info": {
   "codemirror_mode": {
    "name": "ipython",
    "version": 2
   },
   "file_extension": ".py",
   "mimetype": "text/x-python",
   "name": "python",
   "nbconvert_exporter": "python",
   "pygments_lexer": "ipython2",
   "version": "2.7.14"
  }
 },
 "nbformat": 4,
 "nbformat_minor": 2
}
