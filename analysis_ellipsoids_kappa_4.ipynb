{
 "cells": [
  {
   "cell_type": "markdown",
   "metadata": {},
   "source": [
    "# Principal components analysis for order parameter construction"
   ]
  },
  {
   "cell_type": "code",
   "execution_count": 1,
   "metadata": {},
   "outputs": [],
   "source": [
    "from analysis_tools.read_gsd import ReadGSD\n",
    "from analysis_tools.feature_creation import FrameToFeatures, TrajectoryToFeatures, TrajectoryToFeaturesBatch, TrajectoryToFeaturesBatchR\n",
    "from analysis_tools.feature_creation import FrameToFeaturesComposition, TrajectoryToFeaturesComposition\n",
    "from IPython.display import clear_output"
   ]
  },
  {
   "cell_type": "markdown",
   "metadata": {},
   "source": [
    "---"
   ]
  },
  {
   "cell_type": "markdown",
   "metadata": {},
   "source": [
    "## Models"
   ]
  },
  {
   "cell_type": "code",
   "execution_count": 2,
   "metadata": {},
   "outputs": [],
   "source": [
    "from numpy import array, arange, floor, floor"
   ]
  },
  {
   "cell_type": "markdown",
   "metadata": {},
   "source": [
    "### Model data"
   ]
  },
  {
   "cell_type": "markdown",
   "metadata": {},
   "source": [
    "#### Hard disks"
   ]
  },
  {
   "cell_type": "code",
   "execution_count": 3,
   "metadata": {},
   "outputs": [],
   "source": [
    "## Kappa=4\n",
    "particle_inc = 104 #skip this many particles in generating features; #wp: because it selects index 0 be default, rounds up to integer if not a mulptiple of Ntot\n",
    "N_nn = 3120 #number of nearest nighbors for pca analysis #wp:Should not be bigger than Ntotal\n",
    "nn_inc = 10 #reduces the number of nearest neighbors to include as features\n",
    "split = 1 #chunks the data up so it can be processed by the pca tool if really large\n",
    "N_batch=1\n",
    "frame_skip=4\n",
    "\n",
    "#method = ['distance']\n",
    "method = ['orientation']"
   ]
  },
  {
   "cell_type": "code",
   "execution_count": 4,
   "metadata": {},
   "outputs": [],
   "source": [
    "#specify what data to read in and process\n",
    "#wp:there are 51 eta points given range below\n",
    "folder='ellipsoids/kappa_4.0_3N'; \n",
    "file_data = [(arange(0.6100, 0.6800, 0.01), folder),\n",
    "             (arange(0.6850, 0.7200, 0.005), folder),\n",
    "             (arange(0.7300, 0.90001, 0.01), folder)] \n",
    "            \n",
    "             "
   ]
  },
  {
   "cell_type": "markdown",
   "metadata": {},
   "source": [
    "### Density range"
   ]
  },
  {
   "cell_type": "code",
   "execution_count": 5,
   "metadata": {},
   "outputs": [],
   "source": [
    "#wp: the `_' variable is a dummy return variable like `~' in matlab\n",
    "#wp: Here, the for loop returns two arguments but only keeps the first that contains all the numbers\n",
    "etas = []\n",
    "[etas.extend(etas_) for etas_, _ in file_data]\n",
    "etas = array(etas)\n",
    "#print(etas)"
   ]
  },
  {
   "cell_type": "markdown",
   "metadata": {
    "collapsed": true
   },
   "source": [
    "---"
   ]
  },
  {
   "cell_type": "markdown",
   "metadata": {},
   "source": [
    "## Perfom PCA"
   ]
  },
  {
   "cell_type": "code",
   "execution_count": 6,
   "metadata": {},
   "outputs": [],
   "source": [
    "from numpy import array_split\n",
    "from sklearn.decomposition import IncrementalPCA"
   ]
  },
  {
   "cell_type": "markdown",
   "metadata": {},
   "source": [
    "### Train on ideal gas structure first to identify trivial variance contributions"
   ]
  },
  {
   "cell_type": "code",
   "execution_count": 7,
   "metadata": {},
   "outputs": [],
   "source": [
    "#n_components_ig = N_nn/nn_inc-1  #for this the more the better, however, 50 is probably enough\n",
    "n_components_ig = N_batch*N_nn/nn_inc  #for this the more the better, however, 50 is probably enough\n",
    "#n_components_ig = N_nn/nn_inc*(N_batch+2) #for this the more the better, however, 50 is probably enough\n",
    "#print n_components_ig"
   ]
  },
  {
   "cell_type": "code",
   "execution_count": 53,
   "metadata": {},
   "outputs": [],
   "source": [
    "from analysis_tools.feature_creation import FrameToFeatures, TrajectoryToFeatures\n",
    "\n",
    "###wp: Ideal gas pca structure\n",
    "incpca_ig = IncrementalPCA(n_components=n_components_ig, whiten=True)  #NOTICE: whitening is on here\n",
    "\n",
    "frames = None\n",
    "features = None\n",
    "split_features = None\n",
    "#split=1\n",
    "\n",
    "#features_partial_ig=[];\n",
    "\n",
    "for etas_, file_base in file_data:\n",
    "    for eta in etas_:\n",
    "        print 'eta={}'.format(eta)\n",
    "        filename = \"{}/trajectory_{:.4f}.gsd\".format(file_base, eta)\n",
    "        frames = ReadGSD(filename, shuffle_data=True, randomize=True)        \n",
    "        #print frames[0]['orientation'][0:5]\n",
    "        \n",
    "        frames_split = array_split(frames, split)\n",
    "        \n",
    "        #frames = None\n",
    "        count = 0\n",
    "        \n",
    "        for frames_partial in frames_split:\n",
    "        #for frames_partial in frames_split[0:-1:2]:\n",
    "            #features_partial = TrajectoryToFeatures(frames_partial, N_nn=N_nn, method=method, \n",
    "            #                                        particle_inc=particle_inc, nn_inc=nn_inc)\n",
    "            #wp: Rather than using all frames by default, allow setting to skip some\n",
    "            \n",
    "            #if eta > 0.8200:\n",
    "            #    N_nni=N_nn2; particle_inci=particle_inc2; nn_inci=nn_inc2;\n",
    "            #else:\n",
    "            N_nni=N_nn; particle_inci=particle_inc; nn_inci=nn_inc;\n",
    "                \n",
    "            frames_partial=frames_partial[::frame_skip]\n",
    "            #frames_partial=frames_partial[0:200]\n",
    "        \n",
    "            features_partial = TrajectoryToFeaturesBatch(frames_partial, N_nn=N_nni, method=method, \n",
    "                                                         particle_inc=particle_inci, nn_inc=nn_inci,N_batch=N_batch)\n",
    "            \n",
    "            #features_partial = TrajectoryToFeaturesBatchR(frames_partial, N_nn=N_nni, method=method, \n",
    "             #                                            particle_inc=particle_inci, nn_inc=nn_inci,N_batch=N_batch)\n",
    "\n",
    "\n",
    "            \n",
    "            print features_partial.shape\n",
    "            incpca_ig.partial_fit(features_partial)\n",
    "            count = count + 1\n",
    "            print count\n",
    "            \n",
    "        clear_output()\n",
    "        frames_split = None\n",
    "        #features_partial_ig.append(features_partial)\n",
    "        "
   ]
  },
  {
   "cell_type": "markdown",
   "metadata": {},
   "source": [
    "### Train on actual data with trivial data variance removed by the ideal gas model"
   ]
  },
  {
   "cell_type": "code",
   "execution_count": 8,
   "metadata": {},
   "outputs": [],
   "source": [
    "#n_components = N_nn/nn_inc-1 #this number will not affect the quality of the result just the computation time and amount of info returned\n",
    "n_components = N_batch*N_nn/nn_inc  #for this the more the better, however, 50 is probably enough\n",
    "#n_components = 2*N_nn/nn_inc  #for this the more the better, however, 50 is probably enough\n",
    "#n_components = N_nn/nn_inc*(N_batch+2) #for this the more the better, however, 50 is probably enough"
   ]
  },
  {
   "cell_type": "code",
   "execution_count": 55,
   "metadata": {},
   "outputs": [],
   "source": [
    "incpca = IncrementalPCA(n_components=n_components , whiten=False)  #NOTE: not whitening here\n",
    "\n",
    "frames = None\n",
    "features = None\n",
    "split_features = None\n",
    "#split=1\n",
    "features_partial_ellipse=[]\n",
    "\n",
    "for etas_, file_base in file_data:\n",
    "    for eta in etas_:\n",
    "        print 'eta={}'.format(eta)\n",
    "        filename = \"{}/trajectory_{:.4f}.gsd\".format(file_base, eta)\n",
    "        frames = ReadGSD(filename, shuffle_data=True, randomize=False)\n",
    "        \n",
    "        frames_split = array_split(frames, split)\n",
    "        frames = None\n",
    "        count = 0\n",
    "        for frames_partial in frames_split:\n",
    "            #features_partial = TrajectoryToFeatures(frames_partial, \n",
    "            #                                        N_nn=N_nn, \n",
    "            #                                        method=method, \n",
    "            #                                        particle_inc=particle_inc, \n",
    "            #                                        nn_inc=nn_inc)\n",
    "            \n",
    "\n",
    "            #if eta > 0.8200:\n",
    "            #    N_nni=N_nn2; particle_inci=particle_inc2; nn_inci=nn_inc2;\n",
    "            #else:\n",
    "            N_nni=N_nn; particle_inci=particle_inc; nn_inci=nn_inc;\n",
    "                \n",
    "            frames_partial=frames_partial[::frame_skip]\n",
    "            #frames_partial=frames_partial[0:200]\n",
    "               \n",
    "            features_partial = TrajectoryToFeaturesBatch(frames_partial, N_nn=N_nni, method=method, \n",
    "                                                         particle_inc=particle_inci, nn_inc=nn_inci,N_batch=N_batch)\n",
    "            \n",
    "            #wp:project *hard disk* features onto ig eigenvectors\n",
    "            incpca.partial_fit(incpca_ig.transform(features_partial))\n",
    "            #count = count + 1\n",
    "            #print count\n",
    "        clear_output()\n",
    "        frames_split = None\n",
    "        #features_partial_ellipse.append(features_partial)"
   ]
  },
  {
   "cell_type": "markdown",
   "metadata": {},
   "source": [
    "### System train without ideal gas correction"
   ]
  },
  {
   "cell_type": "code",
   "execution_count": 30,
   "metadata": {},
   "outputs": [],
   "source": [
    "########wp: System fit *without ideal gas*\n",
    "incpca = IncrementalPCA(n_components=n_components , whiten=False)\n",
    "\n",
    "frames = None\n",
    "features = None\n",
    "split_features = None\n",
    "\n",
    "split=1\n",
    "for etas_, file_base in file_data:\n",
    "    for eta in etas_:\n",
    "        print 'eta={}'.format(eta)\n",
    "        filename = \"{}/trajectory_{:.4f}.gsd\".format(file_base, eta)\n",
    "        frames = ReadGSD(filename, shuffle_data=True, randomize=False)\n",
    "        \n",
    "        frames_split = array_split(frames, split)\n",
    "        frames = None\n",
    "        count = 0\n",
    "        for frames_partial in frames_split:\n",
    "            #features_partial = TrajectoryToFeatures(frames_partial, \n",
    "            #                                        N_nn=N_nn, \n",
    "            #                                        method=method, \n",
    "            #                                        particle_inc=particle_inc, \n",
    "            #                                        nn_inc=nn_inc)\n",
    "            \n",
    "            frames_partial=frames_partial[::frame_skip]\n",
    "            features_partial = TrajectoryToFeaturesBatchR(frames_partial, \n",
    "                                                    N_nn=N_nn, \n",
    "                                                   method=method, \n",
    "                                                    particle_inc=particle_inc, \n",
    "                                                    nn_inc=nn_inc,N_batch=N_batch)\n",
    "            \n",
    "            #wp: fits pure system features (no idea gas reduction)\n",
    "            incpca.partial_fit(features_partial)\n",
    "            count = count + 1\n",
    "            print \"Frame split: \", count\n",
    "        #wp:resets frame split\n",
    "        clear_output()\n",
    "        frames_split = None"
   ]
  },
  {
   "cell_type": "markdown",
   "metadata": {},
   "source": [
    "# Saving trained models to files and reloading "
   ]
  },
  {
   "cell_type": "markdown",
   "metadata": {},
   "source": [
    "### Saves trained model to avoid retraining every time as well as memory issues"
   ]
  },
  {
   "cell_type": "code",
   "execution_count": 57,
   "metadata": {},
   "outputs": [
    {
     "data": {
      "text/plain": [
       "['trained_models/kappa_4.0_pos.pca']"
      ]
     },
     "execution_count": 57,
     "metadata": {},
     "output_type": "execute_result"
    }
   ],
   "source": [
    "from sklearn.externals import joblib\n",
    "folder_model='trained_models'\n",
    "model_ig=folder_model+'/kappa_4.0_pos_ig.pca'; \n",
    "model=folder_model+'/kappa_4.0_pos.pca';\n",
    "#wp: Saves model as file\n",
    "#ideal gas trained model\n",
    "joblib.dump(incpca_ig,model_ig)\n",
    "#full trained model\n",
    "joblib.dump(incpca,model)"
   ]
  },
  {
   "cell_type": "markdown",
   "metadata": {},
   "source": [
    "### Loads saved models"
   ]
  },
  {
   "cell_type": "code",
   "execution_count": 9,
   "metadata": {},
   "outputs": [],
   "source": [
    "from sklearn.externals import joblib\n",
    "#paths to where models are located\n",
    "folder_model='trained_models'\n",
    "model_ig=folder_model+'/kappa_4.0_ig.pca'; \n",
    "model=folder_model+'/kappa_4.0.pca';\n",
    "\n",
    "incpca_ig=joblib.load(model_ig);\n",
    "incpca=joblib.load(model);"
   ]
  },
  {
   "cell_type": "markdown",
   "metadata": {},
   "source": [
    "# Fitting of models and analysis"
   ]
  },
  {
   "cell_type": "code",
   "execution_count": 162,
   "metadata": {},
   "outputs": [],
   "source": [
    "## Kappa=4\n",
    "particle_inc = 3 #skip this many particles in generating features; #wp: because it selects index 0 be default, rounds up to integer if not a mulptiple of Ntot\n",
    "N_nn = 3120 #number of nearest nighbors for pca analysis #wp:Should not be bigger than Ntotal\n",
    "nn_inc = 10 #reduces the number of nearest neighbors to include as features\n",
    "split = 1 #chunks the data up so it can be processed by the pca tool if really large\n",
    "N_batch=1\n",
    "frame_skip=400\n",
    "\n",
    "#method = ['distance']\n",
    "method = ['orientation']\n",
    "\n",
    "###########\n",
    "file_data = [(arange(0.6100, 0.9000, 0.01), folder)]\n",
    "etas = []\n",
    "[etas.extend(etas_) for etas_, _ in file_data]\n",
    "etas = array(etas)\n",
    "#print(etas)\n",
    "            "
   ]
  },
  {
   "cell_type": "markdown",
   "metadata": {},
   "source": [
    "### Compute the order parameters based on two nested models"
   ]
  },
  {
   "cell_type": "code",
   "execution_count": 11,
   "metadata": {},
   "outputs": [],
   "source": [
    "frames = None\n",
    "features = None\n",
    "raw_OPs = []\n",
    "#split=1\n",
    "\n",
    "for etas_, file_base in file_data:\n",
    "    for eta in etas_:\n",
    "        print 'eta={}'.format(eta)\n",
    "        filename = \"{}/trajectory_{:.4f}.gsd\".format(file_base, eta)\n",
    "        #wp: randomize undefined here?\n",
    "        frames = ReadGSD(filename, shuffle_data=True, randomize=False)\n",
    "        \n",
    "        frames_split = array_split(frames, split)\n",
    "        frames = None\n",
    "        count = 0\n",
    "        means = []\n",
    "        raw_OPs_single = []\n",
    "        for frames_partial in frames_split:\n",
    "            #features_partial = TrajectoryToFeatures(frames_partial, \n",
    "            #                                        N_nn=N_nn, \n",
    "            #                                        method=method, \n",
    "            #                                        particle_inc=particle_inc,            \n",
    "            #                                       nn_inc=nn_inc)\n",
    "            \n",
    "            #if eta > 0.8200:\n",
    "            #    N_nni=N_nn2; particle_inci=particle_inc2; nn_inci=nn_inc2;\n",
    "            #else:\n",
    "            N_nni=N_nn; particle_inci=particle_inc; nn_inci=nn_inc;\n",
    "                \n",
    "            frames_partial=frames_partial[::frame_skip]\n",
    "            #frames_partial=frames_partial[0:50]\n",
    "        \n",
    "            features_partial = TrajectoryToFeaturesBatch(frames_partial, N_nn=N_nni, method=method, \n",
    "                                                         particle_inc=particle_inci, nn_inc=nn_inci,N_batch=N_batch)\n",
    "            \n",
    "            #wp: This returns the 'Z=X*U' matrix with mxn dimensions, where m=samples and n=feature vectors\n",
    "            transformed_features_partial = incpca.transform(incpca_ig.transform(features_partial))\n",
    "            #transformed_features_partial = incpca_ig.transform(features_partial)\n",
    "            #wp:No ideal gas correction\n",
    "            #transformed_features_partial = incpca.transform(features_partial)\n",
    "            raw_OPs_single.append(transformed_features_partial)\n",
    "            #count = count + 1\n",
    "            #print count\n",
    "        clear_output()\n",
    "        raw_OPs.append(raw_OPs_single)  "
   ]
  },
  {
   "cell_type": "markdown",
   "metadata": {},
   "source": [
    "### Compute order parameter stats"
   ]
  },
  {
   "cell_type": "code",
   "execution_count": 12,
   "metadata": {},
   "outputs": [],
   "source": [
    "from numpy import array, mean, std, abs, asarray"
   ]
  },
  {
   "cell_type": "code",
   "execution_count": 13,
   "metadata": {},
   "outputs": [],
   "source": [
    "OPs = []\n",
    "OPs_std = []\n",
    "OPs_abs = []\n",
    "\n",
    "for single_eta in raw_OPs:\n",
    "    merged_data = []\n",
    "    \n",
    "    #wp: here single_eta is just the feature vector of samples; the for loop below extracts it as array 'split'\n",
    "    for split_eta in single_eta:\n",
    "        merged_data.extend(split_eta)\n",
    "\n",
    "    #wp: averages over all samples m\n",
    "    OPs.append(mean((split_eta), axis=0))\n",
    "    OPs_std.append(std(split_eta, axis=0))\n",
    "    OPs_abs.append(mean(abs(split_eta), axis=0))\n",
    "\n",
    "OPs = array(OPs)\n",
    "OPs_std = array(OPs_std)\n",
    "OPs_abs = array(OPs_abs)"
   ]
  },
  {
   "cell_type": "code",
   "execution_count": 14,
   "metadata": {},
   "outputs": [
    {
     "name": "stdout",
     "output_type": "stream",
     "text": [
      "The feature matrix input for each eta is of dimensions 30000 312\n",
      "Number of rows:  33\n",
      "Array size for each eta:  (30000, 312)\n",
      "[ 1.11947629e+01  9.65937508e-01 -1.37175728e+00  1.73796322e+00\n",
      "  1.27214079e+00 -1.57220045e+00 -1.85895768e-01 -2.62107327e-01\n",
      " -2.21219680e-01 -1.97656154e+00  2.47747421e+00 -6.45705281e-01\n",
      " -6.78707255e-01  2.23544623e+00  1.02465918e+00  3.25675861e-01\n",
      "  1.59229822e-01  5.02755892e-01 -2.14336439e+00 -2.23007973e-01\n",
      " -2.06817325e+00 -1.30418100e+00 -6.03491298e-01 -7.85823688e-01\n",
      " -8.37460238e-01 -1.57256774e+00 -4.97127330e-01 -5.88099560e-01\n",
      "  4.68604527e-02  6.38406926e-01 -2.39266226e+00  6.15138687e-01\n",
      " -1.93793227e+00 -8.73091048e-01 -7.51114798e-01 -9.28567745e-01\n",
      "  1.70516763e+00  5.10937699e-01 -6.85135928e-01  1.31490111e+00\n",
      " -4.78726308e-01 -9.93300792e-02  7.08630586e-01 -1.67750055e+00\n",
      "  2.00044644e-01  2.50105819e-03 -2.06217842e+00  2.46159166e+00\n",
      "  1.32675495e+00 -1.74389826e+00 -4.05346150e-01  7.27944600e-01\n",
      "  1.96425236e-01 -9.51987704e-02  5.48833525e-01  8.36747295e-01\n",
      "  1.21889172e+00 -1.90029888e+00 -8.28054663e-01  7.74033315e-01\n",
      "  8.69392373e-01 -2.44219471e+00  5.00224251e-02 -7.52930843e-01\n",
      " -1.50635660e+00  1.25632466e+00  2.34628785e-01 -1.78776962e+00\n",
      " -7.57990019e-01  1.62489510e-01  1.03204875e+00 -2.81829521e-02\n",
      "  9.82100794e-01 -8.82238729e-01  5.92202466e-01 -2.75467352e-02\n",
      "  1.81607088e-01 -1.52320093e-02  7.58797413e-01  7.46719575e-01\n",
      " -4.72209793e-01 -1.30827218e+00 -7.90130633e-01  1.34718629e-01\n",
      "  1.37336281e+00 -3.33040934e-01  1.62485376e-01 -6.14500806e-01\n",
      " -1.09681735e+00 -2.40739997e-01  1.95145404e-01  1.09462949e+00\n",
      " -7.98075655e-01 -1.99753034e-01 -2.56182119e-01  1.76237461e+00\n",
      "  1.02405814e+00 -1.86002229e+00  2.80264200e-01  3.82665486e-01\n",
      " -9.44921723e-01  1.12961251e+00  1.52981969e+00  1.15898030e+00\n",
      "  6.35529412e-02 -1.31769558e+00 -8.00067547e-01 -1.17429113e+00\n",
      "  2.49074951e-01  7.60437846e-02 -7.92428044e-01 -4.23051059e-01\n",
      " -5.65934202e-02 -3.79244414e-01  1.90520807e+00 -1.55802091e-01\n",
      "  4.09494078e-01  2.23314071e+00 -1.03283896e+00 -5.22892932e-01\n",
      " -1.53119478e+00  7.83510848e-01  1.53762316e+00 -6.56064382e-02\n",
      " -3.35182923e-01  1.49910846e-01  1.34492664e+00 -1.90719581e-01\n",
      "  2.65175184e-01  1.57183467e+00  1.42978580e+00 -1.83817849e-01\n",
      " -1.65156618e+00  3.38527737e-01 -7.65455819e-01 -1.54887263e+00\n",
      "  1.26121818e+00 -7.60723007e-01  7.82477784e-01 -8.29476870e-01\n",
      " -1.75769329e+00 -8.17469438e-01 -3.40081624e-01  8.43621427e-01\n",
      " -5.39233953e-01 -1.04141021e+00  1.77874469e-01 -6.21967464e-01\n",
      " -1.62266350e+00  1.07847207e+00  3.64331910e-01  1.33434550e+00\n",
      "  4.26801008e-01 -4.31320501e-01  9.73454015e-01  3.17721408e-01\n",
      "  1.27907119e+00 -1.40423687e-01  2.59532068e-01 -9.76147205e-01\n",
      " -4.41216135e-01 -2.10358486e+00  5.04524773e-01 -3.01516180e-01\n",
      "  8.39324432e-01 -7.44234729e-01 -4.94395849e-01  6.79122410e-01\n",
      " -7.34736607e-01 -5.23415853e-01  1.14428554e+00  6.03139469e-01\n",
      "  2.37956239e-01 -6.95945599e-01 -6.00317372e-01 -4.98920869e-01\n",
      " -3.44308060e-03 -1.75021484e-01  1.03881191e+00  8.32472117e-01\n",
      " -2.26906346e+00  7.33830140e-02  1.29075412e+00  3.95220535e-01\n",
      "  8.79675039e-02  5.58455878e-01  7.80965456e-01 -9.48286098e-01\n",
      " -4.63399552e-01 -8.64649343e-01 -1.09644830e+00  1.42339549e+00\n",
      "  1.21839688e+00 -4.35664257e-01  1.15611893e+00 -1.99032220e+00\n",
      "  1.10764736e+00  5.23987119e-01 -1.87513640e-01  1.45608090e+00\n",
      "  1.30012584e+00  8.31744393e-03  1.07335411e+00  3.36642553e-01\n",
      "  1.89090916e-01 -6.00177697e-01  2.21312242e-01 -1.17472657e-01\n",
      " -1.17958713e+00 -1.00508721e-02 -4.48467363e-02  4.81386316e-01\n",
      "  2.37569231e-01 -5.18082889e-01  6.21375954e-01  2.51181001e+00\n",
      "  4.37682221e-01 -6.58160941e-01  2.18242499e-01 -4.90493222e-01\n",
      "  1.39494950e-02  5.51190510e-01 -7.92028559e-01  5.90418396e-01\n",
      " -5.62029038e-01  1.02844752e+00  1.37642691e+00  2.08596689e+00\n",
      " -7.25128754e-01 -7.19250211e-01  1.27113813e+00  5.08617106e-01\n",
      "  1.35201789e-02 -3.72393657e-01  3.52023728e-01  1.70198116e+00\n",
      " -6.88790509e-01 -1.15996560e+00 -1.08358184e+00 -2.41112671e-01\n",
      "  2.90521882e-01  2.33562781e-01  5.95263345e-01 -2.29742765e+00\n",
      " -2.06745306e-01  8.72355973e-01  9.06504129e-01  4.03343529e-01\n",
      " -1.01060736e-01 -1.00317665e+00 -4.65646198e-01 -4.47616462e-01\n",
      "  5.03606793e-01 -8.50569646e-01 -7.31458571e-02 -6.30880388e-01\n",
      " -7.44227654e-01  1.79906388e+00 -8.58267436e-01 -1.20217145e+00\n",
      " -7.39114311e-02 -7.80217321e-01 -2.56115122e-01 -8.85526510e-01\n",
      "  1.07979042e+00 -8.85859436e-01 -2.35623661e-01  2.93992737e-01\n",
      "  7.35846382e-01  5.44997100e-02  5.38977209e-01  1.64414571e-01\n",
      "  6.61156596e-01 -9.76434622e-01 -6.93711609e-02  3.16788183e-01\n",
      "  1.42896477e+00  4.82764577e-01 -9.36093048e-01 -5.98346163e-01\n",
      " -1.92339966e-01 -5.79673654e-01  1.07991031e+00 -2.36215856e+00\n",
      "  1.64474115e-02  8.51729281e-02 -1.68421880e+00 -1.27272006e+00\n",
      "  1.57314880e+00  6.62927921e-01 -3.17037302e-01  2.42195248e+00\n",
      " -1.17046765e+00  1.29874755e-01 -2.28510123e-01  1.31685620e-01\n",
      "  1.65359660e-01 -2.56683562e-01 -7.81547601e-01 -5.91360284e-01\n",
      " -2.84874860e-01 -1.03182215e+00 -1.15960245e+00 -2.41835941e+00\n",
      "  5.80827097e-01  6.87125909e-01 -4.56057661e-01  1.46423989e-01\n",
      "  1.05422765e+00  6.01580072e-01 -1.02228581e+00  7.04625792e-02]\n",
      "Shape of average order parameter (33, 312)\n"
     ]
    },
    {
     "ename": "NameError",
     "evalue": "name 'plt' is not defined",
     "output_type": "error",
     "traceback": [
      "\u001b[0;31m---------------------------------------------------------------------------\u001b[0m",
      "\u001b[0;31mNameError\u001b[0m                                 Traceback (most recent call last)",
      "\u001b[0;32m<ipython-input-14-c7c494c0fd0f>\u001b[0m in \u001b[0;36m<module>\u001b[0;34m()\u001b[0m\n\u001b[1;32m     20\u001b[0m \u001b[0;34m\u001b[0m\u001b[0m\n\u001b[1;32m     21\u001b[0m \u001b[0;32mfor\u001b[0m \u001b[0mi\u001b[0m \u001b[0;32min\u001b[0m \u001b[0mrange\u001b[0m\u001b[0;34m(\u001b[0m\u001b[0mlen\u001b[0m\u001b[0;34m(\u001b[0m\u001b[0mraw_OP_samples\u001b[0m\u001b[0;34m)\u001b[0m\u001b[0;34m)\u001b[0m\u001b[0;34m:\u001b[0m\u001b[0;34m\u001b[0m\u001b[0m\n\u001b[0;32m---> 22\u001b[0;31m     \u001b[0mplt\u001b[0m\u001b[0;34m.\u001b[0m\u001b[0mplot\u001b[0m\u001b[0;34m(\u001b[0m\u001b[0metas\u001b[0m\u001b[0;34m,\u001b[0m\u001b[0mraw_OP_samples\u001b[0m\u001b[0;34m[\u001b[0m\u001b[0mi\u001b[0m\u001b[0;34m]\u001b[0m\u001b[0;34m,\u001b[0m \u001b[0;34m'o-'\u001b[0m\u001b[0;34m)\u001b[0m\u001b[0;34m\u001b[0m\u001b[0m\n\u001b[0m",
      "\u001b[0;31mNameError\u001b[0m: name 'plt' is not defined"
     ]
    }
   ],
   "source": [
    "#wp:figuring things out...\n",
    "print \"The feature matrix input for each eta is of dimensions\",len(features_partial),len(features_partial[0])\n",
    "\n",
    "eta_index=0\n",
    "print \"Number of rows: \", len(raw_OPs)\n",
    "print \"Array size for each eta: \", raw_OPs[eta_index][0].shape\n",
    "print raw_OPs[eta_index][0][0]\n",
    "\n",
    "raw_OP_sample=[]\n",
    "raw_OP_samples=[]\n",
    "samplenum=20\n",
    "for mi in range(samplenum):\n",
    "    for eta_index in range(len(raw_OPs)):\n",
    "        raw_OP_sample.append(raw_OPs[eta_index][0][mi][0])\n",
    "    raw_OP_samples.append(asarray(raw_OP_sample))\n",
    "    raw_OP_sample=[]\n",
    "\n",
    "#wp: for the averaged value\n",
    "print \"Shape of average order parameter\", OPs.shape\n",
    "\n",
    "for i in range(len(raw_OP_samples)):\n",
    "    plt.plot(etas,raw_OP_samples[i], 'o-')"
   ]
  },
  {
   "cell_type": "markdown",
   "metadata": {
    "collapsed": true
   },
   "source": [
    "---"
   ]
  },
  {
   "cell_type": "markdown",
   "metadata": {
    "collapsed": true
   },
   "source": [
    "## Check out the results of PCA"
   ]
  },
  {
   "cell_type": "code",
   "execution_count": 10,
   "metadata": {},
   "outputs": [],
   "source": [
    "import matplotlib.pyplot as plt\n",
    "import numpy as np\n",
    "from random import randint"
   ]
  },
  {
   "cell_type": "code",
   "execution_count": 11,
   "metadata": {},
   "outputs": [
    {
     "data": {
      "text/plain": [
       "[<matplotlib.lines.Line2D at 0x7fa1762b4250>]"
      ]
     },
     "execution_count": 11,
     "metadata": {},
     "output_type": "execute_result"
    },
    {
     "data": {
      "image/png": "[encoded data removed]",
      "text/plain": [
       "<Figure size 432x288 with 1 Axes>"
      ]
     },
     "metadata": {},
     "output_type": "display_data"
    }
   ],
   "source": [
    "####wp: Comparing the component variance for the hard disk and ideal gas system\n",
    "import matplotlib.pyplot as plt\n",
    "import numpy as np\n",
    "\n",
    "plt.plot(incpca.explained_variance_ratio_,marker='o')\n",
    "plt.plot(incpca_ig.explained_variance_ratio_,marker='^')\n",
    "\n",
    "#plt.ylim(-0.1,0.1)\n"
   ]
  },
  {
   "cell_type": "markdown",
   "metadata": {},
   "source": [
    "### Explained variance"
   ]
  },
  {
   "cell_type": "code",
   "execution_count": 15,
   "metadata": {},
   "outputs": [
    {
     "data": {
      "image/png": "[encoded data removed]",
      "text/plain": [
       "<Figure size 864x576 with 1 Axes>"
      ]
     },
     "metadata": {},
     "output_type": "display_data"
    }
   ],
   "source": [
    "#plot the principal components\n",
    "colors = 200*['green', 'purple', 'orange', 'teal', 'black', 'red']\n",
    "\n",
    "#plt.plot(incpca.explained_variance_ratio_, marker='o', linewidth=1.0, markersize=12, color = 'red', markerfacecolor='None') \n",
    "plt.plot(incpca.explained_variance_ratio_, marker='o', markersize=10) \n",
    "\n",
    "\n",
    "#backround grid details\n",
    "axes = plt.gca()\n",
    "#axes.grid(b = True, which = 'both', axis = 'both', color = 'gray', linestyle = '-', alpha = 0.5, linewidth = 0.5) \n",
    "#axes.set_axis_bgcolor('white')  \n",
    "\n",
    "#font scpecifications\n",
    "title_font = {'family' : 'arial', 'color'  : 'black', 'weight' : 'heavy','size': 20}\n",
    "axis_label_font = {'family' : 'arial', 'color'  : 'black', 'weight' : 'normal','size': 20}                                                   \n",
    "\n",
    "#figure size and tick style\n",
    "plt.rcParams[\"figure.figsize\"] = [12,8]\n",
    "plt.rc('axes',edgecolor='black',linewidth=1)\n",
    "plt.tick_params(which='both', axis='both', color='black', length=4, width=0.5)\n",
    "plt.rcParams['xtick.direction'] = 'in'\n",
    "plt.rcParams['ytick.direction'] = 'in'\n",
    "plt.minorticks_on()\n",
    "\n",
    "#plt.yscale('log')\n",
    "#!!!wp: Why eta? \n",
    "plt.xlabel(r'k', y=3, fontsize=40, fontdict = axis_label_font)\n",
    "plt.ylabel(r'$\\lambda_k$', fontsize=40, fontdict = axis_label_font)\n",
    "plt.xlim([-0.5,30.5]); plt.ylim([1e-3/2,1]);\n",
    "plt.yscale('log')\n",
    "\n",
    "#title and axis labels\n",
    "plt.tick_params(axis='both', labelsize=45)\n",
    "#plt.title('Explained variance for principal components', y=1.05, fontdict = title_font)\n",
    "\n",
    "#saves\n",
    "plt.tight_layout()\n",
    "plt.savefig('figures/OP_variance_4_3N.svg')\n",
    "plt.show()"
   ]
  },
  {
   "cell_type": "markdown",
   "metadata": {},
   "source": [
    "### Principal component weights"
   ]
  },
  {
   "cell_type": "code",
   "execution_count": 16,
   "metadata": {},
   "outputs": [],
   "source": [
    "from numpy import dot\n",
    "components = dot(incpca.components_, incpca_ig.components_)\n",
    "components_ig = incpca_ig.components_\n",
    "#components = incpca.components_"
   ]
  },
  {
   "cell_type": "code",
   "execution_count": 18,
   "metadata": {},
   "outputs": [
    {
     "data": {
      "image/png": "[encoded data removed]",
      "text/plain": [
       "<Figure size 864x576 with 1 Axes>"
      ]
     },
     "metadata": {},
     "output_type": "display_data"
    }
   ],
   "source": [
    "#plot the principal components\n",
    "#colors = 200*['green', 'purple', 'orange', 'teal', 'black', 'red']\n",
    "for i in range(0,1):\n",
    "    p_data = -components[i]\n",
    "    #plt.plot(range(len(p_data)), p_data, marker='o', linewidth = 1.0, markersize=5, color = colors[i])\n",
    "    plt.plot(range(len(p_data)), p_data, marker='o', linewidth = 1.0, markersize=10)\n",
    "    #p_data = components_ig[i]\n",
    "    #plt.plot(range(len(p_data)), p_data, marker='^', linewidth = 1.0, markersize=5, color = colors[i])  \n",
    "  \n",
    "\n",
    "#backround grid details\n",
    "axes = plt.gca()\n",
    "#axes.grid(b = True, which = 'both', axis = 'both', color = 'gray', linestyle = '-', alpha = 0.5, linewidth = 0.5) \n",
    "#axes.set_axis_bgcolor('white')  \n",
    "\n",
    "#font scpecifications\n",
    "title_font = {'family' : 'arial', 'color'  : 'black', 'weight' : 'heavy','size': 20}\n",
    "axis_label_font = {'family' : 'arial', 'color'  : 'black', 'weight' : 'normal','size': 20}                                                   \n",
    "\n",
    "#figure size and tick style\n",
    "plt.rcParams[\"figure.figsize\"] = [12,8]\n",
    "plt.rc('axes',edgecolor='black',linewidth=1)\n",
    "plt.tick_params(which='both', axis='both', color='black', length=4, width=0.5)\n",
    "plt.rcParams['xtick.direction'] = 'in'\n",
    "plt.rcParams['ytick.direction'] = 'in'\n",
    "#plt.xlim([0,40])\n",
    "\n",
    "#plt.yscale('log')\n",
    "plt.xlabel(r'$j$', y=3, fontsize=40, fontdict = axis_label_font)\n",
    "plt.ylabel(r'$\\mathbf{w_1^{(0)}}$', fontsize=40, fontdict = axis_label_font)\n",
    "\n",
    "#title and axis labels\n",
    "plt.tick_params(axis='both', labelsize=45)\n",
    "#plt.title('PCA feature weights', y=1.05, fontdict = title_font)\n",
    "\n",
    "#save figure\n",
    "fig=plt.figure(1)\n",
    "plt.tight_layout()\n",
    "plt.savefig('figures/OP_orientation_kappa_4_weights.svg',dpi=fig.dpi)\n",
    "plt.show()\n"
   ]
  },
  {
   "cell_type": "markdown",
   "metadata": {},
   "source": [
    "### Order parameters"
   ]
  },
  {
   "cell_type": "code",
   "execution_count": 21,
   "metadata": {},
   "outputs": [
    {
     "data": {
      "image/png": "[encoded data removed]",
      "text/plain": [
       "<Figure size 432x432 with 1 Axes>"
      ]
     },
     "metadata": {},
     "output_type": "display_data"
    }
   ],
   "source": [
    "#plot the principal components\n",
    "colors = 200*['green', 'purple', 'orange', 'teal', 'black', 'red']\n",
    "for i in range(0,1): #12,13\n",
    "    #p_data = (OPs[:,i]-OPs[0,i])/max(OPs[:,i]-OPs[0,i])\n",
    "    #p_data = -OPs[:,i]\n",
    "    #plt.plot(etas, (p_data), marker='o', linewidth = 1.0, markersize=10, color = colors[i], markerfacecolor='None')\n",
    "    p_data = OPs_std[:,i]/max(OPs_std[:,i])\n",
    "    #plt.plot(etas, (p_data), marker='^', linewidth = 1.0, markersize=12, color = colors[i])\n",
    "    #p_data = OPs_abs[:,i]\n",
    "    plt.plot(etas, (p_data), marker='.', linewidth = 1.0, markersize=10, color = colors[i])\n",
    "\n",
    "#backround grid details\n",
    "axes = plt.gca()\n",
    "axes.grid(b = True, which = 'both', axis = 'both', color = 'gray', linestyle = '-', alpha = 0.5, linewidth = 0.5) \n",
    "\n",
    "\n",
    "#figure size and tick style\n",
    "plt.rcParams[\"figure.figsize\"] = [6,6]\n",
    "plt.rc('axes',edgecolor='black',linewidth=1)\n",
    "plt.tick_params(which='both', axis='both', color='black', length=4, width=0.5)\n",
    "plt.rcParams['xtick.direction'] = 'in'\n",
    "plt.rcParams['ytick.direction'] = 'in'\n",
    "\n",
    "#axis range and labels (also specify if log or not)\n",
    "#plt.xlim(0.60, 0.84)\n",
    "\n",
    "#plt.yscale('log')\n",
    "plt.xlabel(r'$\\eta$', y=3, fontsize=20, fontdict = axis_label_font)\n",
    "plt.ylabel(r'$\\langle P_{i} \\rangle$ and $\\langle |P_{i}| \\rangle$', fontsize=20, fontdict = axis_label_font)\n",
    "\n",
    "#title and axis labels\n",
    "plt.tick_params(axis='both', labelsize=20)\n",
    "plt.title('PCA ellipsoids', y=1.05, fontdict = title_font)\n",
    "\n",
    "#save figure\n",
    "fig=plt.figure(1)\n",
    "plt.tight_layout()\n",
    "#plt.savefig('figures/OP_orientation_batch_kappa_4_ave_std.svg',dpi=fig.dpi)\n",
    "\n",
    "plt.show()"
   ]
  },
  {
   "cell_type": "markdown",
   "metadata": {},
   "source": [
    "### Save OPs"
   ]
  },
  {
   "cell_type": "code",
   "execution_count": 22,
   "metadata": {},
   "outputs": [],
   "source": [
    "#Append eta ranges\n",
    "etas2=etas.reshape(etas.shape[0],1)\n",
    "\n",
    "#etas2=etas[...,None] #wp: works just as fine\n",
    "OPsave=np.concatenate((etas2,-OPs),1)\n",
    "\n",
    "#save to txt file\n",
    "np.savetxt('OPs_kappa4_30k_300_3N.dat',OPsave)\n",
    "np.savetxt('OPs_kappa4_30k_300_std_3N.dat',OPs_std)"
   ]
  },
  {
   "cell_type": "code",
   "execution_count": null,
   "metadata": {},
   "outputs": [],
   "source": []
  }
 ],
 "metadata": {
  "kernelspec": {
   "display_name": "Python 2",
   "language": "python",
   "name": "python2"
  },
  "language_info": {
   "codemirror_mode": {
    "name": "ipython",
    "version": 2
   },
   "file_extension": ".py",
   "mimetype": "text/x-python",
   "name": "python",
   "nbconvert_exporter": "python",
   "pygments_lexer": "ipython2",
   "version": "2.7.14"
  }
 },
 "nbformat": 4,
 "nbformat_minor": 2
}
