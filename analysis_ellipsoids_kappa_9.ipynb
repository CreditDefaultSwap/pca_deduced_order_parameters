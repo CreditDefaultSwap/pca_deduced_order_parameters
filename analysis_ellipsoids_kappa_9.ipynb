{
 "cells": [
  {
   "cell_type": "markdown",
   "metadata": {},
   "source": [
    "# Principal components analysis for order parameter construction"
   ]
  },
  {
   "cell_type": "code",
   "execution_count": 1,
   "metadata": {},
   "outputs": [],
   "source": [
    "from analysis_tools.read_gsd import ReadGSD\n",
    "from analysis_tools.feature_creation import FrameToFeatures, TrajectoryToFeatures, TrajectoryToFeaturesBatch, TrajectoryToFeaturesBatchR\n",
    "from analysis_tools.feature_creation import FrameToFeaturesComposition, TrajectoryToFeaturesComposition\n",
    "from IPython.display import clear_output"
   ]
  },
  {
   "cell_type": "markdown",
   "metadata": {},
   "source": [
    "---"
   ]
  },
  {
   "cell_type": "markdown",
   "metadata": {},
   "source": [
    "## Models"
   ]
  },
  {
   "cell_type": "code",
   "execution_count": 2,
   "metadata": {},
   "outputs": [],
   "source": [
    "from numpy import array, arange, floor, floor"
   ]
  },
  {
   "cell_type": "markdown",
   "metadata": {},
   "source": [
    "### Model data"
   ]
  },
  {
   "cell_type": "markdown",
   "metadata": {},
   "source": [
    "#### Hard disks"
   ]
  },
  {
   "cell_type": "code",
   "execution_count": 3,
   "metadata": {},
   "outputs": [],
   "source": [
    "###Kappa=9\n",
    "particle_inc = 104 #skip this many particles in generating features; #wp: because it selects index 0 be default, rounds up to integer if not a mulptiple of Ntot\n",
    "N_nn = 3120 #number of nearest nighbors for pca analysis #wp:Should not be bigger than Ntotal\n",
    "nn_inc = 10 #reduces the number of nearest neighbors to include as features\n",
    "split = 2 #chunks the data up so it can be processed by the pca tool if really large\n",
    "N_batch=1\n",
    "frame_skip=4\n",
    "\n",
    "#method = ['distance']\n",
    "method = ['orientation']"
   ]
  },
  {
   "cell_type": "code",
   "execution_count": 4,
   "metadata": {},
   "outputs": [],
   "source": [
    "#specify what data to read in and process\n",
    "#wp:there are 51 eta points given range below\n",
    "folder='ellipsoids/kappa_9.0_3N'; \n",
    "#file_data = [(arange(0.3100, 0.9000, 0.01), folder)]\n",
    "file_data = [(arange(0.3100, 0.4300, 0.01), folder),\n",
    "             (arange(0.4350, 0.4650, 0.005), folder),\n",
    "             (arange(0.4700, 0.9001, 0.01), folder)            \n",
    "            ]"
   ]
  },
  {
   "cell_type": "markdown",
   "metadata": {},
   "source": [
    "### Density range"
   ]
  },
  {
   "cell_type": "code",
   "execution_count": 5,
   "metadata": {},
   "outputs": [],
   "source": [
    "#wp: the `_' variable is a dummy return variable like `~' in matlab\n",
    "#wp: Here, the for loop returns two arguments but only keeps the first that contains all the numbers\n",
    "etas = []\n",
    "[etas.extend(etas_) for etas_, _ in file_data]\n",
    "etas = array(etas)\n",
    "#print(etas)"
   ]
  },
  {
   "cell_type": "markdown",
   "metadata": {
    "collapsed": true
   },
   "source": [
    "---"
   ]
  },
  {
   "cell_type": "markdown",
   "metadata": {},
   "source": [
    "## Perfom PCA"
   ]
  },
  {
   "cell_type": "code",
   "execution_count": 6,
   "metadata": {},
   "outputs": [],
   "source": [
    "from numpy import array_split\n",
    "from sklearn.decomposition import IncrementalPCA"
   ]
  },
  {
   "cell_type": "markdown",
   "metadata": {},
   "source": [
    "### Train on ideal gas structure first to identify trivial variance contributions"
   ]
  },
  {
   "cell_type": "code",
   "execution_count": 7,
   "metadata": {},
   "outputs": [],
   "source": [
    "#n_components_ig = N_nn/nn_inc-1  #for this the more the better, however, 50 is probably enough\n",
    "n_components_ig = N_batch*N_nn/nn_inc  #for this the more the better, however, 50 is probably enough\n",
    "#n_components_ig = N_nn/nn_inc*(N_batch+2) #for this the more the better, however, 50 is probably enough\n",
    "#print n_components_ig"
   ]
  },
  {
   "cell_type": "code",
   "execution_count": 8,
   "metadata": {},
   "outputs": [],
   "source": [
    "from analysis_tools.feature_creation import FrameToFeatures, TrajectoryToFeatures\n",
    "\n",
    "###wp: Ideal gas pca structure\n",
    "incpca_ig = IncrementalPCA(n_components=n_components_ig, whiten=True)  #NOTICE: whitening is on here\n",
    "\n",
    "frames = None\n",
    "features = None\n",
    "split_features = None\n",
    "#split=1\n",
    "\n",
    "#features_partial_ig=[];\n",
    "\n",
    "for etas_, file_base in file_data:\n",
    "    for eta in etas_:\n",
    "        print 'eta={}'.format(eta)\n",
    "        filename = \"{}/trajectory_{:.4f}.gsd\".format(file_base, eta)\n",
    "        frames = ReadGSD(filename, shuffle_data=True, randomize=True)        \n",
    "        #print frames[0]['orientation'][0:5]\n",
    "        \n",
    "        frames_split = array_split(frames, split)\n",
    "        \n",
    "        #frames = None\n",
    "        count = 0\n",
    "        \n",
    "        for frames_partial in frames_split:\n",
    "        #for frames_partial in frames_split[0:-1:2]:\n",
    "            #features_partial = TrajectoryToFeatures(frames_partial, N_nn=N_nn, method=method, \n",
    "            #                                        particle_inc=particle_inc, nn_inc=nn_inc)\n",
    "            #wp: Rather than using all frames by default, allow setting to skip some\n",
    "            \n",
    "            #if eta > 0.8200:\n",
    "            #    N_nni=N_nn2; particle_inci=particle_inc2; nn_inci=nn_inc2;\n",
    "            #else:\n",
    "            N_nni=N_nn; particle_inci=particle_inc; nn_inci=nn_inc;\n",
    "                \n",
    "            frames_partial=frames_partial[::frame_skip]\n",
    "        \n",
    "            features_partial = TrajectoryToFeaturesBatch(frames_partial, N_nn=N_nni, method=method, \n",
    "                                                         particle_inc=particle_inci, nn_inc=nn_inci,N_batch=N_batch)\n",
    "            \n",
    "            #features_partial = TrajectoryToFeaturesBatchR(frames_partial, N_nn=N_nni, method=method, \n",
    "             #                                            particle_inc=particle_inci, nn_inc=nn_inci,N_batch=N_batch)\n",
    "\n",
    "\n",
    "            \n",
    "            print features_partial.shape\n",
    "            incpca_ig.partial_fit(features_partial)\n",
    "            count = count + 1\n",
    "            print count\n",
    "            \n",
    "        clear_output()\n",
    "        frames_split = None\n",
    "        #features_partial_ig.append(features_partial)\n",
    "        "
   ]
  },
  {
   "cell_type": "markdown",
   "metadata": {},
   "source": [
    "### Train on actual data with trivial data variance removed by the ideal gas model"
   ]
  },
  {
   "cell_type": "code",
   "execution_count": 8,
   "metadata": {},
   "outputs": [],
   "source": [
    "#n_components = N_nn/nn_inc-1 #this number will not affect the quality of the result just the computation time and amount of info returned\n",
    "n_components = N_batch*N_nn/nn_inc  #for this the more the better, however, 50 is probably enough\n",
    "#n_components = 2*N_nn/nn_inc  #for this the more the better, however, 50 is probably enough\n",
    "#n_components = N_nn/nn_inc*(N_batch+2) #for this the more the better, however, 50 is probably enough"
   ]
  },
  {
   "cell_type": "code",
   "execution_count": 10,
   "metadata": {},
   "outputs": [],
   "source": [
    "incpca = IncrementalPCA(n_components=n_components , whiten=False)  #NOTE: not whitening here\n",
    "\n",
    "frames = None\n",
    "features = None\n",
    "split_features = None\n",
    "#split=1\n",
    "features_partial_ellipse=[]\n",
    "\n",
    "for etas_, file_base in file_data:\n",
    "    for eta in etas_:\n",
    "        print 'eta={}'.format(eta)\n",
    "        filename = \"{}/trajectory_{:.4f}.gsd\".format(file_base, eta)\n",
    "        frames = ReadGSD(filename, shuffle_data=True, randomize=False)\n",
    "        \n",
    "        frames_split = array_split(frames, split)\n",
    "        frames = None\n",
    "        count = 0\n",
    "        for frames_partial in frames_split:\n",
    "            #features_partial = TrajectoryToFeatures(frames_partial, \n",
    "            #                                        N_nn=N_nn, \n",
    "            #                                        method=method, \n",
    "            #                                        particle_inc=particle_inc, \n",
    "            #                                        nn_inc=nn_inc)\n",
    "            \n",
    "\n",
    "            #if eta > 0.8200:\n",
    "            #    N_nni=N_nn2; particle_inci=particle_inc2; nn_inci=nn_inc2;\n",
    "            #else:\n",
    "            N_nni=N_nn; particle_inci=particle_inc; nn_inci=nn_inc;\n",
    "                \n",
    "            frames_partial=frames_partial[::frame_skip]\n",
    "               \n",
    "            features_partial = TrajectoryToFeaturesBatch(frames_partial, N_nn=N_nni, method=method, \n",
    "                                                         particle_inc=particle_inci, nn_inc=nn_inci,N_batch=N_batch)\n",
    "            \n",
    "            #wp:project *hard disk* features onto ig eigenvectors\n",
    "            incpca.partial_fit(incpca_ig.transform(features_partial))\n",
    "            #count = count + 1\n",
    "            #print count\n",
    "        clear_output()\n",
    "        frames_split = None\n",
    "        #features_partial_ellipse.append(features_partial)"
   ]
  },
  {
   "cell_type": "markdown",
   "metadata": {},
   "source": [
    "### System train without ideal gas correction"
   ]
  },
  {
   "cell_type": "code",
   "execution_count": 30,
   "metadata": {},
   "outputs": [],
   "source": [
    "########wp: System fit *without ideal gas*\n",
    "incpca = IncrementalPCA(n_components=n_components , whiten=False)\n",
    "\n",
    "frames = None\n",
    "features = None\n",
    "split_features = None\n",
    "\n",
    "split=1\n",
    "for etas_, file_base in file_data:\n",
    "    for eta in etas_:\n",
    "        print 'eta={}'.format(eta)\n",
    "        filename = \"{}/trajectory_{:.4f}.gsd\".format(file_base, eta)\n",
    "        frames = ReadGSD(filename, shuffle_data=True, randomize=False)\n",
    "        \n",
    "        frames_split = array_split(frames, split)\n",
    "        frames = None\n",
    "        count = 0\n",
    "        for frames_partial in frames_split:\n",
    "            #features_partial = TrajectoryToFeatures(frames_partial, \n",
    "            #                                        N_nn=N_nn, \n",
    "            #                                        method=method, \n",
    "            #                                        particle_inc=particle_inc, \n",
    "            #                                        nn_inc=nn_inc)\n",
    "            \n",
    "            frames_partial=frames_partial[::frame_skip]\n",
    "            features_partial = TrajectoryToFeaturesBatchR(frames_partial, \n",
    "                                                    N_nn=N_nn, \n",
    "                                                   method=method, \n",
    "                                                    particle_inc=particle_inc, \n",
    "                                                    nn_inc=nn_inc,N_batch=N_batch)\n",
    "            \n",
    "            #wp: fits pure system features (no idea gas reduction)\n",
    "            incpca.partial_fit(features_partial)\n",
    "            count = count + 1\n",
    "            print \"Frame split: \", count\n",
    "        #wp:resets frame split\n",
    "        clear_output()\n",
    "        frames_split = None"
   ]
  },
  {
   "cell_type": "markdown",
   "metadata": {},
   "source": [
    "# Saving trained models to files and reloading "
   ]
  },
  {
   "cell_type": "markdown",
   "metadata": {},
   "source": [
    "### Saves trained model to avoid retraining every time as well as memory issues"
   ]
  },
  {
   "cell_type": "code",
   "execution_count": 11,
   "metadata": {},
   "outputs": [
    {
     "data": {
      "text/plain": [
       "['trained_models/kappa_9.0.pca']"
      ]
     },
     "execution_count": 11,
     "metadata": {},
     "output_type": "execute_result"
    }
   ],
   "source": [
    "from sklearn.externals import joblib\n",
    "folder_model='trained_models'\n",
    "model_ig=folder_model+'/kappa_9.0_ig.pca'; model=folder_model+'/kappa_9.0.pca';\n",
    "#wp: Saves model as file\n",
    "#ideal gas trained model\n",
    "joblib.dump(incpca_ig,model_ig)\n",
    "#full trained model\n",
    "joblib.dump(incpca,model)"
   ]
  },
  {
   "cell_type": "markdown",
   "metadata": {},
   "source": [
    "### Loads saved models"
   ]
  },
  {
   "cell_type": "code",
   "execution_count": 9,
   "metadata": {},
   "outputs": [],
   "source": [
    "from sklearn.externals import joblib\n",
    "#paths to where models are located\n",
    "folder_model='trained_models'\n",
    "model_ig=folder_model+'/kappa_9.0_ig.pca'; \n",
    "model=folder_model+'/kappa_9.0.pca';\n",
    "\n",
    "incpca_ig=joblib.load(model_ig);\n",
    "incpca=joblib.load(model);"
   ]
  },
  {
   "cell_type": "markdown",
   "metadata": {},
   "source": [
    "# Fitting of models and analysis"
   ]
  },
  {
   "cell_type": "markdown",
   "metadata": {},
   "source": [
    "### Compute the order parameters based on two nested models"
   ]
  },
  {
   "cell_type": "code",
   "execution_count": 10,
   "metadata": {},
   "outputs": [],
   "source": [
    "frames = None\n",
    "features = None\n",
    "raw_OPs = []\n",
    "#split=1\n",
    "\n",
    "for etas_, file_base in file_data:\n",
    "    for eta in etas_:\n",
    "        print 'eta={}'.format(eta)\n",
    "        filename = \"{}/trajectory_{:.4f}.gsd\".format(file_base, eta)\n",
    "        #wp: randomize undefined here?\n",
    "        frames = ReadGSD(filename, shuffle_data=True, randomize=False)\n",
    "        \n",
    "        frames_split = array_split(frames, split)\n",
    "        frames = None\n",
    "        count = 0\n",
    "        means = []\n",
    "        raw_OPs_single = []\n",
    "        for frames_partial in frames_split:\n",
    "            #features_partial = TrajectoryToFeatures(frames_partial, \n",
    "            #                                        N_nn=N_nn, \n",
    "            #                                        method=method, \n",
    "            #                                        particle_inc=particle_inc,            \n",
    "            #                                       nn_inc=nn_inc)\n",
    "            \n",
    "            N_nni=N_nn; particle_inci=particle_inc; nn_inci=nn_inc;\n",
    "                \n",
    "            frames_partial=frames_partial[::frame_skip]\n",
    "            #frames_partial=frames_partial[0:50]\n",
    "        \n",
    "            features_partial = TrajectoryToFeaturesBatch(frames_partial, N_nn=N_nni, method=method, \n",
    "                                                         particle_inc=particle_inci, nn_inc=nn_inci,N_batch=N_batch)\n",
    "            \n",
    "            #wp: This returns the 'Z=X*U' matrix with mxn dimensions, where m=samples and n=feature vectors\n",
    "            transformed_features_partial = incpca.transform(incpca_ig.transform(features_partial))\n",
    "            #transformed_features_partial = incpca_ig.transform(features_partial)\n",
    "            #wp:No ideal gas correction\n",
    "            #transformed_features_partial = incpca.transform(features_partial)\n",
    "            raw_OPs_single.append(transformed_features_partial)\n",
    "            #count = count + 1\n",
    "            #print count\n",
    "        clear_output()\n",
    "        raw_OPs.append(raw_OPs_single)  "
   ]
  },
  {
   "cell_type": "markdown",
   "metadata": {},
   "source": [
    "### Compute order parameter stats"
   ]
  },
  {
   "cell_type": "code",
   "execution_count": 11,
   "metadata": {},
   "outputs": [],
   "source": [
    "from numpy import array, mean, std, abs, asarray"
   ]
  },
  {
   "cell_type": "code",
   "execution_count": 12,
   "metadata": {},
   "outputs": [],
   "source": [
    "OPs = []\n",
    "OPs_std = []\n",
    "OPs_abs = []\n",
    "\n",
    "for single_eta in raw_OPs:\n",
    "    merged_data = []\n",
    "    \n",
    "    #wp: here single_eta is just the feature vector of samples; the for loop below extracts it as array 'split'\n",
    "    for split_eta in single_eta:\n",
    "        merged_data.extend(split_eta)\n",
    "\n",
    "    #wp: averages over all samples m\n",
    "    OPs.append(mean((split_eta), axis=0))\n",
    "    OPs_std.append(std(split_eta, axis=0))\n",
    "    OPs_abs.append(mean(abs(split_eta), axis=0))\n",
    "\n",
    "OPs = array(OPs)\n",
    "OPs_std = array(OPs_std)\n",
    "OPs_abs = array(OPs_abs)"
   ]
  },
  {
   "cell_type": "code",
   "execution_count": 13,
   "metadata": {},
   "outputs": [
    {
     "name": "stdout",
     "output_type": "stream",
     "text": [
      "The feature matrix input for each eta is of dimensions 15000 312\n",
      "Number of rows:  63\n",
      "Array size for each eta:  (15000, 312)\n",
      "[-1.47287654e+01 -1.31125787e+00  2.78582815e-03 -1.34386247e+00\n",
      "  2.16875182e-01  1.67629723e+00  6.49059893e-01 -2.08129230e+00\n",
      "  2.02065722e+00 -3.35130799e-01  5.29325068e-01 -1.69646773e-01\n",
      "  1.35520610e-01  6.89021354e-01 -7.40861877e-03  1.50262997e+00\n",
      " -1.05664024e+00 -1.75329549e+00  2.20237448e-01 -1.23051116e+00\n",
      " -1.06423212e+00  1.58033450e+00  5.56026186e-01 -1.73666184e-01\n",
      "  1.16371352e+00 -1.78719437e-01 -5.70496843e-01  6.05475090e-01\n",
      "  1.73556935e-01  1.52209752e-01 -1.21442931e+00  7.05307500e-01\n",
      "  1.75894276e+00  1.98821961e+00  3.56085503e-01  1.15452109e+00\n",
      "  1.28047813e+00  1.28295950e+00 -2.07658402e+00 -5.42048995e-01\n",
      " -2.18863502e+00 -1.36472943e+00  1.21965523e+00 -1.83505309e+00\n",
      " -4.70673863e-01  9.72524464e-01 -8.36309711e-02 -2.12231224e-01\n",
      " -2.13209358e-01  3.89823130e-01  1.91076942e+00 -3.71174900e-01\n",
      " -9.32576108e-01  4.82509163e-01  2.50286937e-01  7.65097973e-01\n",
      " -1.14849338e+00 -1.72292397e+00  9.28800493e-01 -1.44833871e+00\n",
      " -1.87777713e+00 -6.62015610e-01  1.03233251e+00  1.33559297e+00\n",
      "  6.81563730e-01  7.09982295e-01 -3.70108232e-01  1.88848908e-03\n",
      " -9.87379838e-02  6.39680677e-02 -1.77430051e-01 -5.85150472e-01\n",
      "  1.02064483e+00 -1.57055014e+00 -1.09037774e+00 -1.54066532e+00\n",
      "  4.78495457e-01 -1.07005170e+00 -1.26388436e+00 -9.89507238e-01\n",
      " -6.28808015e-01  7.57937387e-02  1.38719028e+00 -1.08383707e+00\n",
      " -9.00443910e-01  1.62681624e+00  2.18490967e+00  3.59361901e-01\n",
      "  1.67026263e+00 -1.99125959e-01 -2.96977875e-01  7.89026991e-01\n",
      " -1.82391808e+00 -1.07355647e+00 -2.19576949e-01 -1.73328086e+00\n",
      "  1.53559715e+00 -7.02694812e-01  7.12478849e-01  1.20384523e+00\n",
      "  3.01521680e-02 -1.64953086e+00  3.80658330e-01  7.61333054e-01\n",
      " -2.74879020e-01  1.22208774e+00 -3.00259078e-01  8.19075465e-01\n",
      " -4.34380305e-01 -8.67690832e-02  4.10633338e-01  6.81231994e-01\n",
      " -6.11444914e-01  1.84204900e+00 -1.77686073e+00  2.47232319e-03\n",
      "  2.30341760e+00 -2.26772162e-01 -8.73820424e-01  1.23282460e+00\n",
      "  1.96326375e+00 -1.29265015e+00 -1.59871559e+00 -1.23690067e+00\n",
      "  1.24145072e+00 -1.06310458e+00 -4.04760087e-01  5.71056263e-02\n",
      "  2.43330725e-01 -4.48220614e-01 -1.20693374e+00 -2.35230067e-01\n",
      " -2.03371017e-01  2.05153434e-01 -7.20008133e-01 -8.42405583e-01\n",
      "  3.83033629e-01  9.74085836e-01 -3.66955029e-01 -1.04513344e+00\n",
      "  2.28437550e-01  5.42104282e-01 -1.24670602e+00 -9.05892192e-01\n",
      "  4.74578757e-01  2.16500724e-01 -2.48365193e-01  4.52952869e-01\n",
      "  3.31679473e-01 -9.97873853e-01  1.68994495e-01  1.01239454e+00\n",
      "  9.08758676e-01  9.23383962e-01  8.58225548e-01  5.03835102e-01\n",
      "  3.46953113e-01 -3.62811565e-01 -1.04601456e+00 -1.79953328e+00\n",
      "  2.44194467e-01 -1.42295888e-01 -5.40663298e-01  2.97405118e-01\n",
      " -1.75081321e+00  6.09805749e-01 -1.55743334e-01 -2.11590392e-01\n",
      " -1.22459479e+00  1.18828483e+00  2.16340264e+00  2.10183288e+00\n",
      " -4.64970243e-01 -1.62076705e+00 -3.03617215e-01 -3.16304478e+00\n",
      " -4.87720374e-02 -2.30109531e-01 -1.33879637e-01 -1.17015666e+00\n",
      " -1.80445909e+00  1.08169208e-01  9.30487314e-01  8.39111907e-01\n",
      " -1.53723177e+00  9.48127609e-01  1.35942362e+00  6.87724729e-01\n",
      "  1.87774596e+00 -2.20142196e-01 -4.80139076e-01  6.10135796e-01\n",
      " -8.75995202e-01  7.23474260e-01 -5.84814984e-02 -1.94735489e+00\n",
      " -1.13078712e+00 -1.12811478e+00  1.20558868e+00  2.65225144e-01\n",
      " -1.72570542e+00 -5.51685131e-02 -3.73849891e-01  3.62427986e-01\n",
      " -5.19940580e-01  4.90875825e-01 -1.31367219e+00 -4.30338413e-01\n",
      " -1.57989885e+00  5.23750769e-01 -9.75231780e-01  2.81590755e-01\n",
      " -8.14544596e-01  8.83712156e-01  2.07667706e-01  3.36358390e-02\n",
      " -5.49533217e-01  3.29933776e-02 -1.92259515e+00 -9.50157618e-01\n",
      " -3.48889290e-01  1.50745808e+00 -1.70350795e+00 -1.24175766e+00\n",
      " -8.22614261e-01  3.99763320e-01 -2.27475991e-01 -6.45016591e-01\n",
      "  3.92061860e-01 -2.20993225e-01 -1.03095947e+00  1.74769648e+00\n",
      " -1.31226469e+00  6.56954089e-01  7.08257897e-01  9.96983432e-01\n",
      "  4.04647649e-01  4.82712422e-01  1.49997690e+00  1.25525724e+00\n",
      " -1.56467988e-02  8.46149622e-03  2.24632725e-01 -9.62354669e-01\n",
      "  1.10148773e+00  9.83903566e-01 -6.17848662e-02 -6.31902128e-02\n",
      " -2.04758448e+00 -1.26541580e+00  1.42660873e+00 -5.18228362e-01\n",
      "  1.32183472e+00 -7.63912351e-01  1.67808328e+00 -1.77100028e+00\n",
      " -6.71956200e-01  1.43899142e+00  2.92869239e-01 -7.60221983e-01\n",
      "  6.64251116e-01 -8.60055918e-01  1.15188787e+00  1.22456849e+00\n",
      " -2.29408326e+00 -1.48173695e+00  4.28468026e-01 -6.02248399e-01\n",
      " -1.12698943e+00  4.59048823e-01  1.36691255e+00 -4.90073159e-01\n",
      " -1.91249633e-01  1.28364856e+00  1.12833312e+00  7.11942993e-01\n",
      "  1.22872250e-01  4.70902551e-01  3.68186676e-01  1.80967458e-01\n",
      " -8.87016077e-01  1.23184727e+00  3.49403959e-01 -1.34377808e+00\n",
      " -5.73585302e-01 -2.19529346e+00  7.77493140e-01 -5.62739496e-02\n",
      " -2.30741994e-01  1.32746377e+00  1.23802091e+00 -2.33417107e-01\n",
      "  2.10332541e-01 -1.48595606e-01 -1.75385444e+00  4.40432386e-01\n",
      " -1.13758455e+00 -1.84940447e+00  1.10276792e+00 -2.63928180e-01\n",
      "  6.67799957e-01  1.57582487e+00 -6.94686665e-01  1.45991412e-03\n",
      " -3.15390228e-01  1.32070116e+00  2.75383375e+00  4.32652978e-02\n",
      " -7.81355588e-01  2.33473912e-01  3.30703886e-01  1.05393510e-01]\n",
      "Shape of average order parameter (63, 312)\n"
     ]
    },
    {
     "ename": "NameError",
     "evalue": "name 'plt' is not defined",
     "output_type": "error",
     "traceback": [
      "\u001b[0;31m\u001b[0m",
      "\u001b[0;31mNameError\u001b[0mTraceback (most recent call last)",
      "\u001b[0;32m<ipython-input-13-c7c494c0fd0f>\u001b[0m in \u001b[0;36m<module>\u001b[0;34m()\u001b[0m\n\u001b[1;32m     20\u001b[0m \u001b[0;34m\u001b[0m\u001b[0m\n\u001b[1;32m     21\u001b[0m \u001b[0;32mfor\u001b[0m \u001b[0mi\u001b[0m \u001b[0;32min\u001b[0m \u001b[0mrange\u001b[0m\u001b[0;34m(\u001b[0m\u001b[0mlen\u001b[0m\u001b[0;34m(\u001b[0m\u001b[0mraw_OP_samples\u001b[0m\u001b[0;34m)\u001b[0m\u001b[0;34m)\u001b[0m\u001b[0;34m:\u001b[0m\u001b[0;34m\u001b[0m\u001b[0m\n\u001b[0;32m---> 22\u001b[0;31m     \u001b[0mplt\u001b[0m\u001b[0;34m.\u001b[0m\u001b[0mplot\u001b[0m\u001b[0;34m(\u001b[0m\u001b[0metas\u001b[0m\u001b[0;34m,\u001b[0m\u001b[0mraw_OP_samples\u001b[0m\u001b[0;34m[\u001b[0m\u001b[0mi\u001b[0m\u001b[0;34m]\u001b[0m\u001b[0;34m,\u001b[0m \u001b[0;34m'o-'\u001b[0m\u001b[0;34m)\u001b[0m\u001b[0;34m\u001b[0m\u001b[0m\n\u001b[0m",
      "\u001b[0;31mNameError\u001b[0m: name 'plt' is not defined"
     ]
    }
   ],
   "source": [
    "#wp:figuring things out...\n",
    "print \"The feature matrix input for each eta is of dimensions\",len(features_partial),len(features_partial[0])\n",
    "\n",
    "eta_index=0\n",
    "print \"Number of rows: \", len(raw_OPs)\n",
    "print \"Array size for each eta: \", raw_OPs[eta_index][0].shape\n",
    "print raw_OPs[eta_index][0][0]\n",
    "\n",
    "raw_OP_sample=[]\n",
    "raw_OP_samples=[]\n",
    "samplenum=20\n",
    "for mi in range(samplenum):\n",
    "    for eta_index in range(len(raw_OPs)):\n",
    "        raw_OP_sample.append(raw_OPs[eta_index][0][mi][0])\n",
    "    raw_OP_samples.append(asarray(raw_OP_sample))\n",
    "    raw_OP_sample=[]\n",
    "\n",
    "#wp: for the averaged value\n",
    "print \"Shape of average order parameter\", OPs.shape\n",
    "\n",
    "for i in range(len(raw_OP_samples)):\n",
    "    plt.plot(etas,raw_OP_samples[i], 'o-')"
   ]
  },
  {
   "cell_type": "markdown",
   "metadata": {
    "collapsed": true
   },
   "source": [
    "---"
   ]
  },
  {
   "cell_type": "markdown",
   "metadata": {
    "collapsed": true
   },
   "source": [
    "## Check out the results of PCA"
   ]
  },
  {
   "cell_type": "code",
   "execution_count": 14,
   "metadata": {},
   "outputs": [],
   "source": [
    "import matplotlib.pyplot as plt\n",
    "import numpy as np\n",
    "from random import randint"
   ]
  },
  {
   "cell_type": "code",
   "execution_count": 15,
   "metadata": {},
   "outputs": [
    {
     "data": {
      "text/plain": [
       "[<matplotlib.lines.Line2D at 0x7f36e4f5c050>]"
      ]
     },
     "execution_count": 15,
     "metadata": {},
     "output_type": "execute_result"
    },
    {
     "data": {
      "image/png": "[encoded data removed]",
      "text/plain": [
       "<Figure size 432x288 with 1 Axes>"
      ]
     },
     "metadata": {},
     "output_type": "display_data"
    }
   ],
   "source": [
    "####wp: Comparing the component variance for the hard disk and ideal gas system\n",
    "import matplotlib.pyplot as plt\n",
    "import numpy as np\n",
    "\n",
    "plt.plot(incpca.explained_variance_ratio_,marker='o')\n",
    "plt.plot(incpca_ig.explained_variance_ratio_,marker='^')\n",
    "\n",
    "#plt.ylim(-0.1,0.1)\n"
   ]
  },
  {
   "cell_type": "markdown",
   "metadata": {},
   "source": [
    "### Explained variance"
   ]
  },
  {
   "cell_type": "code",
   "execution_count": 16,
   "metadata": {},
   "outputs": [
    {
     "name": "stderr",
     "output_type": "stream",
     "text": [
      "/home/pineros/programs/local/miniconda2/lib/python2.7/site-packages/matplotlib/font_manager.py:1339: UserWarning: findfont: Font family [u'arial'] not found. Falling back to DejaVu Sans\n",
      "  (prop.get_family(), self.defaultFamily[fontext]))\n"
     ]
    },
    {
     "data": {
      "image/png": "[encoded data removed]",
      "text/plain": [
       "<Figure size 432x288 with 1 Axes>"
      ]
     },
     "metadata": {},
     "output_type": "display_data"
    }
   ],
   "source": [
    "#plot the principal components\n",
    "colors = 200*['green', 'purple', 'orange', 'teal', 'black', 'red']\n",
    "\n",
    "#plt.plot(incpca.explained_variance_ratio_, marker='o', linewidth=1.0, markersize=12, color = 'red', markerfacecolor='None') \n",
    "plt.plot(incpca.explained_variance_ratio_, marker='o', linewidth=1.0, markersize=5) \n",
    "\n",
    "\n",
    "#backround grid details\n",
    "axes = plt.gca()\n",
    "#axes.grid(b = True, which = 'both', axis = 'both', color = 'gray', linestyle = '-', alpha = 0.5, linewidth = 0.5) \n",
    "#axes.set_axis_bgcolor('white')  \n",
    "\n",
    "#font scpecifications\n",
    "title_font = {'family' : 'arial', 'color'  : 'black', 'weight' : 'heavy','size': 20}\n",
    "axis_label_font = {'family' : 'arial', 'color'  : 'black', 'weight' : 'normal','size': 20}                                                   \n",
    "\n",
    "#figure size and tick style\n",
    "plt.rcParams[\"figure.figsize\"] = [12,12]\n",
    "plt.rc('axes',edgecolor='black',linewidth=1)\n",
    "plt.tick_params(which='both', axis='both', color='black', length=4, width=0.5)\n",
    "plt.rcParams['xtick.direction'] = 'in'\n",
    "plt.rcParams['ytick.direction'] = 'in'\n",
    "\n",
    "#plt.yscale('log')\n",
    "#!!!wp: Why eta? #Shouldn't be features?\n",
    "plt.xlabel(r'component', y=3, fontsize=40, fontdict = axis_label_font)\n",
    "plt.ylabel(r'Explained variance', fontsize=40, fontdict = axis_label_font)\n",
    "\n",
    "#title and axis labels\n",
    "plt.tick_params(axis='both', labelsize=30)\n",
    "plt.tight_layout()\n",
    "#plt.title('Explained variance for principal components', y=1.05, fontdict = title_font)\n",
    "\n",
    "#saves\n",
    "#plt.savefig('figures/OP_variance_orientation_4_3N.svg')\n",
    "plt.show()"
   ]
  },
  {
   "cell_type": "markdown",
   "metadata": {},
   "source": [
    "### Principal component weights"
   ]
  },
  {
   "cell_type": "code",
   "execution_count": 17,
   "metadata": {},
   "outputs": [],
   "source": [
    "from numpy import dot\n",
    "components = dot(incpca.components_, incpca_ig.components_)\n",
    "components_ig = incpca_ig.components_\n",
    "#components = incpca.components_"
   ]
  },
  {
   "cell_type": "code",
   "execution_count": 18,
   "metadata": {},
   "outputs": [
    {
     "data": {
      "image/png": "[encoded data removed]",
      "text/plain": [
       "<Figure size 864x864 with 1 Axes>"
      ]
     },
     "metadata": {},
     "output_type": "display_data"
    }
   ],
   "source": [
    "#plot the principal components\n",
    "#colors = 200*['green', 'purple', 'orange', 'teal', 'black', 'red']\n",
    "for i in range(0,1):\n",
    "    p_data = components[i]\n",
    "    #plt.plot(range(len(p_data)), p_data, marker='o', linewidth = 1.0, markersize=5, color = colors[i])\n",
    "    plt.plot(range(len(p_data)), p_data, marker='o', linewidth = 1.0, markersize=5)\n",
    "    #p_data = components_ig[i]\n",
    "    #plt.plot(range(len(p_data)), p_data, marker='^', linewidth = 1.0, markersize=5, color = colors[i])  \n",
    "  \n",
    "\n",
    "#backround grid details\n",
    "axes = plt.gca()\n",
    "#axes.grid(b = True, which = 'both', axis = 'both', color = 'gray', linestyle = '-', alpha = 0.5, linewidth = 0.5) \n",
    "#axes.set_axis_bgcolor('white')  \n",
    "\n",
    "#font scpecifications\n",
    "title_font = {'family' : 'arial', 'color'  : 'black', 'weight' : 'heavy','size': 20}\n",
    "axis_label_font = {'family' : 'arial', 'color'  : 'black', 'weight' : 'normal','size': 20}                                                   \n",
    "\n",
    "#figure size and tick style\n",
    "plt.rcParams[\"figure.figsize\"] = [12,12]\n",
    "plt.rc('axes',edgecolor='black',linewidth=1)\n",
    "plt.tick_params(which='both', axis='both', color='black', length=4, width=0.5)\n",
    "plt.rcParams['xtick.direction'] = 'in'\n",
    "plt.rcParams['ytick.direction'] = 'in'\n",
    "\n",
    "\n",
    "#axis range and labels (also specify if log or not)\n",
    "#plt.xlim(0.1,100)\n",
    "\n",
    "#plt.yscale('log')\n",
    "plt.xlabel(r'$n$th component', y=3, fontsize=40, fontdict = axis_label_font)\n",
    "plt.ylabel(r'$P_{1}$ weight', fontsize=40, fontdict = axis_label_font)\n",
    "\n",
    "#title and axis labels\n",
    "plt.tick_params(axis='both', labelsize=25)\n",
    "#plt.title('PCA feature weights', y=1.05, fontdict = title_font)\n",
    "\n",
    "#save figure\n",
    "fig=plt.figure(1)\n",
    "plt.tight_layout()\n",
    "#plt.savefig('figures/OP_orientation_batch_kappa_4_weights.svg',dpi=fig.dpi)\n",
    "\n",
    "plt.show()"
   ]
  },
  {
   "cell_type": "markdown",
   "metadata": {},
   "source": [
    "### Order parameters"
   ]
  },
  {
   "cell_type": "code",
   "execution_count": 20,
   "metadata": {},
   "outputs": [
    {
     "data": {
      "image/png": "[encoded data removed]",
      "text/plain": [
       "<Figure size 864x576 with 1 Axes>"
      ]
     },
     "metadata": {},
     "output_type": "display_data"
    }
   ],
   "source": [
    "#plot the principal components\n",
    "colors = 200*['green', 'purple', 'orange', 'teal', 'black', 'red']\n",
    "for i in range(0,1): #12,13\n",
    "    #p_data = (OPs[:,i]-OPs[0,i])/max(OPs[:,i]-OPs[0,i])\n",
    "    p_data = OPs[:,i]\n",
    "    #plt.plot(etas, (p_data), marker='o', linewidth = 1.0, markersize=10, color = colors[i], markerfacecolor='None')\n",
    "    #p_data = OPs_std[:,i]/max(OPs_std[:,i])\n",
    "    #plt.plot(etas, (p_data), marker='^', linewidth = 1.0, markersize=12, color = colors[i])\n",
    "    #p_data = OPs_abs[:,i]\n",
    "    plt.plot(etas, (p_data), marker='.', linewidth = 1.0, markersize=10, color = colors[i])\n",
    "\n",
    "#backround grid details\n",
    "axes = plt.gca()\n",
    "axes.grid(b = True, which = 'both', axis = 'both', color = 'gray', linestyle = '-', alpha = 0.5, linewidth = 0.5) \n",
    "\n",
    "\n",
    "#figure size and tick style\n",
    "plt.rcParams[\"figure.figsize\"] = [12,8]\n",
    "plt.rc('axes',edgecolor='black',linewidth=1)\n",
    "plt.tick_params(which='both', axis='both', color='black', length=4, width=0.5)\n",
    "plt.rcParams['xtick.direction'] = 'in'\n",
    "plt.rcParams['ytick.direction'] = 'in'\n",
    "\n",
    "#axis range and labels (also specify if log or not)\n",
    "#plt.xlim(0.60, 0.84)\n",
    "\n",
    "#plt.yscale('log')\n",
    "plt.xlabel(r'$\\eta$', y=3, fontsize=20, fontdict = axis_label_font)\n",
    "plt.ylabel(r'$\\langle P_{i} \\rangle$ and $\\langle |P_{i}| \\rangle$', fontsize=20, fontdict = axis_label_font)\n",
    "\n",
    "#title and axis labels\n",
    "plt.tick_params(axis='both', labelsize=20)\n",
    "plt.title('PCA ellipsoids', y=1.05, fontdict = title_font)\n",
    "plt.minorticks_on()\n",
    "\n",
    "#save figure\n",
    "fig=plt.figure(1)\n",
    "plt.tight_layout()\n",
    "#plt.savefig('figures/OP_orientation_batch_kappa_4_ave_std.svg',dpi=fig.dpi)\n",
    "\n",
    "plt.show()"
   ]
  },
  {
   "cell_type": "markdown",
   "metadata": {},
   "source": [
    "### Save OPs"
   ]
  },
  {
   "cell_type": "code",
   "execution_count": 21,
   "metadata": {},
   "outputs": [],
   "source": [
    "#Append eta ranges\n",
    "etas2=etas.reshape(etas.shape[0],1)\n",
    "\n",
    "#etas2=etas[...,None] #wp: works just as fine\n",
    "OPsave=np.concatenate((etas2,OPs),1)\n",
    "\n",
    "#save to txt file\n",
    "np.savetxt('OPs_kappa9_30k_300_3N.dat',OPsave)\n",
    "np.savetxt('OPs_kappa9_30k_300_std_3N.dat',OPs_std)"
   ]
  },
  {
   "cell_type": "code",
   "execution_count": null,
   "metadata": {},
   "outputs": [],
   "source": []
  }
 ],
 "metadata": {
  "kernelspec": {
   "display_name": "Python 2",
   "language": "python",
   "name": "python2"
  },
  "language_info": {
   "codemirror_mode": {
    "name": "ipython",
    "version": 2
   },
   "file_extension": ".py",
   "mimetype": "text/x-python",
   "name": "python",
   "nbconvert_exporter": "python",
   "pygments_lexer": "ipython2",
   "version": "2.7.14"
  }
 },
 "nbformat": 4,
 "nbformat_minor": 2
}
