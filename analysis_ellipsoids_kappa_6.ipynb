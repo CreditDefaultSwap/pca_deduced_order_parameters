{
 "cells": [
  {
   "cell_type": "markdown",
   "metadata": {},
   "source": [
    "# Principal components analysis for order parameter construction"
   ]
  },
  {
   "cell_type": "code",
   "execution_count": 1,
   "metadata": {},
   "outputs": [],
   "source": [
    "from analysis_tools.read_gsd import ReadGSD\n",
    "from analysis_tools.feature_creation import FrameToFeatures, TrajectoryToFeatures, TrajectoryToFeaturesBatch, TrajectoryToFeaturesBatchR\n",
    "from analysis_tools.feature_creation import FrameToFeaturesComposition, TrajectoryToFeaturesComposition\n",
    "from IPython.display import clear_output"
   ]
  },
  {
   "cell_type": "markdown",
   "metadata": {},
   "source": [
    "---"
   ]
  },
  {
   "cell_type": "markdown",
   "metadata": {},
   "source": [
    "## Models"
   ]
  },
  {
   "cell_type": "code",
   "execution_count": 2,
   "metadata": {},
   "outputs": [],
   "source": [
    "from numpy import array, arange, floor, floor"
   ]
  },
  {
   "cell_type": "markdown",
   "metadata": {},
   "source": [
    "### Model data"
   ]
  },
  {
   "cell_type": "markdown",
   "metadata": {},
   "source": [
    "#### Hard disks"
   ]
  },
  {
   "cell_type": "code",
   "execution_count": 3,
   "metadata": {},
   "outputs": [],
   "source": [
    "###Kappa=6\n",
    "particle_inc = 100 #skip this many particles in generating features; #wp: because it selects index 0 be default, rounds up to integer if not a mulptiple of Ntot\n",
    "N_nn = 3000 #number of nearest nighbors for pca analysis #wp:Should not be bigger than Ntotal\n",
    "nn_inc = 10 #reduces the number of nearest neighbors to include as features\n",
    "split = 2 #chunks the data up so it can be processed by the pca tool if really large\n",
    "N_batch=1\n",
    "frame_skip=4\n",
    "\n",
    "#method = ['distance']\n",
    "method = ['orientation']"
   ]
  },
  {
   "cell_type": "code",
   "execution_count": 4,
   "metadata": {},
   "outputs": [],
   "source": [
    "#specify what data to read in and process\n",
    "#wp:there are 51 eta points given range below\n",
    "folder='ellipsoids/kappa_6.0_3N'; \n",
    "#file_data = [(arange(0.4600, 0.9000, 0.01), folder)] \n",
    "file_data = [(arange(0.4600, 0.5600, 0.01), folder),\n",
    "             (arange(0.5650, 0.5950, 0.005), folder),\n",
    "             (arange(0.6000, 0.9001, 0.01), folder)             \n",
    "            ]"
   ]
  },
  {
   "cell_type": "markdown",
   "metadata": {},
   "source": [
    "### Density range"
   ]
  },
  {
   "cell_type": "code",
   "execution_count": 5,
   "metadata": {},
   "outputs": [],
   "source": [
    "#wp: the `_' variable is a dummy return variable like `~' in matlab\n",
    "#wp: Here, the for loop returns two arguments but only keeps the first that contains all the numbers\n",
    "etas = []\n",
    "[etas.extend(etas_) for etas_, _ in file_data]\n",
    "etas = array(etas)\n",
    "#print(etas)"
   ]
  },
  {
   "cell_type": "markdown",
   "metadata": {
    "collapsed": true
   },
   "source": [
    "---"
   ]
  },
  {
   "cell_type": "markdown",
   "metadata": {},
   "source": [
    "## Perfom PCA"
   ]
  },
  {
   "cell_type": "code",
   "execution_count": 6,
   "metadata": {},
   "outputs": [],
   "source": [
    "from numpy import array_split\n",
    "from sklearn.decomposition import IncrementalPCA"
   ]
  },
  {
   "cell_type": "markdown",
   "metadata": {},
   "source": [
    "### Train on ideal gas structure first to identify trivial variance contributions"
   ]
  },
  {
   "cell_type": "code",
   "execution_count": 7,
   "metadata": {},
   "outputs": [],
   "source": [
    "#n_components_ig = N_nn/nn_inc-1  #for this the more the better, however, 50 is probably enough\n",
    "n_components_ig = N_batch*N_nn/nn_inc  #for this the more the better, however, 50 is probably enough\n",
    "#n_components_ig = N_nn/nn_inc*(N_batch+2) #for this the more the better, however, 50 is probably enough\n",
    "#print n_components_ig"
   ]
  },
  {
   "cell_type": "code",
   "execution_count": 10,
   "metadata": {},
   "outputs": [],
   "source": [
    "from analysis_tools.feature_creation import FrameToFeatures, TrajectoryToFeatures\n",
    "\n",
    "###wp: Ideal gas pca structure\n",
    "incpca_ig = IncrementalPCA(n_components=n_components_ig, whiten=True)  #NOTICE: whitening is on here\n",
    "\n",
    "frames = None\n",
    "features = None\n",
    "split_features = None\n",
    "#split=1\n",
    "\n",
    "#features_partial_ig=[];\n",
    "\n",
    "for etas_, file_base in file_data:\n",
    "    for eta in etas_:\n",
    "        print 'eta={}'.format(eta)\n",
    "        filename = \"{}/trajectory_{:.4f}.gsd\".format(file_base, eta)\n",
    "        frames = ReadGSD(filename, shuffle_data=True, randomize=True)        \n",
    "        #print frames[0]['orientation'][0:5]\n",
    "        \n",
    "        frames_split = array_split(frames, split)\n",
    "        \n",
    "        #frames = None\n",
    "        count = 0\n",
    "        \n",
    "        for frames_partial in frames_split:\n",
    "        #for frames_partial in frames_split[0:-1:2]:\n",
    "            #features_partial = TrajectoryToFeatures(frames_partial, N_nn=N_nn, method=method, \n",
    "            #                                        particle_inc=particle_inc, nn_inc=nn_inc)\n",
    "            #wp: Rather than using all frames by default, allow setting to skip some\n",
    "            \n",
    "            #if eta > 0.8200:\n",
    "            #    N_nni=N_nn2; particle_inci=particle_inc2; nn_inci=nn_inc2;\n",
    "            #else:\n",
    "            N_nni=N_nn; particle_inci=particle_inc; nn_inci=nn_inc;\n",
    "                \n",
    "            frames_partial=frames_partial[::frame_skip]\n",
    "        \n",
    "            features_partial = TrajectoryToFeaturesBatch(frames_partial, N_nn=N_nni, method=method, \n",
    "                                                         particle_inc=particle_inci, nn_inc=nn_inci,N_batch=N_batch)\n",
    "            \n",
    "            #features_partial = TrajectoryToFeaturesBatchR(frames_partial, N_nn=N_nni, method=method, \n",
    "             #                                            particle_inc=particle_inci, nn_inc=nn_inci,N_batch=N_batch)\n",
    "\n",
    "\n",
    "            \n",
    "            print features_partial.shape\n",
    "            incpca_ig.partial_fit(features_partial)\n",
    "            count = count + 1\n",
    "            print count\n",
    "            \n",
    "        clear_output()\n",
    "        frames_split = None\n",
    "        #features_partial_ig.append(features_partial)\n",
    "        "
   ]
  },
  {
   "cell_type": "markdown",
   "metadata": {},
   "source": [
    "### Train on actual data with trivial data variance removed by the ideal gas model"
   ]
  },
  {
   "cell_type": "code",
   "execution_count": 8,
   "metadata": {},
   "outputs": [],
   "source": [
    "#n_components = N_nn/nn_inc-1 #this number will not affect the quality of the result just the computation time and amount of info returned\n",
    "n_components = N_batch*N_nn/nn_inc  #for this the more the better, however, 50 is probably enough\n",
    "#n_components = 2*N_nn/nn_inc  #for this the more the better, however, 50 is probably enough\n",
    "#n_components = N_nn/nn_inc*(N_batch+2) #for this the more the better, however, 50 is probably enough"
   ]
  },
  {
   "cell_type": "code",
   "execution_count": 12,
   "metadata": {},
   "outputs": [],
   "source": [
    "incpca = IncrementalPCA(n_components=n_components , whiten=False)  #NOTE: not whitening here\n",
    "\n",
    "frames = None\n",
    "features = None\n",
    "split_features = None\n",
    "#split=1\n",
    "features_partial_ellipse=[]\n",
    "\n",
    "for etas_, file_base in file_data:\n",
    "    for eta in etas_:\n",
    "        print 'eta={}'.format(eta)\n",
    "        filename = \"{}/trajectory_{:.4f}.gsd\".format(file_base, eta)\n",
    "        frames = ReadGSD(filename, shuffle_data=True, randomize=False)\n",
    "        \n",
    "        frames_split = array_split(frames, split)\n",
    "        frames = None\n",
    "        count = 0\n",
    "        for frames_partial in frames_split:\n",
    "            #features_partial = TrajectoryToFeatures(frames_partial, \n",
    "            #                                        N_nn=N_nn, \n",
    "            #                                        method=method, \n",
    "            #                                        particle_inc=particle_inc, \n",
    "            #                                        nn_inc=nn_inc)\n",
    "            \n",
    "\n",
    "            #if eta > 0.8200:\n",
    "            #    N_nni=N_nn2; particle_inci=particle_inc2; nn_inci=nn_inc2;\n",
    "            #else:\n",
    "            N_nni=N_nn; particle_inci=particle_inc; nn_inci=nn_inc;\n",
    "                \n",
    "            frames_partial=frames_partial[::frame_skip]\n",
    "               \n",
    "            features_partial = TrajectoryToFeaturesBatch(frames_partial, N_nn=N_nni, method=method, \n",
    "                                                         particle_inc=particle_inci, nn_inc=nn_inci,N_batch=N_batch)\n",
    "            \n",
    "            #wp:project *hard disk* features onto ig eigenvectors\n",
    "            incpca.partial_fit(incpca_ig.transform(features_partial))\n",
    "            #count = count + 1\n",
    "            #print count\n",
    "        clear_output()\n",
    "        frames_split = None\n",
    "        #features_partial_ellipse.append(features_partial)"
   ]
  },
  {
   "cell_type": "markdown",
   "metadata": {},
   "source": [
    "### System train without ideal gas correction"
   ]
  },
  {
   "cell_type": "code",
   "execution_count": 30,
   "metadata": {},
   "outputs": [],
   "source": [
    "########wp: System fit *without ideal gas*\n",
    "incpca = IncrementalPCA(n_components=n_components , whiten=False)\n",
    "\n",
    "frames = None\n",
    "features = None\n",
    "split_features = None\n",
    "\n",
    "split=1\n",
    "for etas_, file_base in file_data:\n",
    "    for eta in etas_:\n",
    "        print 'eta={}'.format(eta)\n",
    "        filename = \"{}/trajectory_{:.4f}.gsd\".format(file_base, eta)\n",
    "        frames = ReadGSD(filename, shuffle_data=True, randomize=False)\n",
    "        \n",
    "        frames_split = array_split(frames, split)\n",
    "        frames = None\n",
    "        count = 0\n",
    "        for frames_partial in frames_split:\n",
    "            #features_partial = TrajectoryToFeatures(frames_partial, \n",
    "            #                                        N_nn=N_nn, \n",
    "            #                                        method=method, \n",
    "            #                                        particle_inc=particle_inc, \n",
    "            #                                        nn_inc=nn_inc)\n",
    "            \n",
    "            frames_partial=frames_partial[::frame_skip]\n",
    "            features_partial = TrajectoryToFeaturesBatchR(frames_partial, \n",
    "                                                    N_nn=N_nn, \n",
    "                                                   method=method, \n",
    "                                                    particle_inc=particle_inc, \n",
    "                                                    nn_inc=nn_inc,N_batch=N_batch)\n",
    "            \n",
    "            #wp: fits pure system features (no idea gas reduction)\n",
    "            incpca.partial_fit(features_partial)\n",
    "            count = count + 1\n",
    "            print \"Frame split: \", count\n",
    "        #wp:resets frame split\n",
    "        clear_output()\n",
    "        frames_split = None"
   ]
  },
  {
   "cell_type": "markdown",
   "metadata": {},
   "source": [
    "# Fitting of models and analysis"
   ]
  },
  {
   "cell_type": "markdown",
   "metadata": {},
   "source": [
    "### Saves trained model to avoid retraining every time as well as memory issues"
   ]
  },
  {
   "cell_type": "code",
   "execution_count": 13,
   "metadata": {},
   "outputs": [
    {
     "data": {
      "text/plain": [
       "['trained_models/kappa_6.0.pca']"
      ]
     },
     "execution_count": 13,
     "metadata": {},
     "output_type": "execute_result"
    }
   ],
   "source": [
    "from sklearn.externals import joblib\n",
    "folder_model='trained_models'\n",
    "model_ig=folder_model+'/kappa_6.0_ig.pca'; model=folder_model+'/kappa_6.0.pca';\n",
    "#wp: Saves model as file\n",
    "#ideal gas trained model\n",
    "joblib.dump(incpca_ig,model_ig)\n",
    "#full trained model\n",
    "joblib.dump(incpca,model)"
   ]
  },
  {
   "cell_type": "markdown",
   "metadata": {},
   "source": [
    "### Loads saved models"
   ]
  },
  {
   "cell_type": "code",
   "execution_count": 9,
   "metadata": {},
   "outputs": [],
   "source": [
    "from sklearn.externals import joblib\n",
    "#paths to where models are located\n",
    "folder_model='trained_models'\n",
    "model_ig=folder_model+'/kappa_6.0_ig.pca'; \n",
    "model=folder_model+'/kappa_6.0.pca';\n",
    "\n",
    "incpca_ig=joblib.load(model_ig);\n",
    "incpca=joblib.load(model);"
   ]
  },
  {
   "cell_type": "markdown",
   "metadata": {},
   "source": [
    "### Compute the order parameters based on two nested models"
   ]
  },
  {
   "cell_type": "code",
   "execution_count": 10,
   "metadata": {},
   "outputs": [],
   "source": [
    "frames = None\n",
    "features = None\n",
    "raw_OPs = []\n",
    "#split=1\n",
    "\n",
    "for etas_, file_base in file_data:\n",
    "    for eta in etas_:\n",
    "        print 'eta={}'.format(eta)\n",
    "        filename = \"{}/trajectory_{:.4f}.gsd\".format(file_base, eta)\n",
    "        #wp: randomize undefined here?\n",
    "        frames = ReadGSD(filename, shuffle_data=True, randomize=False)\n",
    "        \n",
    "        frames_split = array_split(frames, split)\n",
    "        frames = None\n",
    "        count = 0\n",
    "        means = []\n",
    "        raw_OPs_single = []\n",
    "        for frames_partial in frames_split:\n",
    "            #features_partial = TrajectoryToFeatures(frames_partial, \n",
    "            #                                        N_nn=N_nn, \n",
    "            #                                        method=method, \n",
    "            #                                        particle_inc=particle_inc,            \n",
    "            #                                       nn_inc=nn_inc)\n",
    "            \n",
    "            N_nni=N_nn; particle_inci=particle_inc; nn_inci=nn_inc;\n",
    "                \n",
    "            frames_partial=frames_partial[::frame_skip]\n",
    "            #frames_partial=frames_partial[0:50]\n",
    "        \n",
    "            features_partial = TrajectoryToFeaturesBatch(frames_partial, N_nn=N_nni, method=method, \n",
    "                                                         particle_inc=particle_inci, nn_inc=nn_inci,N_batch=N_batch)\n",
    "            \n",
    "            #wp: This returns the 'Z=X*U' matrix with mxn dimensions, where m=samples and n=feature vectors\n",
    "            transformed_features_partial = incpca.transform(incpca_ig.transform(features_partial))\n",
    "            #transformed_features_partial = incpca_ig.transform(features_partial)\n",
    "            #wp:No ideal gas correction\n",
    "            #transformed_features_partial = incpca.transform(features_partial)\n",
    "            raw_OPs_single.append(transformed_features_partial)\n",
    "            #count = count + 1\n",
    "            #print count\n",
    "        clear_output()\n",
    "        raw_OPs.append(raw_OPs_single)  "
   ]
  },
  {
   "cell_type": "markdown",
   "metadata": {},
   "source": [
    "### Compute order parameter stats"
   ]
  },
  {
   "cell_type": "code",
   "execution_count": 11,
   "metadata": {},
   "outputs": [],
   "source": [
    "from numpy import array, mean, std, abs, asarray"
   ]
  },
  {
   "cell_type": "code",
   "execution_count": 12,
   "metadata": {},
   "outputs": [],
   "source": [
    "OPs = []\n",
    "OPs_std = []\n",
    "OPs_abs = []\n",
    "\n",
    "for single_eta in raw_OPs:\n",
    "    merged_data = []\n",
    "    \n",
    "    #wp: here single_eta is just the feature vector of samples; the for loop below extracts it as array 'split'\n",
    "    for split_eta in single_eta:\n",
    "        merged_data.extend(split_eta)\n",
    "\n",
    "    #wp: averages over all samples m\n",
    "    OPs.append(mean((split_eta), axis=0))\n",
    "    OPs_std.append(std(split_eta, axis=0))\n",
    "    OPs_abs.append(mean(abs(split_eta), axis=0))\n",
    "\n",
    "OPs = array(OPs)\n",
    "OPs_std = array(OPs_std)\n",
    "OPs_abs = array(OPs_abs)"
   ]
  },
  {
   "cell_type": "code",
   "execution_count": 13,
   "metadata": {},
   "outputs": [
    {
     "name": "stdout",
     "output_type": "stream",
     "text": [
      "The feature matrix input for each eta is of dimensions 15000 300\n",
      "Number of rows:  49\n",
      "Array size for each eta:  (15000, 300)\n",
      "[-12.80131123   1.79004021  -0.90203643   1.64709942  -1.03173597\n",
      "   0.58441785   0.32979468   0.95960179  -0.0252967   -0.40452592\n",
      "   0.85227722   0.02499755   0.83308772   0.43748513   0.17451508\n",
      "  -1.77619915   0.23251358  -1.81038242   0.40845635   0.01417756\n",
      "   1.51857249  -0.35313561   0.81955166  -0.23686775  -2.56693751\n",
      "  -0.38621321  -0.36115671   1.95044519  -0.11451782   0.0213907\n",
      "  -1.29780171   0.15523541  -0.07347703  -1.24899401  -0.07482976\n",
      "  -0.46536573   1.25980158  -1.09548178  -0.50775375  -0.30392873\n",
      "  -0.3027295   -1.49420139  -1.20078198  -1.64181315   0.70877878\n",
      "   0.11904293  -1.45501507   0.21035072   1.32634135  -1.24284462\n",
      "   1.06402874  -0.25972424   0.35155214   0.28923806   0.36813365\n",
      "   1.74139517   1.48083557  -1.09952718   1.05056086  -0.4963036\n",
      "   1.63538774  -0.51433718  -0.18266404  -0.06778668  -0.85083073\n",
      "   0.68818466   2.20957276  -1.72091356   0.32851057  -0.1021179\n",
      "  -0.67607442  -0.84136505   0.51269692   0.12453611  -2.42276532\n",
      "  -0.63088846   0.7281614    0.60862824   0.47636708  -0.77352061\n",
      "   0.07679277  -0.1350738   -0.59615249  -0.30819773   0.06599488\n",
      "   0.81196508  -1.43925316   1.37610878  -0.32135064  -1.30843461\n",
      "   0.63814916  -1.2295276    0.01518961  -1.16891051  -0.55408675\n",
      "   0.29474663   0.07350019  -0.41165689  -1.97386213  -1.39875579\n",
      "  -2.27293597  -0.16589809   0.06732984   1.63677889   0.38793076\n",
      "   0.31383814   0.72284381  -0.24517469  -0.58598593  -0.44509729\n",
      "   0.10315749   0.87594811  -1.1626458   -1.23402003   0.23201264\n",
      "   0.90755327  -1.83712268   0.71551445   0.01678398   0.65686479\n",
      "  -0.07949795   0.26100429   0.52075995  -0.53265863  -0.55256403\n",
      "   0.7954914    0.29550275  -0.96859508  -0.61303525  -1.06297155\n",
      "   1.32818845   0.80226386  -0.1609205    0.57910606   0.3244968\n",
      "   0.10234702  -0.76240445   1.84451452  -1.75780222  -1.44344205\n",
      "   1.49858828  -0.27864462   1.30411904  -0.69677138  -1.78740072\n",
      "  -1.17359769   1.20714716   0.82339431   2.18968559   0.42083297\n",
      "   0.14603233   0.61756142  -1.1575309    0.46377506  -1.03069283\n",
      "  -1.84254492   0.92794612   0.29888493  -1.22426169   0.1672702\n",
      "  -1.32220987   0.92035071  -0.25866374   0.68567068   0.29059913\n",
      "   0.4061285   -0.30890174  -0.5758603    0.26015071  -1.79082768\n",
      "   0.51733182  -0.79159926   0.42566274   1.26568489  -1.65860771\n",
      "  -0.16285812  -0.30069989  -0.1490099    1.28616583   0.47410153\n",
      "   0.68644604   0.24670499   0.06566397   0.23805593   1.05371964\n",
      "  -0.24887934   1.12634962  -0.41803007   1.17603526  -0.58712494\n",
      "  -0.187996    -0.10022348   1.57654324   1.08499959   0.63112928\n",
      "   0.60349637   2.12910962   0.86322753   0.28622968   1.03339076\n",
      "  -1.08634352   1.45275806  -0.45512536   1.750121    -0.16772339\n",
      "  -1.21313674  -0.19091935   1.77216379  -1.38288644   0.26752095\n",
      "   0.38228891   0.70693837   2.19605832  -0.0445108   -1.01404681\n",
      "   0.89265839   0.04090146   0.10685876   1.12224545   0.36693822\n",
      "   1.47015832  -0.24334354  -0.11351862   0.29558435   0.48783096\n",
      "   0.1024676   -0.70287467   0.30058463   0.41130919   0.03337386\n",
      "  -0.85498018  -0.9047827    0.94315657  -0.60353322  -0.43902179\n",
      "   1.05466201  -0.98310957   0.11696712   0.15655984   0.59787364\n",
      "  -0.93092709  -0.57759616   0.81639922   1.49483872  -1.03569283\n",
      "   1.69423621  -1.33515965  -2.59631363  -2.27085106  -0.3935674\n",
      "  -1.24473283   1.31421226   1.30042975   1.36418016   1.05098843\n",
      "  -0.14823121   1.36980293   0.97559058  -1.05980147   1.35481531\n",
      "  -1.14841312   1.17331797   0.60071661   0.76412998  -0.2014907\n",
      "  -0.72662387   0.57936267  -1.65000798  -0.76643786   0.07600191\n",
      "  -0.54056501  -0.6964763   -0.13130676   1.33929463   0.05799297\n",
      "   0.57173593   1.42819274   1.27174438   0.76426368   1.76374148\n",
      "   0.43945279  -0.07602508   0.03969359  -0.64197347  -1.36960788\n",
      "  -0.02876039   0.92793506   2.07941812   0.16526246  -0.88956948\n",
      "   1.43208575   0.19105778   1.33409903   1.65752786   0.39641229\n",
      "   0.52396396  -0.79839268   0.24424414   1.18704599   0.11585157]\n",
      "Shape of average order parameter (49, 300)\n"
     ]
    },
    {
     "ename": "NameError",
     "evalue": "name 'plt' is not defined",
     "output_type": "error",
     "traceback": [
      "\u001b[0;31m\u001b[0m",
      "\u001b[0;31mNameError\u001b[0mTraceback (most recent call last)",
      "\u001b[0;32m<ipython-input-13-c7c494c0fd0f>\u001b[0m in \u001b[0;36m<module>\u001b[0;34m()\u001b[0m\n\u001b[1;32m     20\u001b[0m \u001b[0;34m\u001b[0m\u001b[0m\n\u001b[1;32m     21\u001b[0m \u001b[0;32mfor\u001b[0m \u001b[0mi\u001b[0m \u001b[0;32min\u001b[0m \u001b[0mrange\u001b[0m\u001b[0;34m(\u001b[0m\u001b[0mlen\u001b[0m\u001b[0;34m(\u001b[0m\u001b[0mraw_OP_samples\u001b[0m\u001b[0;34m)\u001b[0m\u001b[0;34m)\u001b[0m\u001b[0;34m:\u001b[0m\u001b[0;34m\u001b[0m\u001b[0m\n\u001b[0;32m---> 22\u001b[0;31m     \u001b[0mplt\u001b[0m\u001b[0;34m.\u001b[0m\u001b[0mplot\u001b[0m\u001b[0;34m(\u001b[0m\u001b[0metas\u001b[0m\u001b[0;34m,\u001b[0m\u001b[0mraw_OP_samples\u001b[0m\u001b[0;34m[\u001b[0m\u001b[0mi\u001b[0m\u001b[0;34m]\u001b[0m\u001b[0;34m,\u001b[0m \u001b[0;34m'o-'\u001b[0m\u001b[0;34m)\u001b[0m\u001b[0;34m\u001b[0m\u001b[0m\n\u001b[0m",
      "\u001b[0;31mNameError\u001b[0m: name 'plt' is not defined"
     ]
    }
   ],
   "source": [
    "#wp:figuring things out...\n",
    "print \"The feature matrix input for each eta is of dimensions\",len(features_partial),len(features_partial[0])\n",
    "\n",
    "eta_index=0\n",
    "print \"Number of rows: \", len(raw_OPs)\n",
    "print \"Array size for each eta: \", raw_OPs[eta_index][0].shape\n",
    "print raw_OPs[eta_index][0][0]\n",
    "\n",
    "raw_OP_sample=[]\n",
    "raw_OP_samples=[]\n",
    "samplenum=20\n",
    "for mi in range(samplenum):\n",
    "    for eta_index in range(len(raw_OPs)):\n",
    "        raw_OP_sample.append(raw_OPs[eta_index][0][mi][0])\n",
    "    raw_OP_samples.append(asarray(raw_OP_sample))\n",
    "    raw_OP_sample=[]\n",
    "\n",
    "#wp: for the averaged value\n",
    "print \"Shape of average order parameter\", OPs.shape\n",
    "\n",
    "for i in range(len(raw_OP_samples)):\n",
    "    plt.plot(etas,raw_OP_samples[i], 'o-')"
   ]
  },
  {
   "cell_type": "markdown",
   "metadata": {
    "collapsed": true
   },
   "source": [
    "---"
   ]
  },
  {
   "cell_type": "markdown",
   "metadata": {
    "collapsed": true
   },
   "source": [
    "## Check out the results of PCA"
   ]
  },
  {
   "cell_type": "code",
   "execution_count": 14,
   "metadata": {},
   "outputs": [],
   "source": [
    "import matplotlib.pyplot as plt\n",
    "import numpy as np\n",
    "from random import randint"
   ]
  },
  {
   "cell_type": "code",
   "execution_count": 15,
   "metadata": {},
   "outputs": [
    {
     "data": {
      "text/plain": [
       "[<matplotlib.lines.Line2D at 0x7fbc38c63050>]"
      ]
     },
     "execution_count": 15,
     "metadata": {},
     "output_type": "execute_result"
    },
    {
     "data": {
      "image/png": "[encoded data removed]",
      "text/plain": [
       "<Figure size 432x288 with 1 Axes>"
      ]
     },
     "metadata": {},
     "output_type": "display_data"
    }
   ],
   "source": [
    "####wp: Comparing the component variance for the hard disk and ideal gas system\n",
    "import matplotlib.pyplot as plt\n",
    "import numpy as np\n",
    "\n",
    "plt.plot(incpca.explained_variance_ratio_,marker='o')\n",
    "plt.plot(incpca_ig.explained_variance_ratio_,marker='^')\n",
    "\n",
    "#plt.ylim(-0.1,0.1)\n"
   ]
  },
  {
   "cell_type": "markdown",
   "metadata": {},
   "source": [
    "### Explained variance"
   ]
  },
  {
   "cell_type": "code",
   "execution_count": 16,
   "metadata": {},
   "outputs": [
    {
     "name": "stderr",
     "output_type": "stream",
     "text": [
      "/home/pineros/programs/local/miniconda2/lib/python2.7/site-packages/matplotlib/font_manager.py:1339: UserWarning: findfont: Font family [u'arial'] not found. Falling back to DejaVu Sans\n",
      "  (prop.get_family(), self.defaultFamily[fontext]))\n"
     ]
    },
    {
     "data": {
      "image/png": "[encoded data removed]",
      "text/plain": [
       "<Figure size 432x288 with 1 Axes>"
      ]
     },
     "metadata": {},
     "output_type": "display_data"
    }
   ],
   "source": [
    "#plot the principal components\n",
    "colors = 200*['green', 'purple', 'orange', 'teal', 'black', 'red']\n",
    "\n",
    "#plt.plot(incpca.explained_variance_ratio_, marker='o', linewidth=1.0, markersize=12, color = 'red', markerfacecolor='None') \n",
    "plt.plot(incpca.explained_variance_ratio_, marker='o', linewidth=1.0, markersize=5) \n",
    "\n",
    "\n",
    "#backround grid details\n",
    "axes = plt.gca()\n",
    "#axes.grid(b = True, which = 'both', axis = 'both', color = 'gray', linestyle = '-', alpha = 0.5, linewidth = 0.5) \n",
    "#axes.set_axis_bgcolor('white')  \n",
    "\n",
    "#font scpecifications\n",
    "title_font = {'family' : 'arial', 'color'  : 'black', 'weight' : 'heavy','size': 20}\n",
    "axis_label_font = {'family' : 'arial', 'color'  : 'black', 'weight' : 'normal','size': 20}                                                   \n",
    "\n",
    "#figure size and tick style\n",
    "plt.rcParams[\"figure.figsize\"] = [12,12]\n",
    "plt.rc('axes',edgecolor='black',linewidth=1)\n",
    "plt.tick_params(which='both', axis='both', color='black', length=4, width=0.5)\n",
    "plt.rcParams['xtick.direction'] = 'in'\n",
    "plt.rcParams['ytick.direction'] = 'in'\n",
    "plt.yscale('log')\n",
    "plt.xlim([-0.5,30.5]); plt.ylim([1e-3,1])\n",
    "\n",
    "#plt.yscale('log')\n",
    "#!!!wp: Why eta? #Shouldn't be features?\n",
    "plt.xlabel(r'k', y=3, fontsize=40, fontdict = axis_label_font)\n",
    "plt.ylabel(r'$\\lambda_k$', fontsize=40, fontdict = axis_label_font)\n",
    "\n",
    "#title and axis labels\n",
    "plt.tick_params(axis='both', labelsize=30)\n",
    "plt.tight_layout()\n",
    "#plt.title('Explained variance for principal components', y=1.05, fontdict = title_font)\n",
    "\n",
    "#saves\n",
    "#plt.savefig('figures/OP_variance_orientation_4_3N.svg')\n",
    "plt.show()"
   ]
  },
  {
   "cell_type": "markdown",
   "metadata": {},
   "source": [
    "### Principal component weights"
   ]
  },
  {
   "cell_type": "code",
   "execution_count": 17,
   "metadata": {},
   "outputs": [],
   "source": [
    "from numpy import dot\n",
    "components = dot(incpca.components_, incpca_ig.components_)\n",
    "components_ig = incpca_ig.components_\n",
    "#components = incpca.components_"
   ]
  },
  {
   "cell_type": "code",
   "execution_count": 18,
   "metadata": {},
   "outputs": [
    {
     "data": {
      "image/png": "[encoded data removed]",
      "text/plain": [
       "<Figure size 864x864 with 1 Axes>"
      ]
     },
     "metadata": {},
     "output_type": "display_data"
    }
   ],
   "source": [
    "#plot the principal components\n",
    "#colors = 200*['green', 'purple', 'orange', 'teal', 'black', 'red']\n",
    "for i in range(0,1):\n",
    "    p_data = components[i]\n",
    "    #plt.plot(range(len(p_data)), p_data, marker='o', linewidth = 1.0, markersize=5, color = colors[i])\n",
    "    plt.plot(range(len(p_data)), p_data, marker='o', linewidth = 1.0, markersize=5)\n",
    "    #p_data = components_ig[i]\n",
    "    #plt.plot(range(len(p_data)), p_data, marker='^', linewidth = 1.0, markersize=5, color = colors[i])  \n",
    "  \n",
    "\n",
    "#backround grid details\n",
    "axes = plt.gca()\n",
    "#axes.grid(b = True, which = 'both', axis = 'both', color = 'gray', linestyle = '-', alpha = 0.5, linewidth = 0.5) \n",
    "#axes.set_axis_bgcolor('white')  \n",
    "\n",
    "#font scpecifications\n",
    "title_font = {'family' : 'arial', 'color'  : 'black', 'weight' : 'heavy','size': 20}\n",
    "axis_label_font = {'family' : 'arial', 'color'  : 'black', 'weight' : 'normal','size': 20}                                                   \n",
    "\n",
    "#figure size and tick style\n",
    "plt.rcParams[\"figure.figsize\"] = [12,12]\n",
    "plt.rc('axes',edgecolor='black',linewidth=1)\n",
    "plt.tick_params(which='both', axis='both', color='black', length=4, width=0.5)\n",
    "plt.rcParams['xtick.direction'] = 'in'\n",
    "plt.rcParams['ytick.direction'] = 'in'\n",
    "\n",
    "\n",
    "#axis range and labels (also specify if log or not)\n",
    "#plt.xlim(0.1,100)\n",
    "\n",
    "#plt.yscale('log')\n",
    "plt.xlabel(r'$j$', y=3, fontsize=40, fontdict = axis_label_font)\n",
    "plt.ylabel(r'$\\mathbf{w^{(0)}_1}$', fontsize=40, fontdict = axis_label_font)\n",
    "\n",
    "#title and axis labels\n",
    "plt.tick_params(axis='both', labelsize=25)\n",
    "#plt.title('PCA feature weights', y=1.05, fontdict = title_font)\n",
    "\n",
    "#save figure\n",
    "fig=plt.figure(1)\n",
    "plt.tight_layout()\n",
    "#plt.savefig('figures/OP_orientation_batch_kappa_4_weights.svg',dpi=fig.dpi)\n",
    "\n",
    "plt.show()"
   ]
  },
  {
   "cell_type": "markdown",
   "metadata": {},
   "source": [
    "### Order parameters"
   ]
  },
  {
   "cell_type": "code",
   "execution_count": 20,
   "metadata": {},
   "outputs": [
    {
     "data": {
      "image/png": "[encoded data removed]",
      "text/plain": [
       "<Figure size 864x576 with 1 Axes>"
      ]
     },
     "metadata": {},
     "output_type": "display_data"
    }
   ],
   "source": [
    "#plot the principal components\n",
    "colors = 200*['green', 'purple', 'orange', 'teal', 'black', 'red']\n",
    "for i in range(0,1): #12,13\n",
    "    #p_data = (OPs[:,i]-OPs[0,i])/max(OPs[:,i]-OPs[0,i])\n",
    "    #p_data = OPs[:,i]\n",
    "    #plt.plot(etas, (p_data), marker='o', linewidth = 1.0, markersize=10, color = colors[i], markerfacecolor='None')\n",
    "    p_data = OPs_std[:,i]/max(OPs_std[:,i])\n",
    "    #plt.plot(etas, (p_data), marker='^', linewidth = 1.0, markersize=12, color = colors[i])\n",
    "    #p_data = OPs_abs[:,i]\n",
    "    plt.plot(etas, (p_data), marker='.', linewidth = 1.0, markersize=10, color = colors[i])\n",
    "\n",
    "#backround grid details\n",
    "axes = plt.gca()\n",
    "axes.grid(b = True, which = 'both', axis = 'both', color = 'gray', linestyle = '-', alpha = 0.5, linewidth = 0.5) \n",
    "\n",
    "\n",
    "#figure size and tick style\n",
    "plt.rcParams[\"figure.figsize\"] = [12,8]\n",
    "plt.rc('axes',edgecolor='black',linewidth=1)\n",
    "plt.tick_params(which='both', axis='both', color='black', length=4, width=0.5)\n",
    "plt.rcParams['xtick.direction'] = 'in'\n",
    "plt.rcParams['ytick.direction'] = 'in'\n",
    "\n",
    "#axis range and labels (also specify if log or not)\n",
    "#plt.xlim(0.60, 0.84)\n",
    "\n",
    "#plt.yscale('log')\n",
    "plt.xlabel(r'$\\eta$', y=3, fontsize=20, fontdict = axis_label_font)\n",
    "plt.ylabel(r'$\\langle P_{i} \\rangle$ and $\\langle |P_{i}| \\rangle$', fontsize=20, fontdict = axis_label_font)\n",
    "\n",
    "#title and axis labels\n",
    "plt.tick_params(axis='both', labelsize=20)\n",
    "plt.title('PCA ellipsoids', y=1.05, fontdict = title_font)\n",
    "plt.minorticks_on()\n",
    "\n",
    "#save figure\n",
    "fig=plt.figure(1)\n",
    "plt.tight_layout()\n",
    "#plt.savefig('figures/OP_orientation_batch_kappa_4_ave_std.svg',dpi=fig.dpi)\n",
    "\n",
    "plt.show()"
   ]
  },
  {
   "cell_type": "markdown",
   "metadata": {},
   "source": [
    "### Save OPs"
   ]
  },
  {
   "cell_type": "code",
   "execution_count": 21,
   "metadata": {},
   "outputs": [],
   "source": [
    "#Append eta ranges\n",
    "etas2=etas.reshape(etas.shape[0],1)\n",
    "\n",
    "#etas2=etas[...,None] #wp: works just as fine\n",
    "OPsave=np.concatenate((etas2,OPs),1)\n",
    "\n",
    "#save to txt file\n",
    "np.savetxt('OPs_kappa6_30k_300_3N.dat',OPsave)\n",
    "np.savetxt('OPs_kappa6_30k_300_std_3N.dat',OPs_std)"
   ]
  },
  {
   "cell_type": "code",
   "execution_count": null,
   "metadata": {},
   "outputs": [],
   "source": []
  }
 ],
 "metadata": {
  "kernelspec": {
   "display_name": "Python 2",
   "language": "python",
   "name": "python2"
  },
  "language_info": {
   "codemirror_mode": {
    "name": "ipython",
    "version": 2
   },
   "file_extension": ".py",
   "mimetype": "text/x-python",
   "name": "python",
   "nbconvert_exporter": "python",
   "pygments_lexer": "ipython2",
   "version": "2.7.14"
  }
 },
 "nbformat": 4,
 "nbformat_minor": 2
}
